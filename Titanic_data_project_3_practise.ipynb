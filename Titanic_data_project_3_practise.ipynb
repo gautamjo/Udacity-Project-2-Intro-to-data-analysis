{
 "cells": [
  {
   "cell_type": "code",
   "execution_count": 1,
   "metadata": {
    "collapsed": true
   },
   "outputs": [],
   "source": [
    "import pandas as pd\n",
    "import numpy as np\n",
    "from numpy import random\n",
    "from scipy import stats\n",
    "import matplotlib.pyplot as plt\n",
    "from pylab import *\n",
    "import seaborn as sns\n",
    "sns.set_style('whitegrid')\n",
    "%matplotlib inline"
   ]
  },
  {
   "cell_type": "markdown",
   "metadata": {},
   "source": [
    "<b><i>Steps of data analysis</i></b>\n",
    "<ul><li>Ask questions</li>\n",
    "<li>Wrangle<ul><li>Data acquisition</li><li>Data cleaning</li></ul></li>\n",
    "<li>Exploration</li>\n",
    "<li>Draw Conclution</li>\n",
    "<li>Communicate</li>\n",
    "</ul>"
   ]
  },
  {
   "cell_type": "code",
   "execution_count": 2,
   "metadata": {
    "collapsed": true
   },
   "outputs": [],
   "source": [
    "#I need to follow these steps:\n",
    "# Check Data: Load data. Go through it. Understand what is it about?  \n",
    "# How many variables are there?\n",
    "# What kind of questions it posses?\n",
    "# Does it require cleaning? \n",
    "# How can I explore the data?\n",
    "# How can I communicate what I find?"
   ]
  },
  {
   "cell_type": "code",
   "execution_count": 3,
   "metadata": {
    "collapsed": true
   },
   "outputs": [],
   "source": [
    "# Lets load the data and have a look"
   ]
  },
  {
   "cell_type": "code",
   "execution_count": 4,
   "metadata": {
    "collapsed": false
   },
   "outputs": [
    {
     "name": "stdout",
     "output_type": "stream",
     "text": [
      "2D_numpy_arrays_and_dataframes.ipynb   enrollments.csv\r\n",
      "Cluster_chart.ipynb                    female_completion_rate.csv\r\n",
      "Data_exploration_practise.ipynb        gdp_per_capita.csv\r\n",
      "Numpy_and_Pandas_for_1D_data.ipynb     life_expectancy.csv\r\n",
      "Titanic_data_project_3_practise.ipynb  male_completion_rate.csv\r\n",
      "Untitled.ipynb                         \u001b[31mmatches.csv\u001b[m\u001b[m*\r\n",
      "daily_engagement.csv                   numpy_pandas_cheatsheet.pdf\r\n",
      "daily_engagement_full.csv              nyc_subway_weather.csv\r\n",
      "data_analysis_practise.ipynb           nyc_subway_weather_descriptions.pdf\r\n",
      "\u001b[31mdeliveries.csv\u001b[m\u001b[m*                        project_submissions.csv\r\n",
      "employment_above_15.csv                train.csv\r\n"
     ]
    }
   ],
   "source": [
    "ls"
   ]
  },
  {
   "cell_type": "code",
   "execution_count": 2,
   "metadata": {
    "collapsed": false
   },
   "outputs": [],
   "source": [
    "# load dataset\n",
    "titanic_dataset = pd.read_csv(\"train.csv\")"
   ]
  },
  {
   "cell_type": "code",
   "execution_count": 3,
   "metadata": {
    "collapsed": false
   },
   "outputs": [
    {
     "data": {
      "text/html": [
       "<div>\n",
       "<table border=\"1\" class=\"dataframe\">\n",
       "  <thead>\n",
       "    <tr style=\"text-align: right;\">\n",
       "      <th></th>\n",
       "      <th>PassengerId</th>\n",
       "      <th>Survived</th>\n",
       "      <th>Pclass</th>\n",
       "      <th>Name</th>\n",
       "      <th>Sex</th>\n",
       "      <th>Age</th>\n",
       "      <th>SibSp</th>\n",
       "      <th>Parch</th>\n",
       "      <th>Ticket</th>\n",
       "      <th>Fare</th>\n",
       "      <th>Cabin</th>\n",
       "      <th>Embarked</th>\n",
       "    </tr>\n",
       "  </thead>\n",
       "  <tbody>\n",
       "    <tr>\n",
       "      <th>0</th>\n",
       "      <td>1</td>\n",
       "      <td>0</td>\n",
       "      <td>3</td>\n",
       "      <td>Braund, Mr. Owen Harris</td>\n",
       "      <td>male</td>\n",
       "      <td>22.0</td>\n",
       "      <td>1</td>\n",
       "      <td>0</td>\n",
       "      <td>A/5 21171</td>\n",
       "      <td>7.2500</td>\n",
       "      <td>NaN</td>\n",
       "      <td>S</td>\n",
       "    </tr>\n",
       "    <tr>\n",
       "      <th>1</th>\n",
       "      <td>2</td>\n",
       "      <td>1</td>\n",
       "      <td>1</td>\n",
       "      <td>Cumings, Mrs. John Bradley (Florence Briggs Th...</td>\n",
       "      <td>female</td>\n",
       "      <td>38.0</td>\n",
       "      <td>1</td>\n",
       "      <td>0</td>\n",
       "      <td>PC 17599</td>\n",
       "      <td>71.2833</td>\n",
       "      <td>C85</td>\n",
       "      <td>C</td>\n",
       "    </tr>\n",
       "    <tr>\n",
       "      <th>2</th>\n",
       "      <td>3</td>\n",
       "      <td>1</td>\n",
       "      <td>3</td>\n",
       "      <td>Heikkinen, Miss. Laina</td>\n",
       "      <td>female</td>\n",
       "      <td>26.0</td>\n",
       "      <td>0</td>\n",
       "      <td>0</td>\n",
       "      <td>STON/O2. 3101282</td>\n",
       "      <td>7.9250</td>\n",
       "      <td>NaN</td>\n",
       "      <td>S</td>\n",
       "    </tr>\n",
       "    <tr>\n",
       "      <th>3</th>\n",
       "      <td>4</td>\n",
       "      <td>1</td>\n",
       "      <td>1</td>\n",
       "      <td>Futrelle, Mrs. Jacques Heath (Lily May Peel)</td>\n",
       "      <td>female</td>\n",
       "      <td>35.0</td>\n",
       "      <td>1</td>\n",
       "      <td>0</td>\n",
       "      <td>113803</td>\n",
       "      <td>53.1000</td>\n",
       "      <td>C123</td>\n",
       "      <td>S</td>\n",
       "    </tr>\n",
       "    <tr>\n",
       "      <th>4</th>\n",
       "      <td>5</td>\n",
       "      <td>0</td>\n",
       "      <td>3</td>\n",
       "      <td>Allen, Mr. William Henry</td>\n",
       "      <td>male</td>\n",
       "      <td>35.0</td>\n",
       "      <td>0</td>\n",
       "      <td>0</td>\n",
       "      <td>373450</td>\n",
       "      <td>8.0500</td>\n",
       "      <td>NaN</td>\n",
       "      <td>S</td>\n",
       "    </tr>\n",
       "  </tbody>\n",
       "</table>\n",
       "</div>"
      ],
      "text/plain": [
       "   PassengerId  Survived  Pclass  \\\n",
       "0            1         0       3   \n",
       "1            2         1       1   \n",
       "2            3         1       3   \n",
       "3            4         1       1   \n",
       "4            5         0       3   \n",
       "\n",
       "                                                Name     Sex   Age  SibSp  \\\n",
       "0                            Braund, Mr. Owen Harris    male  22.0      1   \n",
       "1  Cumings, Mrs. John Bradley (Florence Briggs Th...  female  38.0      1   \n",
       "2                             Heikkinen, Miss. Laina  female  26.0      0   \n",
       "3       Futrelle, Mrs. Jacques Heath (Lily May Peel)  female  35.0      1   \n",
       "4                           Allen, Mr. William Henry    male  35.0      0   \n",
       "\n",
       "   Parch            Ticket     Fare Cabin Embarked  \n",
       "0      0         A/5 21171   7.2500   NaN        S  \n",
       "1      0          PC 17599  71.2833   C85        C  \n",
       "2      0  STON/O2. 3101282   7.9250   NaN        S  \n",
       "3      0            113803  53.1000  C123        S  \n",
       "4      0            373450   8.0500   NaN        S  "
      ]
     },
     "execution_count": 3,
     "metadata": {},
     "output_type": "execute_result"
    }
   ],
   "source": [
    "# Preview the first 5 rows\n",
    "titanic_dataset.head()"
   ]
  },
  {
   "cell_type": "code",
   "execution_count": 4,
   "metadata": {
    "collapsed": false
   },
   "outputs": [
    {
     "data": {
      "text/html": [
       "<div>\n",
       "<table border=\"1\" class=\"dataframe\">\n",
       "  <thead>\n",
       "    <tr style=\"text-align: right;\">\n",
       "      <th></th>\n",
       "      <th>PassengerId</th>\n",
       "      <th>Survived</th>\n",
       "      <th>Pclass</th>\n",
       "      <th>Name</th>\n",
       "      <th>Sex</th>\n",
       "      <th>Age</th>\n",
       "      <th>SibSp</th>\n",
       "      <th>Parch</th>\n",
       "      <th>Ticket</th>\n",
       "      <th>Fare</th>\n",
       "      <th>Cabin</th>\n",
       "      <th>Embarked</th>\n",
       "    </tr>\n",
       "  </thead>\n",
       "  <tbody>\n",
       "    <tr>\n",
       "      <th>886</th>\n",
       "      <td>887</td>\n",
       "      <td>0</td>\n",
       "      <td>2</td>\n",
       "      <td>Montvila, Rev. Juozas</td>\n",
       "      <td>male</td>\n",
       "      <td>27.0</td>\n",
       "      <td>0</td>\n",
       "      <td>0</td>\n",
       "      <td>211536</td>\n",
       "      <td>13.00</td>\n",
       "      <td>NaN</td>\n",
       "      <td>S</td>\n",
       "    </tr>\n",
       "    <tr>\n",
       "      <th>887</th>\n",
       "      <td>888</td>\n",
       "      <td>1</td>\n",
       "      <td>1</td>\n",
       "      <td>Graham, Miss. Margaret Edith</td>\n",
       "      <td>female</td>\n",
       "      <td>19.0</td>\n",
       "      <td>0</td>\n",
       "      <td>0</td>\n",
       "      <td>112053</td>\n",
       "      <td>30.00</td>\n",
       "      <td>B42</td>\n",
       "      <td>S</td>\n",
       "    </tr>\n",
       "    <tr>\n",
       "      <th>888</th>\n",
       "      <td>889</td>\n",
       "      <td>0</td>\n",
       "      <td>3</td>\n",
       "      <td>Johnston, Miss. Catherine Helen \"Carrie\"</td>\n",
       "      <td>female</td>\n",
       "      <td>NaN</td>\n",
       "      <td>1</td>\n",
       "      <td>2</td>\n",
       "      <td>W./C. 6607</td>\n",
       "      <td>23.45</td>\n",
       "      <td>NaN</td>\n",
       "      <td>S</td>\n",
       "    </tr>\n",
       "    <tr>\n",
       "      <th>889</th>\n",
       "      <td>890</td>\n",
       "      <td>1</td>\n",
       "      <td>1</td>\n",
       "      <td>Behr, Mr. Karl Howell</td>\n",
       "      <td>male</td>\n",
       "      <td>26.0</td>\n",
       "      <td>0</td>\n",
       "      <td>0</td>\n",
       "      <td>111369</td>\n",
       "      <td>30.00</td>\n",
       "      <td>C148</td>\n",
       "      <td>C</td>\n",
       "    </tr>\n",
       "    <tr>\n",
       "      <th>890</th>\n",
       "      <td>891</td>\n",
       "      <td>0</td>\n",
       "      <td>3</td>\n",
       "      <td>Dooley, Mr. Patrick</td>\n",
       "      <td>male</td>\n",
       "      <td>32.0</td>\n",
       "      <td>0</td>\n",
       "      <td>0</td>\n",
       "      <td>370376</td>\n",
       "      <td>7.75</td>\n",
       "      <td>NaN</td>\n",
       "      <td>Q</td>\n",
       "    </tr>\n",
       "  </tbody>\n",
       "</table>\n",
       "</div>"
      ],
      "text/plain": [
       "     PassengerId  Survived  Pclass                                      Name  \\\n",
       "886          887         0       2                     Montvila, Rev. Juozas   \n",
       "887          888         1       1              Graham, Miss. Margaret Edith   \n",
       "888          889         0       3  Johnston, Miss. Catherine Helen \"Carrie\"   \n",
       "889          890         1       1                     Behr, Mr. Karl Howell   \n",
       "890          891         0       3                       Dooley, Mr. Patrick   \n",
       "\n",
       "        Sex   Age  SibSp  Parch      Ticket   Fare Cabin Embarked  \n",
       "886    male  27.0      0      0      211536  13.00   NaN        S  \n",
       "887  female  19.0      0      0      112053  30.00   B42        S  \n",
       "888  female   NaN      1      2  W./C. 6607  23.45   NaN        S  \n",
       "889    male  26.0      0      0      111369  30.00  C148        C  \n",
       "890    male  32.0      0      0      370376   7.75   NaN        Q  "
      ]
     },
     "execution_count": 4,
     "metadata": {},
     "output_type": "execute_result"
    }
   ],
   "source": [
    "# Preview the last 5 rows\n",
    "titanic_dataset.tail()"
   ]
  },
  {
   "cell_type": "code",
   "execution_count": 5,
   "metadata": {
    "collapsed": false
   },
   "outputs": [
    {
     "data": {
      "text/html": [
       "<div>\n",
       "<table border=\"1\" class=\"dataframe\">\n",
       "  <thead>\n",
       "    <tr style=\"text-align: right;\">\n",
       "      <th></th>\n",
       "      <th>Variable</th>\n",
       "      <th>Definition</th>\n",
       "    </tr>\n",
       "  </thead>\n",
       "  <tbody>\n",
       "    <tr>\n",
       "      <th>0</th>\n",
       "      <td>Survival</td>\n",
       "      <td>Survival (0 = No, 1 = Yes)</td>\n",
       "    </tr>\n",
       "    <tr>\n",
       "      <th>1</th>\n",
       "      <td>pClass</td>\n",
       "      <td>Ticket class (1 = 1st, 2 = 2nd, 3 = 3rd)</td>\n",
       "    </tr>\n",
       "    <tr>\n",
       "      <th>2</th>\n",
       "      <td>Sex</td>\n",
       "      <td>Sex</td>\n",
       "    </tr>\n",
       "    <tr>\n",
       "      <th>3</th>\n",
       "      <td>Age</td>\n",
       "      <td>Age in years</td>\n",
       "    </tr>\n",
       "    <tr>\n",
       "      <th>4</th>\n",
       "      <td>Sibsp</td>\n",
       "      <td># of siblings / spouses aboard the Titanic</td>\n",
       "    </tr>\n",
       "    <tr>\n",
       "      <th>5</th>\n",
       "      <td>Parch</td>\n",
       "      <td># of parents / children aboard the Titanic</td>\n",
       "    </tr>\n",
       "    <tr>\n",
       "      <th>6</th>\n",
       "      <td>Ticket</td>\n",
       "      <td>Ticket number</td>\n",
       "    </tr>\n",
       "    <tr>\n",
       "      <th>7</th>\n",
       "      <td>Fare</td>\n",
       "      <td>Passenger fare</td>\n",
       "    </tr>\n",
       "    <tr>\n",
       "      <th>8</th>\n",
       "      <td>Cabin</td>\n",
       "      <td>Cabin number</td>\n",
       "    </tr>\n",
       "    <tr>\n",
       "      <th>9</th>\n",
       "      <td>Embarked</td>\n",
       "      <td>Port of Embarkation (C = Cherbourg, Q = Queens...</td>\n",
       "    </tr>\n",
       "  </tbody>\n",
       "</table>\n",
       "</div>"
      ],
      "text/plain": [
       "   Variable                                         Definition\n",
       "0  Survival                         Survival (0 = No, 1 = Yes)\n",
       "1    pClass           Ticket class (1 = 1st, 2 = 2nd, 3 = 3rd)\n",
       "2       Sex                                                Sex\n",
       "3       Age                                       Age in years\n",
       "4     Sibsp         # of siblings / spouses aboard the Titanic\n",
       "5     Parch         # of parents / children aboard the Titanic\n",
       "6    Ticket                                      Ticket number\n",
       "7      Fare                                     Passenger fare\n",
       "8     Cabin                                       Cabin number\n",
       "9  Embarked  Port of Embarkation (C = Cherbourg, Q = Queens..."
      ]
     },
     "execution_count": 5,
     "metadata": {},
     "output_type": "execute_result"
    }
   ],
   "source": [
    "# creating an explainer dataframe that defines the variables available in the dataset.\n",
    "definitions = pd.DataFrame({\"Variable\":[\"Survival\", \"pClass\",\"Sex\",\"Age\",\"Sibsp\", \"Parch\", \"Ticket\", \"Fare\", \"Cabin\", \"Embarked\"],\n",
    "                         \"Definition\":[\"Survival (0 = No, 1 = Yes)\", \"Ticket class (1 = 1st, 2 = 2nd, 3 = 3rd)\", \"Sex\", \"Age in years\", \"# of siblings / spouses aboard the Titanic\",\n",
    "                                      \"# of parents / children aboard the Titanic\", \"Ticket number\", \"Passenger fare\", \"Cabin number\",\n",
    "                                      \"Port of Embarkation (C = Cherbourg, Q = Queenstown, S = Southampton)\"]})\n",
    "# change order of the dataframe columns\n",
    "ordered_df = definitions[[\"Variable\", \"Definition\"]]\n",
    "ordered_df"
   ]
  },
  {
   "cell_type": "markdown",
   "metadata": {},
   "source": [
    "<i>Survival: 0 = No, 1 = Yes</i><br>\n",
    "<i>Ticket class: 1 = 1st, 2 = 2nd, 3 = 3rd</i><br>\n",
    "<i>Port of Embarkation: C = Cherbourg, Q = Queenstown, S = Southampton</i>\n",
    "\n",
    "<b>Variable Notes</b>\n",
    "\n",
    "<i>pclass: A proxy for socio-economic status (SES)</i>\n",
    "<i>1st = Upper</i>\n",
    "<i>2nd = Middle</i>\n",
    "<i>3rd = Lower</i>\n",
    "\n",
    "<i>age: Age is fractional if less than 1. If the age is estimated, is it in the form of xx.5</i>\n",
    "\n",
    "<i>sibsp: The dataset defines family relations in this way...</i>\n",
    "<i>Sibling = brother, sister, stepbrother, stepsister</i>\n",
    "<i>Spouse = husband, wife (mistresses and fiancés were ignored)</i>\n",
    "\n",
    "<i>parch: The dataset defines family relations in this way...</i>\n",
    "<i>Parent = mother, father</i>\n",
    "<i>Child = daughter, son, stepdaughter, stepson</i>\n",
    "<i>Some children travelled only with a nanny, therefore parch=0 for them.</i>"
   ]
  },
  {
   "cell_type": "markdown",
   "metadata": {},
   "source": [
    "<ul><b><i>Here are some obvious questions coming to mind:</i></b>\n",
    "<li><i>What was the death toll of passengers aboard Titanic?</i></li>\n",
    "<li><i>How many passengers survived?</i></li>\n",
    "<li><i>What was the ratio of survivers to non survivers?</i></li>\n",
    "<li><i>What was female to male ratio of passengers who died?</i></li>\n",
    "<li><i>What was the female to male surviver ratio?</i></li>\n",
    "<li><i>How many passengers where travelling with siblings or spouses? How many died? How many survived?</i></li>\n",
    "<li><i>How many parents and childeren were on board? How many died? How many survived?</i></li>\n",
    "<li><i>What was ratio of passengers travelling in 1st, 2nd and 3rd class</i></li>\n",
    "<li><i>How many passanger died and survived in each class?</i></li>\n",
    "<li><i>What was the ratio of passengers on the basis of their port of embarkation?</i></li>\n",
    "<li><i>What kind of correlations can be established?</i></li></ul>"
   ]
  },
  {
   "cell_type": "code",
   "execution_count": 6,
   "metadata": {
    "collapsed": false
   },
   "outputs": [
    {
     "name": "stdout",
     "output_type": "stream",
     "text": [
      "['PassengerId', 'Survived', 'Pclass', 'Name', 'Sex', 'Age', 'SibSp', 'Parch', 'Ticket', 'Fare', 'Cabin', 'Embarked']\n"
     ]
    }
   ],
   "source": [
    "# All the available variables in the dataset\n",
    "print(list(titanic_dataset))"
   ]
  },
  {
   "cell_type": "code",
   "execution_count": 7,
   "metadata": {
    "collapsed": false
   },
   "outputs": [
    {
     "data": {
      "text/plain": [
       "(891, 12)"
      ]
     },
     "execution_count": 7,
     "metadata": {},
     "output_type": "execute_result"
    }
   ],
   "source": [
    "# Basic index and column information\n",
    "titanic_dataset.shape\n",
    "# There are 891 rows and 12 columns."
   ]
  },
  {
   "cell_type": "code",
   "execution_count": 8,
   "metadata": {
    "collapsed": false
   },
   "outputs": [
    {
     "name": "stdout",
     "output_type": "stream",
     "text": [
      "<class 'pandas.core.frame.DataFrame'>\n",
      "RangeIndex: 891 entries, 0 to 890\n",
      "Data columns (total 12 columns):\n",
      "PassengerId    891 non-null int64\n",
      "Survived       891 non-null int64\n",
      "Pclass         891 non-null int64\n",
      "Name           891 non-null object\n",
      "Sex            891 non-null object\n",
      "Age            714 non-null float64\n",
      "SibSp          891 non-null int64\n",
      "Parch          891 non-null int64\n",
      "Ticket         891 non-null object\n",
      "Fare           891 non-null float64\n",
      "Cabin          204 non-null object\n",
      "Embarked       889 non-null object\n",
      "dtypes: float64(2), int64(5), object(5)\n",
      "memory usage: 83.6+ KB\n"
     ]
    }
   ],
   "source": [
    "# dataset at a glance.\n",
    "titanic_dataset.info() \n",
    "# An overview of the dataset showing column names and number of rows\n",
    "# in each column. Also shows missing values in the dataset and data types."
   ]
  },
  {
   "cell_type": "code",
   "execution_count": 9,
   "metadata": {
    "collapsed": false
   },
   "outputs": [
    {
     "data": {
      "text/plain": [
       "PassengerId      0\n",
       "Survived         0\n",
       "Pclass           0\n",
       "Name             0\n",
       "Sex              0\n",
       "Age            177\n",
       "SibSp            0\n",
       "Parch            0\n",
       "Ticket           0\n",
       "Fare             0\n",
       "Cabin          687\n",
       "Embarked         2\n",
       "dtype: int64"
      ]
     },
     "execution_count": 9,
     "metadata": {},
     "output_type": "execute_result"
    }
   ],
   "source": [
    "# Check for missing values in each column\n",
    "titanic_dataset.isnull().sum()\n",
    "# Columns Age, Cabin and Embarked show missing values"
   ]
  },
  {
   "cell_type": "markdown",
   "metadata": {},
   "source": [
    "<b>Missing Data</b>"
   ]
  },
  {
   "cell_type": "code",
   "execution_count": 10,
   "metadata": {
    "collapsed": false
   },
   "outputs": [
    {
     "name": "stdout",
     "output_type": "stream",
     "text": [
      "+ - - - - - - - - - - - - - - - - - - - - - - - - - - - - +\n",
      "|  Age data of 20.0% passengers is missing.               |\n",
      "+ - - - - - - - - - - - - - - - - - - - - - - - - - - - - +\n",
      "|  Cabin data of 77.0% passengers is missing.             |\n",
      "+ - - - - - - - - - - - - - - - - - - - - - - - - - - - - +\n",
      "|  Embarked data of 0.22% passengers is missing.          |\n",
      "+ - - - - - - - - - - - - - - - - - - - - - - - - - - - - +\n"
     ]
    }
   ],
   "source": [
    "# Check what percent of data values are missing. \n",
    "def missing_data(dataset):\n",
    "    \"\"\"Returns percentage of missing value from a dataset\"\"\"\n",
    "    missing = round(dataset.isnull().sum()/len(dataset),4)\n",
    "    return missing * 100\n",
    "print(\"+\"+\" -\"* 28 +\" +\")\n",
    "print(\"| \"+\" Age data of {}% passengers is missing.\".format(round(missing_data(titanic_dataset[\"Age\"]))) + \" \" * 15 + \"|\") \n",
    "print(\"+\"+\" -\"* 28 +\" +\")\n",
    "print(\"| \"+\" Cabin data of {}% passengers is missing.\".format(round(missing_data(titanic_dataset[\"Cabin\"]))) + \" \" * 13 + \"|\")     \n",
    "print(\"+\"+\" -\"* 28 +\" +\")\n",
    "print(\"| \"+\" Embarked data of {}% passengers is missing.\".format(missing_data(titanic_dataset[\"Embarked\"])) + \" \" * 10 + \"|\")     \n",
    "print(\"+\"+\" -\"* 28 +\" +\")"
   ]
  },
  {
   "cell_type": "markdown",
   "metadata": {},
   "source": [
    "<i> From the entire roster of 2224 passengers and crew members on board the Titanic, only 40% information is available. Out of that, values are missing within that data as well. However, we will try to fix these missing values later in the analysis.</i>"
   ]
  },
  {
   "cell_type": "markdown",
   "metadata": {},
   "source": [
    "<i>For the time being, lets answer some straight forawrd questions about the information we have:</i><br> \n",
    "<b><i>Of all on board, how many souls survived and how many were lost?</i></b><br>\n",
    "<b><i>Out of those who survived, how many were women and how many were men?</i></b>"
   ]
  },
  {
   "cell_type": "code",
   "execution_count": 11,
   "metadata": {
    "collapsed": false
   },
   "outputs": [
    {
     "name": "stdout",
     "output_type": "stream",
     "text": [
      "+ - - - - - - - - - - - - - - - - - - - - - -  +\n",
      "| Out of 891 passengers, 342 survived 549 died |\n",
      "+ - - - - - - - - - - - - - - - - - - - - - -  +\n"
     ]
    }
   ],
   "source": [
    "# No. of survivors and non-survivors of the incident\n",
    "total_survived = titanic_dataset[\"Survived\"].sum() # sum of rows\n",
    "total_deceased = len(titanic_dataset[\"Survived\"]) - total_survived\n",
    "print(\"+\"+\" -\"* 22 +\"  +\")\n",
    "print(\"| \"+\"Out of {} passengers, {} survived {} died\".format(len(titanic_dataset), total_survived, total_deceased) + \" |\")   \n",
    "print(\"+\"+\" -\"* 22 +\"  +\")"
   ]
  },
  {
   "cell_type": "code",
   "execution_count": 12,
   "metadata": {
    "collapsed": false
   },
   "outputs": [],
   "source": [
    "# grouping the dataframe by gender. \n",
    "groupby_sex = titanic_dataset.groupby(\"Sex\").describe()"
   ]
  },
  {
   "cell_type": "code",
   "execution_count": 13,
   "metadata": {
    "collapsed": false
   },
   "outputs": [
    {
     "name": "stdout",
     "output_type": "stream",
     "text": [
      "+ - - - - - - - - - - - - - - - - - - - - - - - - - - - - +\n",
      "| Number of Female passangers on board the Titanic: 314.0 |\n",
      "+ - - - - - - - - - - - - - - - - - - - - - - - - - - - - +\n"
     ]
    }
   ],
   "source": [
    "# access the female column of grouped dataframe\n",
    "female_passengers = groupby_sex.transpose()[\"female\"]\n",
    "print(\"+\"+\" -\"* 28 +\" +\")\n",
    "print(\"|\" + \" Number of Female passangers on board the Titanic: {}\".format(female_passengers.loc[\"PassengerId\", \"count\"]) + \" |\")\n",
    "print(\"+\"+\" -\"* 28 +\" +\")"
   ]
  },
  {
   "cell_type": "code",
   "execution_count": 14,
   "metadata": {
    "collapsed": false
   },
   "outputs": [
    {
     "name": "stdout",
     "output_type": "stream",
     "text": [
      "+ - - - - - - - - - - - - - - - - - - - - - - - - - - - - +\n",
      "| Number of Male passenges on board the Titanic: 577.0    |\n",
      "+ - - - - - - - - - - - - - - - - - - - - - - - - - - - - +\n"
     ]
    }
   ],
   "source": [
    "# access the male column of grouped dataframe\n",
    "male_passengers = groupby_sex.transpose()[\"male\"]\n",
    "print(\"+\"+\" -\"* 28 +\" +\")\n",
    "print(\"|\" + \" Number of Male passenges on board the Titanic: {}\".format(male_passengers.loc[\"PassengerId\", \"count\"])+ \"    |\")    \n",
    "print(\"+\"+\" -\"* 28 +\" +\")\n"
   ]
  },
  {
   "cell_type": "code",
   "execution_count": 15,
   "metadata": {
    "collapsed": false,
    "scrolled": true
   },
   "outputs": [
    {
     "name": "stdout",
     "output_type": "stream",
     "text": [
      "+ - - - - - - - - - - - - - - - - - - - - - - - - - - - - +\n",
      "| Number of female suvivors 233                           |\n",
      "| Number of male survivors 109                            |\n",
      "+ - - - - - - - - - - - - - - - - - - - - - - - - - - - - +\n"
     ]
    }
   ],
   "source": [
    "# check gender wise survivors\n",
    "survival_by_gender = titanic_dataset.groupby(\"Sex\")[\"Survived\"].sum() # sum of all who survived in dataframe grouped by sex     \n",
    "female_survivors = survival_by_gender.loc[\"female\"]\n",
    "print(\"+\"+\" -\"* 28 +\" +\")\n",
    "print(\"|\" + \" Number of female suvivors {}\".format(female_survivors)+ \" \" * 27 + \"|\")\n",
    "male_survivors = survival_by_gender.loc[\"male\"]\n",
    "print(\"|\" +\" Number of male survivors {}\".format(male_survivors)+ \" \" * 28 + \"|\")\n",
    "print(\"+\"+\" -\"* 28 +\" +\")"
   ]
  },
  {
   "cell_type": "code",
   "execution_count": 16,
   "metadata": {
    "collapsed": false
   },
   "outputs": [
    {
     "name": "stdout",
     "output_type": "stream",
     "text": [
      "+ - - - - - - - - - - - - - - - - - - - - - - - - - - - - +\n",
      " Total number of survivors include:\n",
      " 127 girls\n",
      " 23 boys\n",
      " 99 women\n",
      " 81 men\n",
      " 12 others\n",
      "\n",
      " Others include:\n",
      " Dr., Countess., Mme., Lady., Major., Col., Mlle. Sir.\n",
      "+ - - - - - - - - - - - - - - - - - - - - - - - - - - - - +\n"
     ]
    }
   ],
   "source": [
    "# check count of children, single woman, women and men from the  \n",
    "Boys, Girls, Women, Men, Others = 0, 0, 0, 0, 0\n",
    "for i in titanic_dataset[titanic_dataset[\"Survived\"] == 1][\"Name\"]:\n",
    "    if \"Master.\" in i:\n",
    "        Boys+=1\n",
    "    elif \"Miss.\" in i:\n",
    "        Girls+=1\n",
    "    elif \"Mrs.\" in i:\n",
    "        Women+=1\n",
    "    elif \"Mr.\" in i:\n",
    "        Men+=1\n",
    "    else:\n",
    "        Others+=1\n",
    "total_survivors = [Girls, Boys, Women, Men, Others]\n",
    "print(\"+\"+\" -\"* 28 +\" +\")\n",
    "print(\" Total number of survivors include:\\n {} girls\\n {} boys\\n {} women\\n {} men\\n {} others\".format(Girls, Boys, Women, Men, Others))\n",
    "print()\n",
    "print(\" Others include:\\n Dr., Countess., Mme., Lady., Major., Col., Mlle. Sir.\")\n",
    "print(\"+\"+\" -\"* 28 +\" +\")"
   ]
  },
  {
   "cell_type": "code",
   "execution_count": 17,
   "metadata": {
    "collapsed": false
   },
   "outputs": [
    {
     "data": {
      "image/png": "[encoded data removed]",
      "text/plain": [
       "<matplotlib.figure.Figure at 0x11bf8bfd0>"
      ]
     },
     "metadata": {},
     "output_type": "display_data"
    }
   ],
   "source": [
    "# set typeface, weight, typesize for labels and legends\n",
    "font = {'family' : 'arial',\n",
    "        'weight' : 'bold',\n",
    "        'size'   : 10}\n",
    "\n",
    "matplotlib.rc('font', **font)\n",
    "\n",
    "# set labels, explode, color\n",
    "labels = 'Miss Master Mrs Mr Rare'.split()\n",
    "explode = (0.06, 0, 0, 0, 0)\n",
    "color_list = [\"#60e0cc\", \"#b762db\", \"#f767a8\", \"#4f95ff\", \"#e9ed6f\"]\n",
    "\n",
    "# Make square figures and axes\n",
    "fig = plt.figure(figsize=(15,10))\n",
    "the_grid = GridSpec(2, 2)\n",
    "\n",
    "# plot surviving vs non surving passengers\n",
    "plt.subplot(the_grid[0, 0], aspect=1)\n",
    "plt.pie([total_survived, total_deceased], explode=[0.06, 0], labels=[\"Survived\", \"Deceased\"], colors=[\"#489e6a\",\"#fc6767\"], \n",
    "        autopct='%1.1f%%', shadow=True, startangle=90)\n",
    "title('Percentage of Surviving Vs Non-survivng passengers', bbox={'facecolor':'0.8', 'pad':8})\n",
    "plt.legend(loc=\"upper right\")\n",
    "\n",
    "# plot female vs male survivors\n",
    "plt.subplot(the_grid[0, 1], aspect=1)\n",
    "plt.pie([female_passengers.loc[\"Age\", \"count\"],male_passengers.loc[\"Age\", \"count\"]], \n",
    "        explode=[0.06, 0], labels=[\"Female Passengers\", \"Male Passengers\"],colors=[\"#f767a8\",\"#4f95ff\"], autopct='%1.1f%%', shadow=True \n",
    "        ,startangle=90)\n",
    "title('Percentage of Female Vs Male passengers', bbox={'facecolor':'0.8', 'pad':8})\n",
    "plt.legend(loc=\"upper right\")\n",
    "\n",
    "# plot female survivors Vs male survivors\n",
    "plt.subplot(the_grid[1, 0], aspect=1)\n",
    "plt.pie([female_survivors, male_survivors], explode=[0.06, 0] ,labels=[\"Female Survivors\", \"Male Survivors\"], autopct='%.0f%%', shadow=True, labeldistance=1.1)\n",
    "title('Percentage of Female Vs Male Survivors', bbox={'facecolor':'0.8', 'pad':8})\n",
    "plt.legend(loc=\"upper right\")\n",
    "\n",
    "# plot composition of survivors\n",
    "plt.subplot(the_grid[1, 1], aspect=1)\n",
    "plt.pie(total_survivors,labels=labels, colors=color_list, explode = explode, autopct='%1.1f%%', pctdistance=0.8, shadow=True \n",
    "        ,startangle=90, labeldistance=1.15)\n",
    "title('Composition of Survivors', bbox={'facecolor':'0.8', 'pad':8})\n",
    "plt.legend(loc=\"lower right\", bbox_to_anchor=(1.1, 0))\n",
    "\n",
    "plt.tight_layout()\n"
   ]
  },
  {
   "cell_type": "markdown",
   "metadata": {},
   "source": [
    "<h3 fp style=\"font-size:14px\"><i>Almost 62% passengers lost their lives in the incident. 38% survived.</i></h3>\n",
    "<h3 fp style=\"font-size:14px\"><i>Out of 891 passenger, about 36% (314) were female and about 64% (577) were males. Number of female suvivors were 233 while number of male survivors 109 </i></h3>"
   ]
  },
  {
   "cell_type": "markdown",
   "metadata": {},
   "source": [
    "<b><i>AGE:</i></b><br>\n",
    "Let's start working with age. First, lets start by substituting those missing values with random ages. "
   ]
  },
  {
   "cell_type": "code",
   "execution_count": 18,
   "metadata": {
    "collapsed": false
   },
   "outputs": [
    {
     "name": "stderr",
     "output_type": "stream",
     "text": [
      "//anaconda/lib/python3.6/site-packages/ipykernel/__main__.py:10: SettingWithCopyWarning: \n",
      "A value is trying to be set on a copy of a slice from a DataFrame\n",
      "\n",
      "See the caveats in the documentation: http://pandas.pydata.org/pandas-docs/stable/indexing.html#indexing-view-versus-copy\n"
     ]
    },
    {
     "data": {
      "text/plain": [
       "count    891.000000\n",
       "mean      29.676958\n",
       "std       13.504443\n",
       "min        0.420000\n",
       "25%       21.000000\n",
       "50%       29.000000\n",
       "75%       38.000000\n",
       "max       80.000000\n",
       "Name: Age, dtype: float64"
      ]
     },
     "execution_count": 18,
     "metadata": {},
     "output_type": "execute_result"
    }
   ],
   "source": [
    "# replacing missing values with random age. To do so, average, std, and number of null values in titanic_dataset[\"Age\"] is needed\n",
    "mean_age_of_passengers = titanic_dataset[\"Age\"].mean()\n",
    "std_age_of_passengers = titanic_dataset[\"Age\"].std()\n",
    "missing_age_of_passengers = titanic_dataset[\"Age\"].isnull().sum()\n",
    "(mean_age_of_passengers, std_age_of_passengers, missing_age_of_passengers)\n",
    "#generate random numbers between (mean - std) & (mean + std)\n",
    "random_age = np.random.randint(mean_age_of_passengers - std_age_of_passengers, mean_age_of_passengers + std_age_of_passengers, size=missing_age_of_passengers)\n",
    "titanic_dataset['Age'].dropna().astype(int)\n",
    "#fill NaN values in Age column with random values generated\n",
    "titanic_dataset[\"Age\"][np.isnan(titanic_dataset[\"Age\"])] = random_age\n",
    "# Quick overview of measures of central tendancy and variance.\n",
    "titanic_dataset[\"Age\"].describe()"
   ]
  },
  {
   "cell_type": "code",
   "execution_count": null,
   "metadata": {
    "collapsed": false
   },
   "outputs": [],
   "source": []
  },
  {
   "cell_type": "code",
   "execution_count": 19,
   "metadata": {
    "collapsed": false
   },
   "outputs": [
    {
     "data": {
      "text/plain": [
       "<matplotlib.text.Text at 0x11fb88160>"
      ]
     },
     "execution_count": 19,
     "metadata": {},
     "output_type": "execute_result"
    },
    {
     "data": {
      "image/png": "[encoded data removed]",
      "text/plain": [
       "<matplotlib.figure.Figure at 0x11b8ade80>"
      ]
     },
     "metadata": {},
     "output_type": "display_data"
    }
   ],
   "source": [
    "# Plotting a histogram to see the distribution of ages of total number of passengers on board.\n",
    "plt.subplots(1, figsize=(15,5))\n",
    "plt.hist(titanic_dataset[\"Age\"],bins=70)\n",
    "plt.xlabel(\"Boxplot of Age of passengers and crew on borad Titanic\")\n",
    "plt.ylabel(\"Frequency\")\n",
    "plt.title(\"Histogram of age of passengers on board the Titanic\")\n",
    "\n",
    "#plt.subplots(1, figsize=(15,5))\n",
    "#sns.boxplot(titanic_dataset[\"Age\"],color=\"#ffd26b\")"
   ]
  },
  {
   "cell_type": "markdown",
   "metadata": {},
   "source": [
    "<i>After replacing the missing ages with the average age of the passengers the data gave a count of 891 passengers with a mean age of 29.54 years and standard deviation of 13.43 years. A passengers' minimum age was 0.42 years and maximum age was 80 years. Median age was 28.00 years.</i>"
   ]
  },
  {
   "cell_type": "code",
   "execution_count": 20,
   "metadata": {
    "collapsed": false
   },
   "outputs": [
    {
     "name": "stdout",
     "output_type": "stream",
     "text": [
      "Survived       \n",
      "0         count    549.000000\n",
      "          mean      30.330601\n",
      "          std       13.083759\n",
      "          min        1.000000\n",
      "          25%       21.000000\n",
      "          50%       28.500000\n",
      "          75%       38.000000\n",
      "          max       74.000000\n",
      "1         count    342.000000\n",
      "          mean      28.627690\n",
      "          std       14.109850\n",
      "          min        0.420000\n",
      "          25%       20.000000\n",
      "          50%       29.000000\n",
      "          75%       36.750000\n",
      "          max       80.000000\n",
      "Name: Age, dtype: float64\n"
     ]
    }
   ],
   "source": [
    "# group dataframe by Survived and check statistics of survivors vs non survivors\n",
    "print(titanic_dataset.groupby(\"Survived\")[\"Age\"].describe())"
   ]
  },
  {
   "cell_type": "code",
   "execution_count": null,
   "metadata": {
    "collapsed": false
   },
   "outputs": [],
   "source": []
  },
  {
   "cell_type": "code",
   "execution_count": 21,
   "metadata": {
    "collapsed": false
   },
   "outputs": [
    {
     "data": {
      "text/plain": [
       "<matplotlib.text.Text at 0x1202aa470>"
      ]
     },
     "execution_count": 21,
     "metadata": {},
     "output_type": "execute_result"
    },
    {
     "data": {
      "image/png": "[encoded data removed]",
      "text/plain": [
       "<matplotlib.figure.Figure at 0x11f8dee48>"
      ]
     },
     "metadata": {},
     "output_type": "display_data"
    },
    {
     "data": {
      "image/png": "[encoded data removed]",
      "text/plain": [
       "<matplotlib.figure.Figure at 0x11ff2e978>"
      ]
     },
     "metadata": {},
     "output_type": "display_data"
    }
   ],
   "source": [
    "g = sns.FacetGrid(titanic_dataset, col='Survived',size=5, aspect=1)\n",
    "g.map(sns.distplot, \"Age\", hist=True, kde=False, color=\"green\")\n",
    "plt.subplots_adjust(top=0.8)\n",
    "g.fig.suptitle('Histogram of age of Survivors Vs age of non-survivors')\n",
    "\n",
    "g = sns.FacetGrid(titanic_dataset, col=\"Sex\", row=\"Survived\", size= 5, aspect=1, margin_titles=True)\n",
    "g.map(sns.distplot, \"Age\", hist=True, kde=False, color=\"purple\")\n",
    "plt.subplots_adjust(top=.9)\n",
    "g.fig.suptitle('Histograms of age of Survivors Vs age of non-survivors by gender')"
   ]
  },
  {
   "cell_type": "markdown",
   "metadata": {},
   "source": [
    "<b><i>What was the average age of females and males who died in the incident?</i></b> "
   ]
  },
  {
   "cell_type": "code",
   "execution_count": 22,
   "metadata": {
    "collapsed": false
   },
   "outputs": [
    {
     "name": "stdout",
     "output_type": "stream",
     "text": [
      "      Sex  Survived        Age\n",
      "0  female  0.742038  28.289809\n",
      "1    male  0.188908  30.431837\n"
     ]
    },
    {
     "data": {
      "text/plain": [
       "<matplotlib.axes._subplots.AxesSubplot at 0x12023ef60>"
      ]
     },
     "execution_count": 22,
     "metadata": {},
     "output_type": "execute_result"
    },
    {
     "data": {
      "image/png": "[encoded data removed]",
      "text/plain": [
       "<matplotlib.figure.Figure at 0x11fc234a8>"
      ]
     },
     "metadata": {},
     "output_type": "display_data"
    }
   ],
   "source": [
    "describe = titanic_dataset[[\"Survived\", \"Sex\", \"Age\"]].groupby([\"Sex\"], as_index=False).mean()\n",
    "print(describe)\n",
    "describe.drop(\"Survived\", axis=1)\n",
    "plt.subplots(1, figsize=(10, 5))\n",
    "sns.barplot(x=\"Sex\", y=\"Age\", data=describe.drop(\"Survived\", axis=1))"
   ]
  },
  {
   "cell_type": "code",
   "execution_count": 23,
   "metadata": {
    "collapsed": false
   },
   "outputs": [
    {
     "name": "stdout",
     "output_type": "stream",
     "text": [
      "Survived\n",
      "0    30.330601\n",
      "1    28.627690\n",
      "Name: Age, dtype: float64\n"
     ]
    }
   ],
   "source": [
    "print(titanic_dataset.groupby(\"Survived\")[\"Age\"].mean())"
   ]
  },
  {
   "cell_type": "code",
   "execution_count": 24,
   "metadata": {
    "collapsed": false
   },
   "outputs": [],
   "source": [
    "#print(\"Names of those who survived: {}\".format(titanic_dataset[titanic_dataset[\"Survived\"] == 1][\"Name\"]))"
   ]
  },
  {
   "cell_type": "code",
   "execution_count": 25,
   "metadata": {
    "collapsed": false
   },
   "outputs": [],
   "source": [
    "children_age = []\n",
    "miss_age = []\n",
    "mrs_age = []\n",
    "mr_age = []\n",
    "for i in range(len(titanic_dataset[titanic_dataset[\"Survived\"] == 1][\"Name\"])):\n",
    "    if \"Master\" in titanic_dataset[titanic_dataset[\"Survived\"] == 1][\"Name\"].iloc[i]:\n",
    "        children_age.append(titanic_dataset[\"Age\"].iloc[i])\n",
    "    elif \"Miss\" in titanic_dataset[titanic_dataset[\"Survived\"] == 1][\"Name\"].iloc[i]:\n",
    "        miss_age.append(titanic_dataset[\"Age\"].iloc[i])\n",
    "    elif \"Mrs\" in titanic_dataset[titanic_dataset[\"Survived\"] == 1][\"Name\"].iloc[i]:\n",
    "        mrs_age.append(titanic_dataset[\"Age\"].iloc[i])\n",
    "    else:\n",
    "        mr_age.append(titanic_dataset[\"Age\"].iloc[i])"
   ]
  },
  {
   "cell_type": "code",
   "execution_count": 26,
   "metadata": {
    "collapsed": false
   },
   "outputs": [
    {
     "data": {
      "text/plain": [
       "127"
      ]
     },
     "execution_count": 26,
     "metadata": {},
     "output_type": "execute_result"
    }
   ],
   "source": [
    "len(miss_age)"
   ]
  },
  {
   "cell_type": "code",
   "execution_count": 27,
   "metadata": {
    "collapsed": false
   },
   "outputs": [
    {
     "data": {
      "text/plain": [
       "23"
      ]
     },
     "execution_count": 27,
     "metadata": {},
     "output_type": "execute_result"
    }
   ],
   "source": [
    "len(children_age)"
   ]
  },
  {
   "cell_type": "code",
   "execution_count": 28,
   "metadata": {
    "collapsed": false
   },
   "outputs": [
    {
     "data": {
      "text/plain": [
       "101"
      ]
     },
     "execution_count": 28,
     "metadata": {},
     "output_type": "execute_result"
    }
   ],
   "source": [
    "len(mrs_age)"
   ]
  },
  {
   "cell_type": "code",
   "execution_count": 29,
   "metadata": {
    "collapsed": false
   },
   "outputs": [
    {
     "data": {
      "text/plain": [
       "91"
      ]
     },
     "execution_count": 29,
     "metadata": {},
     "output_type": "execute_result"
    }
   ],
   "source": [
    "len(mr_age)"
   ]
  },
  {
   "cell_type": "code",
   "execution_count": 30,
   "metadata": {
    "collapsed": false
   },
   "outputs": [
    {
     "data": {
      "image/png": "[encoded data removed]",
      "text/plain": [
       "<matplotlib.figure.Figure at 0x11f8ef828>"
      ]
     },
     "metadata": {},
     "output_type": "display_data"
    }
   ],
   "source": [
    "fig, axes = plt.subplots(nrows=2, ncols=2, figsize=(15,8))\n",
    "ax0, ax1, ax2, ax3 = axes.flatten()\n",
    "ax0.hist(children_age, 10, histtype='bar', color=\"#489e6a\", label=\"Age of children\")\n",
    "ax0.legend(prop={'size': 10})\n",
    "ax0.set_title('Histogram of age of surviving children')\n",
    "\n",
    "\n",
    "ax1.hist(miss_age, 10, histtype='bar',color=\"#fc6767\", label=\"Age of single women\")\n",
    "ax1.legend(loc=\"upper right\")\n",
    "ax1.set_title('Histogram of age of surviving single women')\n",
    "\n",
    "\n",
    "ax2.hist(mrs_age, 10, histtype='bar', color=\"#f767a8\", label=\"Age of women\")\n",
    "ax2.legend(loc=\"upper right\")\n",
    "ax2.set_title('Histogram of age of surviving women')\n",
    "\n",
    "ax3.hist(mr_age, 10, histtype='bar', color=\"#4f95ff\", label=\"Age of men\")\n",
    "ax2.legend(loc=\"upper right\")\n",
    "ax3.set_title('Histogram of age of surviving men')\n",
    "\n",
    "fig.tight_layout()\n"
   ]
  },
  {
   "cell_type": "code",
   "execution_count": 31,
   "metadata": {
    "collapsed": false
   },
   "outputs": [
    {
     "data": {
      "text/plain": [
       "<seaborn.axisgrid.FacetGrid at 0x11fbc3748>"
      ]
     },
     "execution_count": 31,
     "metadata": {},
     "output_type": "execute_result"
    },
    {
     "data": {
      "image/png": "[encoded data removed]",
      "text/plain": [
       "<matplotlib.figure.Figure at 0x11fc314e0>"
      ]
     },
     "metadata": {},
     "output_type": "display_data"
    }
   ],
   "source": [
    "# .... continue with plot Age column\n",
    "# peaks for survived/not survived passengers by their age\n",
    "facet = sns.FacetGrid(titanic_dataset, hue=\"Survived\",aspect=4)\n",
    "facet.map(sns.kdeplot,'Age',shade= True)\n",
    "facet.set(xlim=(0, titanic_dataset['Age'].max()))\n",
    "facet.add_legend()\n",
    "#plt.subplots(1, figsize=(15,5))\n",
    "#sns.boxplot(data=[children_age, miss_age, mrs_age, mr_age])"
   ]
  },
  {
   "cell_type": "code",
   "execution_count": 32,
   "metadata": {
    "collapsed": false
   },
   "outputs": [],
   "source": [
    "data = titanic_dataset[[\"Survived\", \"Sex\"]].groupby(\"Sex\").sum()"
   ]
  },
  {
   "cell_type": "code",
   "execution_count": 33,
   "metadata": {
    "collapsed": false
   },
   "outputs": [
    {
     "data": {
      "text/html": [
       "<div>\n",
       "<table border=\"1\" class=\"dataframe\">\n",
       "  <thead>\n",
       "    <tr style=\"text-align: right;\">\n",
       "      <th></th>\n",
       "      <th>Survived</th>\n",
       "    </tr>\n",
       "    <tr>\n",
       "      <th>Sex</th>\n",
       "      <th></th>\n",
       "    </tr>\n",
       "  </thead>\n",
       "  <tbody>\n",
       "    <tr>\n",
       "      <th>female</th>\n",
       "      <td>233</td>\n",
       "    </tr>\n",
       "    <tr>\n",
       "      <th>male</th>\n",
       "      <td>109</td>\n",
       "    </tr>\n",
       "  </tbody>\n",
       "</table>\n",
       "</div>"
      ],
      "text/plain": [
       "        Survived\n",
       "Sex             \n",
       "female       233\n",
       "male         109"
      ]
     },
     "execution_count": 33,
     "metadata": {},
     "output_type": "execute_result"
    }
   ],
   "source": [
    "data"
   ]
  },
  {
   "cell_type": "code",
   "execution_count": 34,
   "metadata": {
    "collapsed": false
   },
   "outputs": [
    {
     "data": {
      "text/plain": [
       "('Mme', 'Major')"
      ]
     },
     "execution_count": 34,
     "metadata": {},
     "output_type": "execute_result"
    }
   ],
   "source": [
    "\"Mme\", \"Major\", "
   ]
  },
  {
   "cell_type": "code",
   "execution_count": 35,
   "metadata": {
    "collapsed": false
   },
   "outputs": [],
   "source": [
    "unknown_suvivors = []\n",
    "for i in titanic_dataset[titanic_dataset[\"Survived\"] == 1][\"Name\"]:\n",
    "    if \"Master\" not in i and \"Miss\" not in i and \"Mr.\" not in i and \"Mrs.\" not in i:\n",
    "        unknown_suvivors.append(i)"
   ]
  },
  {
   "cell_type": "code",
   "execution_count": 36,
   "metadata": {
    "collapsed": false
   },
   "outputs": [
    {
     "data": {
      "text/plain": [
       "['Aubart, Mme. Leontine Pauline',\n",
       " 'Reynaldo, Ms. Encarnacion',\n",
       " 'Peuchen, Major. Arthur Godfrey',\n",
       " 'Duff Gordon, Lady. (Lucille Christiana Sutherland) (\"Mrs Morgan\")',\n",
       " 'Duff Gordon, Sir. Cosmo Edmund (\"Mr Morgan\")',\n",
       " 'Stahelin-Maeglin, Dr. Max',\n",
       " 'Sagesser, Mlle. Emma',\n",
       " 'Simonius-Blumer, Col. Oberst Alfons',\n",
       " 'Frauenthal, Dr. Henry William',\n",
       " 'Mayne, Mlle. Berthe Antonine (\"Mrs de Villiers\")',\n",
       " 'Rothes, the Countess. of (Lucy Noel Martha Dyer-Edwards)',\n",
       " 'Leader, Dr. Alice (Farnham)']"
      ]
     },
     "execution_count": 36,
     "metadata": {},
     "output_type": "execute_result"
    }
   ],
   "source": [
    "len(unknown_suvivors)\n",
    "unknown_suvivors"
   ]
  },
  {
   "cell_type": "code",
   "execution_count": 37,
   "metadata": {
    "collapsed": false
   },
   "outputs": [
    {
     "data": {
      "text/plain": [
       "['Master.', 'Miss.', 'Mrs.', 'Mr.']"
      ]
     },
     "execution_count": 37,
     "metadata": {},
     "output_type": "execute_result"
    }
   ],
   "source": [
    "\"Master. Miss. Mrs. Mr.\".split()"
   ]
  },
  {
   "cell_type": "code",
   "execution_count": 38,
   "metadata": {
    "collapsed": false
   },
   "outputs": [
    {
     "data": {
      "text/html": [
       "<div>\n",
       "<table border=\"1\" class=\"dataframe\">\n",
       "  <thead>\n",
       "    <tr style=\"text-align: right;\">\n",
       "      <th></th>\n",
       "      <th>SibSp</th>\n",
       "      <th>Parch</th>\n",
       "      <th>Survived</th>\n",
       "    </tr>\n",
       "    <tr>\n",
       "      <th>Sex</th>\n",
       "      <th></th>\n",
       "      <th></th>\n",
       "      <th></th>\n",
       "    </tr>\n",
       "  </thead>\n",
       "  <tbody>\n",
       "    <tr>\n",
       "      <th>female</th>\n",
       "      <td>218</td>\n",
       "      <td>204</td>\n",
       "      <td>233</td>\n",
       "    </tr>\n",
       "    <tr>\n",
       "      <th>male</th>\n",
       "      <td>248</td>\n",
       "      <td>136</td>\n",
       "      <td>109</td>\n",
       "    </tr>\n",
       "  </tbody>\n",
       "</table>\n",
       "</div>"
      ],
      "text/plain": [
       "        SibSp  Parch  Survived\n",
       "Sex                           \n",
       "female    218    204       233\n",
       "male      248    136       109"
      ]
     },
     "execution_count": 38,
     "metadata": {},
     "output_type": "execute_result"
    }
   ],
   "source": [
    "titanic_dataset[[\"SibSp\", \"Parch\", \"Survived\", \"Sex\"]].groupby(\"Sex\").sum()"
   ]
  },
  {
   "cell_type": "code",
   "execution_count": 39,
   "metadata": {
    "collapsed": false
   },
   "outputs": [
    {
     "data": {
      "text/html": [
       "<div>\n",
       "<table border=\"1\" class=\"dataframe\">\n",
       "  <thead>\n",
       "    <tr style=\"text-align: right;\">\n",
       "      <th></th>\n",
       "      <th>SibSp</th>\n",
       "      <th>Parch</th>\n",
       "    </tr>\n",
       "    <tr>\n",
       "      <th>Sex</th>\n",
       "      <th></th>\n",
       "      <th></th>\n",
       "    </tr>\n",
       "  </thead>\n",
       "  <tbody>\n",
       "    <tr>\n",
       "      <th>female</th>\n",
       "      <td>218</td>\n",
       "      <td>204</td>\n",
       "    </tr>\n",
       "    <tr>\n",
       "      <th>male</th>\n",
       "      <td>248</td>\n",
       "      <td>136</td>\n",
       "    </tr>\n",
       "  </tbody>\n",
       "</table>\n",
       "</div>"
      ],
      "text/plain": [
       "        SibSp  Parch\n",
       "Sex                 \n",
       "female    218    204\n",
       "male      248    136"
      ]
     },
     "execution_count": 39,
     "metadata": {},
     "output_type": "execute_result"
    }
   ],
   "source": [
    "titanic_dataset[[\"SibSp\", \"Parch\", \"Sex\"]].groupby(\"Sex\").sum()"
   ]
  },
  {
   "cell_type": "code",
   "execution_count": 40,
   "metadata": {
    "collapsed": false
   },
   "outputs": [
    {
     "data": {
      "text/html": [
       "<div>\n",
       "<table border=\"1\" class=\"dataframe\">\n",
       "  <thead>\n",
       "    <tr style=\"text-align: right;\">\n",
       "      <th></th>\n",
       "      <th>SibSp</th>\n",
       "      <th>Parch</th>\n",
       "    </tr>\n",
       "    <tr>\n",
       "      <th>Survived</th>\n",
       "      <th></th>\n",
       "      <th></th>\n",
       "    </tr>\n",
       "  </thead>\n",
       "  <tbody>\n",
       "    <tr>\n",
       "      <th>0</th>\n",
       "      <td>304</td>\n",
       "      <td>181</td>\n",
       "    </tr>\n",
       "    <tr>\n",
       "      <th>1</th>\n",
       "      <td>162</td>\n",
       "      <td>159</td>\n",
       "    </tr>\n",
       "  </tbody>\n",
       "</table>\n",
       "</div>"
      ],
      "text/plain": [
       "          SibSp  Parch\n",
       "Survived              \n",
       "0           304    181\n",
       "1           162    159"
      ]
     },
     "execution_count": 40,
     "metadata": {},
     "output_type": "execute_result"
    }
   ],
   "source": [
    "titanic_dataset[[\"SibSp\", \"Parch\", \"Survived\"]].groupby(\"Survived\").sum()"
   ]
  },
  {
   "cell_type": "code",
   "execution_count": 41,
   "metadata": {
    "collapsed": false
   },
   "outputs": [
    {
     "data": {
      "text/plain": [
       "SibSp    466\n",
       "Parch    340\n",
       "dtype: int64"
      ]
     },
     "execution_count": 41,
     "metadata": {},
     "output_type": "execute_result"
    }
   ],
   "source": [
    "# total number of sibblings/Spouses and parents/children on board\n",
    "titanic_dataset[[\"SibSp\", \"Parch\"]].sum()"
   ]
  },
  {
   "cell_type": "code",
   "execution_count": 42,
   "metadata": {
    "collapsed": true
   },
   "outputs": [],
   "source": [
    "#list(titanic_dataset[[\"Name\",\"SibSp\", \"Parch\"]].groupby(\"Name\"))"
   ]
  },
  {
   "cell_type": "code",
   "execution_count": 43,
   "metadata": {
    "collapsed": false,
    "scrolled": true
   },
   "outputs": [
    {
     "name": "stdout",
     "output_type": "stream",
     "text": [
      "<class 'pandas.core.frame.DataFrame'>\n",
      "RangeIndex: 891 entries, 0 to 890\n",
      "Data columns (total 2 columns):\n",
      "SibSp    608 non-null float64\n",
      "Parch    678 non-null float64\n",
      "dtypes: float64(2)\n",
      "memory usage: 14.0 KB\n",
      "None\n"
     ]
    }
   ],
   "source": [
    " print(titanic_dataset[titanic_dataset[[\"SibSp\", \"Parch\"]]==0][[\"SibSp\", \"Parch\"]].info())"
   ]
  },
  {
   "cell_type": "code",
   "execution_count": 44,
   "metadata": {
    "collapsed": false
   },
   "outputs": [
    {
     "name": "stdout",
     "output_type": "stream",
     "text": [
      "SibSp    283\n",
      "Parch    213\n",
      "dtype: int64\n"
     ]
    }
   ],
   "source": [
    "print(titanic_dataset[titanic_dataset[[\"SibSp\", \"Parch\"]]==0][[\"SibSp\", \"Parch\"]].isnull().sum())"
   ]
  },
  {
   "cell_type": "code",
   "execution_count": 45,
   "metadata": {
    "collapsed": false
   },
   "outputs": [
    {
     "name": "stdout",
     "output_type": "stream",
     "text": [
      "608\n"
     ]
    }
   ],
   "source": [
    "count = 0\n",
    "for i in titanic_dataset[titanic_dataset[\"SibSp\"]==0][\"SibSp\"]:\n",
    "    if i == 0.0:\n",
    "        count += 1\n",
    "print(count)        "
   ]
  },
  {
   "cell_type": "code",
   "execution_count": 46,
   "metadata": {
    "collapsed": false
   },
   "outputs": [
    {
     "name": "stdout",
     "output_type": "stream",
     "text": [
      "678\n"
     ]
    }
   ],
   "source": [
    "count = 0\n",
    "for i in titanic_dataset[titanic_dataset[\"Parch\"]==0][\"Parch\"]:\n",
    "    if i == 0.0:\n",
    "        count +=1\n",
    "print(count)"
   ]
  },
  {
   "cell_type": "code",
   "execution_count": 47,
   "metadata": {
    "collapsed": false
   },
   "outputs": [
    {
     "data": {
      "text/plain": [
       "SibSp    NaN\n",
       "Parch    0.0\n",
       "Name: 0, dtype: float64"
      ]
     },
     "execution_count": 47,
     "metadata": {},
     "output_type": "execute_result"
    }
   ],
   "source": [
    "titanic_dataset[titanic_dataset[[\"SibSp\", \"Parch\"]]==0][[\"SibSp\", \"Parch\"]].iloc[0]"
   ]
  },
  {
   "cell_type": "code",
   "execution_count": 48,
   "metadata": {
    "collapsed": false
   },
   "outputs": [],
   "source": [
    "#for i in range(len(titanic_dataset[\"SibSp\"])):\n",
    "    #if titanic_dataset[\"SibSp\"].iloc[i] == 0 and titanic_dataset[\"Parch\"].iloc[i] == 0:\n",
    "        #print(titanic_dataset[\"Name\"].iloc[i], titanic_dataset[\"SibSp\"].iloc[i], titanic_dataset[\"Parch\"].iloc[i])"
   ]
  },
  {
   "cell_type": "code",
   "execution_count": 49,
   "metadata": {
    "collapsed": true
   },
   "outputs": [],
   "source": [
    "# 537 passengers had no Siblings/Spouses and Parents/children connection\n",
    "# 163 passengers with no Siblings/Spouses and Parents/children survived\n",
    "# 374 passengers with no Siblings/Spouses and Parents/hildren deceased"
   ]
  },
  {
   "cell_type": "code",
   "execution_count": 50,
   "metadata": {
    "collapsed": false
   },
   "outputs": [
    {
     "name": "stdout",
     "output_type": "stream",
     "text": [
      "SibSp    283\n",
      "Parch    213\n",
      "dtype: int64\n"
     ]
    }
   ],
   "source": [
    "null = titanic_dataset[titanic_dataset[[\"SibSp\", \"Parch\"]]==0][[\"SibSp\", \"Parch\"]].isnull().sum()   \n",
    "print(null)"
   ]
  },
  {
   "cell_type": "code",
   "execution_count": 51,
   "metadata": {
    "collapsed": false,
    "scrolled": true
   },
   "outputs": [],
   "source": [
    "#demo_passengers_with_SibSp = {'Name': [], 'SibSp': []}\n",
    "#demo_Single_passengers = {\"Name\" : [], \"SibSp\": []}\n",
    "#count_SibSp = 0\n",
    "#count_non_SibSp = 0\n",
    "#for i in range(len(titanic_dataset)):\n",
    "        #if titanic_dataset[\"SibSp\"].iloc[i] > 0:\n",
    "            #count_SibSp += 1\n",
    "            #demo_passengers_with_SibSp[\"Name\"].append(titanic_dataset[\"Name\"].iloc[i])\n",
    "            #demo_passengers_with_SibSp[\"SibSp\"].append(titanic_dataset[\"SibSp\"].iloc[i])\n",
    "        #else:\n",
    "            #count_non_SibSp += 1\n",
    "            #demo_Single_passengers[\"Name\"].append(titanic_dataset[\"Name\"].iloc[i])\n",
    "            #demo_Single_passengers[\"SibSp\"].append(titanic_dataset[\"SibSp\"].iloc[i])\n",
    "        #print(n_items = take(5, df.iteritems()))\n",
    "#print(pd.DataFrame(demo_passengers_with_SibSp).head()) \n",
    "#print(pd.DataFrame(demo_Single_passengers).head())\n",
    "#print(count_SibSp)\n",
    "#print(count_non_SibSp)"
   ]
  },
  {
   "cell_type": "code",
   "execution_count": 52,
   "metadata": {
    "collapsed": false
   },
   "outputs": [],
   "source": [
    "#demo_SibSp_Parch_connection = {'Name': [], 'SibSp': [], \"Parch\":[]}\n",
    "#demo_no_SibSp_Parch_connection = {'Name': [], 'SibSp': [], \"Parch\":[]}\n",
    "#demo_atleast_one_SibSp = {\"Name\": [], \"SibSp\": [], \"Parch\": []}\n",
    "#demo_atleast_one_Parch = {\"Name\": [], \"SibSp\": [], \"Parch\": []}\n",
    "#demo_more_than_one_SibSp = {\"Name\": [], \"SibSp\": [], \"Parch\": []}\n",
    "#demo_more_than_one_Parch = {\"Name\": [], \"SibSp\": [], \"Parch\": []}\n",
    "\n",
    "#for i in range(len(titanic_dataset)):\n",
    "        #if titanic_dataset[\"SibSp\"].iloc[i] == 0 and titanic_dataset[\"Parch\"].iloc[i] == 0:\n",
    "            #demo_no_SibSp_Parch_connection[\"Name\"].append(titanic_dataset[\"Name\"].iloc[i])\n",
    "            #demo_no_SibSp_Parch_connection[\"SibSp\"].append(titanic_dataset[\"SibSp\"].iloc[i])\n",
    "            #demo_no_SibSp_Parch_connection[\"Parch\"].append(titanic_dataset[\"Parch\"].iloc[i])\n",
    "        \n",
    "        #elif titanic_dataset[\"SibSp\"].iloc[i] == 1 and titanic_dataset[\"Parch\"].iloc[i] == 0:\n",
    "            #demo_atleast_one_SibSp[\"Name\"].append(titanic_dataset[\"Name\"].iloc[i])\n",
    "            #demo_atleast_one_SibSp[\"SibSp\"].append(titanic_dataset[\"SibSp\"].iloc[i])\n",
    "            #demo_atleast_one_SibSp[\"Parch\"].append(titanic_dataset[\"Parch\"].iloc[i])\n",
    "        \n",
    "        #elif titanic_dataset[\"SibSp\"].iloc[i] == 0 and titanic_dataset[\"Parch\"].iloc[i] == 1:\n",
    "            #demo_atleast_one_Parch[\"Name\"].append(titanic_dataset[\"Name\"].iloc[i])\n",
    "            #demo_atleast_one_Parch[\"SibSp\"].append(titanic_dataset[\"SibSp\"].iloc[i])\n",
    "            #demo_atleast_one_Parch[\"Parch\"].append(titanic_dataset[\"Parch\"].iloc[i])\n",
    "            \n",
    "        #elif titanic_dataset[\"SibSp\"].iloc[i] > 1 and titanic_dataset[\"Parch\"].iloc[i] == 0:\n",
    "            #demo_more_than_one_SibSp[\"Name\"].append(titanic_dataset[\"Name\"].iloc[i])\n",
    "            #demo_more_than_one_SibSp[\"SibSp\"].append(titanic_dataset[\"SibSp\"].iloc[i])\n",
    "            #demo_more_than_one_SibSp[\"Parch\"].append(titanic_dataset[\"Parch\"].iloc[i])\n",
    "        \n",
    "        #elif titanic_dataset[\"SibSp\"].iloc[i] == 0 and titanic_dataset[\"Parch\"].iloc[i] > 1:\n",
    "            #demo_more_than_one_Parch[\"Name\"].append(titanic_dataset[\"Name\"].iloc[i])\n",
    "            #demo_more_than_one_Parch[\"SibSp\"].append(titanic_dataset[\"SibSp\"].iloc[i])\n",
    "            #demo_more_than_one_Parch[\"Parch\"].append(titanic_dataset[\"Parch\"].iloc[i])\n",
    "             \n",
    "        #else:\n",
    "            #if titanic_dataset[\"SibSp\"].iloc[i] > 0 and titanic_dataset[\"Parch\"].iloc[i] > 0:\n",
    "                #demo_SibSp_Parch_connection[\"Name\"].append(titanic_dataset[\"Name\"].iloc[i])\n",
    "                #demo_SibSp_Parch_connection[\"SibSp\"].append(titanic_dataset[\"SibSp\"].iloc[i])\n",
    "                #demo_SibSp_Parch_connection[\"Parch\"].append(titanic_dataset[\"Parch\"].iloc[i]) \n",
    "\n",
    "#print(pd.DataFrame(demo_SibSp_Parch_connection).head())\n",
    "#print()\n",
    "#print(\"Passengerss that had both SibSp/Parch on board {}\".format(len(demo_SibSp_Parch_connection[\"Name\"])))\n",
    "#print()\n",
    "#print(\"Number of SibSp on board {}\".format(sum(demo_SibSp_Parch_connectiion[\"SibSp\"])))\n",
    "#print(\"Number of Parch on board {}\". format(sum(demo_SibSp_Parch_connectiion[\"Parch\"])))\n",
    "#print(\"Passengers with either a SibSp or Parch {}\".format(demo_atleast_one_SibSp_Parch))\n",
    "#print(pd.DataFrame(demo_atleast_one_SibSp).head())\n",
    "#print()\n",
    "#print(\"Passengers with atleast one SibSp and no Parch {}\".format(len(demo_atleast_one_SibSp[\"Name\"])))\n",
    "#print()\n",
    "#print(pd.DataFrame(demo_atleast_one_Parch).head())\n",
    "#print()\n",
    "#print(\"Passengers with atleast one Parch and no SibSp {}\".format(len(demo_atleast_one_Parch[\"Name\"])))\n",
    "#print()\n",
    "#print(pd.DataFrame(demo_more_than_one_SibSp).head())\n",
    "#print()\n",
    "#print(\"Passengers with more than one SibSp and no Parch {}\".format(len(demo_more_than_one_SibSp[\"Name\"])))\n",
    "#print()\n",
    "#print(pd.DataFrame(demo_more_than_one_Parch).head())\n",
    "#print()\n",
    "#print(\"Passengers with more than one Parch and no SibSp {}\".format(len(demo_more_than_one_Parch[\"Name\"])))\n",
    "#print()\n",
    "#print(pd.DataFrame(demo_no_SibSp_Parch_connection).head())\n",
    "#print()\n",
    "#print(\"Passengers travelling single {}\".format(len(demo_no_SibSp_Parch_connection[\"Name\"])))"
   ]
  },
  {
   "cell_type": "code",
   "execution_count": 53,
   "metadata": {
    "collapsed": false
   },
   "outputs": [
    {
     "data": {
      "text/plain": [
       "891"
      ]
     },
     "execution_count": 53,
     "metadata": {},
     "output_type": "execute_result"
    }
   ],
   "source": [
    "142 + 123 + 38 + 537 + 18 + 33"
   ]
  },
  {
   "cell_type": "code",
   "execution_count": 54,
   "metadata": {
    "collapsed": false
   },
   "outputs": [
    {
     "name": "stdout",
     "output_type": "stream",
     "text": [
      "   SibSp                                               Name\n",
      "0      1                            Braund, Mr. Owen Harris\n",
      "1      1  Cumings, Mrs. John Bradley (Florence Briggs Th...\n",
      "3      1       Futrelle, Mrs. Jacques Heath (Lily May Peel)\n",
      "7      3                     Palsson, Master. Gosta Leonard\n",
      "9      1                Nasser, Mrs. Nicholas (Adele Achem)\n"
     ]
    }
   ],
   "source": [
    "print(titanic_dataset[[\"SibSp\", \"Name\"]][titanic_dataset[\"SibSp\"] >= 1].head())"
   ]
  },
  {
   "cell_type": "code",
   "execution_count": 55,
   "metadata": {
    "collapsed": false,
    "scrolled": true
   },
   "outputs": [
    {
     "name": "stdout",
     "output_type": "stream",
     "text": [
      "   Parch                                               Name\n",
      "0      0                            Braund, Mr. Owen Harris\n",
      "1      0  Cumings, Mrs. John Bradley (Florence Briggs Th...\n",
      "2      0                             Heikkinen, Miss. Laina\n",
      "3      0       Futrelle, Mrs. Jacques Heath (Lily May Peel)\n",
      "4      0                           Allen, Mr. William Henry\n"
     ]
    }
   ],
   "source": [
    "demo = pd.DataFrame(titanic_dataset[[\"Parch\",\"Name\"]][titanic_dataset[\"Parch\"] == 0])\n",
    "print(demo.head())"
   ]
  },
  {
   "cell_type": "code",
   "execution_count": null,
   "metadata": {
    "collapsed": false
   },
   "outputs": [],
   "source": []
  },
  {
   "cell_type": "code",
   "execution_count": 56,
   "metadata": {
    "collapsed": false
   },
   "outputs": [
    {
     "name": "stdout",
     "output_type": "stream",
     "text": [
      "SibSp    608\n",
      "Parch    678\n",
      "dtype: int64\n"
     ]
    }
   ],
   "source": [
    "not_null = titanic_dataset[titanic_dataset[[\"SibSp\", \"Parch\"]]==0][[\"SibSp\", \"Parch\"]].notnull().sum()   \n",
    "print(not_null)"
   ]
  },
  {
   "cell_type": "code",
   "execution_count": 57,
   "metadata": {
    "collapsed": false
   },
   "outputs": [
    {
     "data": {
      "text/plain": [
       "SibSp    891\n",
       "Parch    891\n",
       "dtype: int64"
      ]
     },
     "execution_count": 57,
     "metadata": {},
     "output_type": "execute_result"
    }
   ],
   "source": [
    "null + not_null"
   ]
  },
  {
   "cell_type": "code",
   "execution_count": 58,
   "metadata": {
    "collapsed": false
   },
   "outputs": [
    {
     "name": "stdout",
     "output_type": "stream",
     "text": [
      "SibSp    608\n",
      "Parch    678\n",
      "dtype: int64\n"
     ]
    }
   ],
   "source": [
    "null = titanic_dataset[titanic_dataset[[\"SibSp\", \"Parch\"]] >= 1][[\"SibSp\", \"Parch\"]].isnull().sum()   \n",
    "print(null)"
   ]
  },
  {
   "cell_type": "code",
   "execution_count": 59,
   "metadata": {
    "collapsed": false
   },
   "outputs": [
    {
     "name": "stdout",
     "output_type": "stream",
     "text": [
      "SibSp    283\n",
      "Parch    213\n",
      "dtype: int64\n"
     ]
    }
   ],
   "source": [
    "null = titanic_dataset[titanic_dataset[[\"SibSp\", \"Parch\"]] >= 1][[\"SibSp\", \"Parch\"]].notnull().sum()   \n",
    "print(null)"
   ]
  },
  {
   "cell_type": "code",
   "execution_count": 60,
   "metadata": {
    "collapsed": false
   },
   "outputs": [],
   "source": [
    "#demo_SibSp_Parch_survivors = {'Name': [], 'SibSp': [], \"Parch\":[]}\n",
    "#demo_no_SibSp_Parch_survivors = {'Name': [], 'SibSp': [], \"Parch\":[]}\n",
    "#demo_atleast_one_SibSp_survivors = {\"Name\": [], \"SibSp\": [], \"Parch\": []}\n",
    "#demo_atleast_one_Parch_survivors = {\"Name\": [], \"SibSp\": [], \"Parch\": []}\n",
    "#demo_more_than_one_SibSp_survivors = {\"Name\": [], \"SibSp\": [], \"Parch\": []}\n",
    "#demo_more_than_one_Parch_survivors = {\"Name\": [], \"SibSp\": [], \"Parch\": []}\n",
    "\n",
    "#for i in range(len(titanic_dataset)):\n",
    "        #if titanic_dataset[\"SibSp\"].iloc[i] == 0 and titanic_dataset[\"Parch\"].iloc[i] == 0 and titanic_dataset[\"Survived\"].iloc[i] == 1:\n",
    "            #demo_no_SibSp_Parch_survivors[\"Name\"].append(titanic_dataset[\"Name\"].iloc[i])\n",
    "            #demo_no_SibSp_Parch_survivors[\"SibSp\"].append(titanic_dataset[\"SibSp\"].iloc[i])\n",
    "            #demo_no_SibSp_Parch_survivors[\"Parch\"].append(titanic_dataset[\"Parch\"].iloc[i])\n",
    "        \n",
    "        #elif titanic_dataset[\"SibSp\"].iloc[i] == 1 and titanic_dataset[\"Parch\"].iloc[i] == 0 and titanic_dataset[\"Survived\"].iloc[i] == 1:\n",
    "            #demo_atleast_one_SibSp_survivors[\"Name\"].append(titanic_dataset[\"Name\"].iloc[i])\n",
    "            #demo_atleast_one_SibSp_survivors[\"SibSp\"].append(titanic_dataset[\"SibSp\"].iloc[i])\n",
    "            #demo_atleast_one_SibSp_survivors[\"Parch\"].append(titanic_dataset[\"Parch\"].iloc[i])\n",
    "        \n",
    "        #elif titanic_dataset[\"SibSp\"].iloc[i] == 0 and titanic_dataset[\"Parch\"].iloc[i] == 1 and titanic_dataset[\"Survived\"].iloc[i] == 1:\n",
    "            #demo_atleast_one_Parch_survivors[\"Name\"].append(titanic_dataset[\"Name\"].iloc[i])\n",
    "            #demo_atleast_one_Parch_survivors[\"SibSp\"].append(titanic_dataset[\"SibSp\"].iloc[i])\n",
    "            #demo_atleast_one_Parch_survivors[\"Parch\"].append(titanic_dataset[\"Parch\"].iloc[i])\n",
    "            \n",
    "        #elif titanic_dataset[\"SibSp\"].iloc[i] > 1 and titanic_dataset[\"Parch\"].iloc[i] == 0 and titanic_dataset[\"Survived\"].iloc[i] == 1:\n",
    "            #demo_more_than_one_SibSp_survivors[\"Name\"].append(titanic_dataset[\"Name\"].iloc[i])\n",
    "            #demo_more_than_one_SibSp_survivors[\"SibSp\"].append(titanic_dataset[\"SibSp\"].iloc[i])\n",
    "            #demo_more_than_one_SibSp_survivors[\"Parch\"].append(titanic_dataset[\"Parch\"].iloc[i])\n",
    "        \n",
    "        #elif titanic_dataset[\"SibSp\"].iloc[i] == 0 and titanic_dataset[\"Parch\"].iloc[i] > 1 and titanic_dataset[\"Survived\"].iloc[i] == 1:\n",
    "            #demo_more_than_one_Parch_survivors[\"Name\"].append(titanic_dataset[\"Name\"].iloc[i])\n",
    "            #demo_more_than_one_Parch_survivors[\"SibSp\"].append(titanic_dataset[\"SibSp\"].iloc[i])\n",
    "            #demo_more_than_one_Parch_survivors[\"Parch\"].append(titanic_dataset[\"Parch\"].iloc[i])\n",
    "             \n",
    "        #else:\n",
    "            #if titanic_dataset[\"SibSp\"].iloc[i] > 0 and titanic_dataset[\"Parch\"].iloc[i] > 0 and titanic_dataset[\"Survived\"].iloc[i] == 1:    \n",
    "                #demo_SibSp_Parch_survivors[\"Name\"].append(titanic_dataset[\"Name\"].iloc[i])\n",
    "                #demo_SibSp_Parch_survivors[\"SibSp\"].append(titanic_dataset[\"SibSp\"].iloc[i])\n",
    "                #demo_SibSp_Parch_survivors[\"Parch\"].append(titanic_dataset[\"Parch\"].iloc[i]) \n",
    "\n",
    "#print(pd.DataFrame(demo_no_SibSp_Parch_survivors).head())\n",
    "#print()\n",
    "#print(\"{} Passengers travelling single survived\".format(len(demo_no_SibSp_Parch_survivors[\"Name\"])))\n",
    "#print()\n",
    "#print(pd.DataFrame(demo_SibSp_Parch_survivors).head())\n",
    "#print()\n",
    "#print(\"{} Passengers travelling with both SibSp and Parch survived\".format(len(demo_SibSp_Parch_survivors[\"Name\"])))\n",
    "#print()\n",
    "#print(pd.DataFrame(demo_atleast_one_SibSp_survivors).head())\n",
    "#print()\n",
    "#print(\"{} passenger travelling with a SibSp survived\".format(len(demo_atleast_one_SibSp_survivors[\"Name\"])))\n",
    "#print()\n",
    "#print(pd.DataFrame(demo_atleast_one_Parch_survivors).head())\n",
    "#print()\n",
    "#print(\"{} passengers travelling with a parent survived\".format(len(demo_atleast_one_Parch_survivors[\"Name\"])))\n",
    "#print(pd.DataFrame(demo_more_than_one_SibSp_survivors).head())\n",
    "#print()\n",
    "#print(\"{} passengers travelling with more than one SibSp survived\".format(len(demo_more_than_one_SibSp_survivors[\"Name\"])))\n",
    "#print()\n",
    "#print(pd.DataFrame(demo_more_than_one_Parch_survivors).head())\n",
    "#print()\n",
    "#print(\"{} passengers with more than one Parch survived\".format(len(demo_more_than_one_Parch_survivors[\"Name\"])))"
   ]
  },
  {
   "cell_type": "code",
   "execution_count": 61,
   "metadata": {
    "collapsed": false
   },
   "outputs": [],
   "source": [
    "#163 + 62 + 64 + 25 + 6 + 22"
   ]
  },
  {
   "cell_type": "code",
   "execution_count": 62,
   "metadata": {
    "collapsed": false
   },
   "outputs": [
    {
     "data": {
      "text/plain": [
       "count    891.000000\n",
       "mean       0.383838\n",
       "std        0.486592\n",
       "min        0.000000\n",
       "25%        0.000000\n",
       "50%        0.000000\n",
       "75%        1.000000\n",
       "max        1.000000\n",
       "Name: Survived, dtype: float64"
      ]
     },
     "execution_count": 62,
     "metadata": {},
     "output_type": "execute_result"
    }
   ],
   "source": [
    "survival = titanic_dataset[\"Survived\"].describe()\n",
    "#round(survival,2)\n",
    "survival"
   ]
  },
  {
   "cell_type": "code",
   "execution_count": 63,
   "metadata": {
    "collapsed": false
   },
   "outputs": [
    {
     "name": "stdout",
     "output_type": "stream",
     "text": [
      "                 0         1         2     3         4    5    6\n",
      "SibSp     0.000000  1.000000  2.000000  3.00  4.000000  5.0  8.0\n",
      "Survived  0.345395  0.535885  0.464286  0.25  0.166667  0.0  0.0\n"
     ]
    },
    {
     "data": {
      "text/plain": [
       "<matplotlib.axes._subplots.AxesSubplot at 0x120f909b0>"
      ]
     },
     "execution_count": 63,
     "metadata": {},
     "output_type": "execute_result"
    },
    {
     "data": {
      "image/png": "[encoded data removed]",
      "text/plain": [
       "<matplotlib.figure.Figure at 0x11fbfb390>"
      ]
     },
     "metadata": {},
     "output_type": "display_data"
    }
   ],
   "source": [
    "sibsp = titanic_dataset[[\"SibSp\", \"Survived\"]].groupby([\"SibSp\"], as_index=False).mean()\n",
    "print(sibsp.transpose())\n",
    "plt.subplots(1, figsize=(15,5))\n",
    "sns.barplot(x=\"SibSp\", y=\"Survived\", data=sibsp, palette=\"plasma\")"
   ]
  },
  {
   "cell_type": "code",
   "execution_count": 64,
   "metadata": {
    "collapsed": false
   },
   "outputs": [
    {
     "name": "stdout",
     "output_type": "stream",
     "text": [
      "                 0         1    2    3    4    5    6\n",
      "Parch     0.000000  1.000000  2.0  3.0  4.0  5.0  6.0\n",
      "Survived  0.343658  0.550847  0.5  0.6  0.0  0.2  0.0\n"
     ]
    },
    {
     "data": {
      "text/plain": [
       "<matplotlib.axes._subplots.AxesSubplot at 0x121106978>"
      ]
     },
     "execution_count": 64,
     "metadata": {},
     "output_type": "execute_result"
    },
    {
     "data": {
      "image/png": "[encoded data removed]",
      "text/plain": [
       "<matplotlib.figure.Figure at 0x120ff5e10>"
      ]
     },
     "metadata": {},
     "output_type": "display_data"
    }
   ],
   "source": [
    "parch = titanic_dataset[[\"Parch\", \"Survived\"]].groupby([\"Parch\"], as_index=False).mean()\n",
    "print(parch.transpose())\n",
    "plt.subplots(1, figsize=(15,5))\n",
    "sns.barplot(x=\"Parch\", y=\"Survived\", data=parch, palette=\"spectral\")"
   ]
  },
  {
   "cell_type": "code",
   "execution_count": 65,
   "metadata": {
    "collapsed": false
   },
   "outputs": [],
   "source": [
    "SibSp_Val = {}\n",
    "for i in titanic_dataset[\"SibSp\"]:\n",
    "    SibSp_Val[i] = SibSp_Val.get(i, 0) + 1"
   ]
  },
  {
   "cell_type": "code",
   "execution_count": 66,
   "metadata": {
    "collapsed": false
   },
   "outputs": [
    {
     "name": "stdout",
     "output_type": "stream",
     "text": [
      "{1: 209, 0: 608, 3: 16, 4: 18, 2: 28, 5: 5, 8: 7}\n"
     ]
    }
   ],
   "source": [
    "print(SibSp_Val)"
   ]
  },
  {
   "cell_type": "code",
   "execution_count": 67,
   "metadata": {
    "collapsed": false
   },
   "outputs": [
    {
     "name": "stdout",
     "output_type": "stream",
     "text": [
      "{0: 678, 1: 118, 2: 80, 5: 5, 3: 5, 4: 4, 6: 1}\n"
     ]
    }
   ],
   "source": [
    "Parch_Val = {}\n",
    "for i in titanic_dataset[\"Parch\"]:\n",
    "    Parch_Val[i] = Parch_Val.get(i, 0) + 1\n",
    "print(Parch_Val)    "
   ]
  },
  {
   "cell_type": "code",
   "execution_count": 68,
   "metadata": {
    "collapsed": false
   },
   "outputs": [
    {
     "name": "stdout",
     "output_type": "stream",
     "text": [
      "{'S': 644, 'C': 168, 'Q': 77, nan: 2}\n"
     ]
    }
   ],
   "source": [
    "port_of_embarkation = {}\n",
    "for i in titanic_dataset[\"Embarked\"]:\n",
    "    port_of_embarkation[i] = port_of_embarkation.get(i, 0) + 1\n",
    "print(port_of_embarkation)"
   ]
  },
  {
   "cell_type": "code",
   "execution_count": 69,
   "metadata": {
    "collapsed": false
   },
   "outputs": [
    {
     "data": {
      "text/html": [
       "<div>\n",
       "<table border=\"1\" class=\"dataframe\">\n",
       "  <thead>\n",
       "    <tr style=\"text-align: right;\">\n",
       "      <th></th>\n",
       "      <th>Sex</th>\n",
       "      <th>Survived</th>\n",
       "      <th>Pclass</th>\n",
       "      <th>Age</th>\n",
       "      <th>SibSp</th>\n",
       "      <th>Parch</th>\n",
       "      <th>Fare</th>\n",
       "    </tr>\n",
       "  </thead>\n",
       "  <tbody>\n",
       "    <tr>\n",
       "      <th>0</th>\n",
       "      <td>female</td>\n",
       "      <td>0.742038</td>\n",
       "      <td>2.159236</td>\n",
       "      <td>28.289809</td>\n",
       "      <td>0.694268</td>\n",
       "      <td>0.649682</td>\n",
       "      <td>44.479818</td>\n",
       "    </tr>\n",
       "    <tr>\n",
       "      <th>1</th>\n",
       "      <td>male</td>\n",
       "      <td>0.188908</td>\n",
       "      <td>2.389948</td>\n",
       "      <td>30.431837</td>\n",
       "      <td>0.429809</td>\n",
       "      <td>0.235702</td>\n",
       "      <td>25.523893</td>\n",
       "    </tr>\n",
       "  </tbody>\n",
       "</table>\n",
       "</div>"
      ],
      "text/plain": [
       "      Sex  Survived    Pclass        Age     SibSp     Parch       Fare\n",
       "0  female  0.742038  2.159236  28.289809  0.694268  0.649682  44.479818\n",
       "1    male  0.188908  2.389948  30.431837  0.429809  0.235702  25.523893"
      ]
     },
     "execution_count": 69,
     "metadata": {},
     "output_type": "execute_result"
    }
   ],
   "source": [
    "titanic_dataset.groupby(titanic_dataset[\"Sex\"], as_index=False).mean().drop(\"PassengerId\", axis=1)"
   ]
  },
  {
   "cell_type": "code",
   "execution_count": 70,
   "metadata": {
    "collapsed": false
   },
   "outputs": [
    {
     "data": {
      "text/html": [
       "<div>\n",
       "<table border=\"1\" class=\"dataframe\">\n",
       "  <thead>\n",
       "    <tr style=\"text-align: right;\">\n",
       "      <th></th>\n",
       "      <th>Embarked</th>\n",
       "      <th>Survived</th>\n",
       "      <th>Pclass</th>\n",
       "      <th>Age</th>\n",
       "      <th>SibSp</th>\n",
       "      <th>Parch</th>\n",
       "      <th>Fare</th>\n",
       "    </tr>\n",
       "  </thead>\n",
       "  <tbody>\n",
       "    <tr>\n",
       "      <th>0</th>\n",
       "      <td>C</td>\n",
       "      <td>0.553571</td>\n",
       "      <td>1.886905</td>\n",
       "      <td>30.862619</td>\n",
       "      <td>0.386905</td>\n",
       "      <td>0.363095</td>\n",
       "      <td>59.954144</td>\n",
       "    </tr>\n",
       "    <tr>\n",
       "      <th>1</th>\n",
       "      <td>Q</td>\n",
       "      <td>0.389610</td>\n",
       "      <td>2.909091</td>\n",
       "      <td>29.357143</td>\n",
       "      <td>0.428571</td>\n",
       "      <td>0.168831</td>\n",
       "      <td>13.276030</td>\n",
       "    </tr>\n",
       "    <tr>\n",
       "      <th>2</th>\n",
       "      <td>S</td>\n",
       "      <td>0.336957</td>\n",
       "      <td>2.350932</td>\n",
       "      <td>29.342780</td>\n",
       "      <td>0.571429</td>\n",
       "      <td>0.413043</td>\n",
       "      <td>27.079812</td>\n",
       "    </tr>\n",
       "  </tbody>\n",
       "</table>\n",
       "</div>"
      ],
      "text/plain": [
       "  Embarked  Survived    Pclass        Age     SibSp     Parch       Fare\n",
       "0        C  0.553571  1.886905  30.862619  0.386905  0.363095  59.954144\n",
       "1        Q  0.389610  2.909091  29.357143  0.428571  0.168831  13.276030\n",
       "2        S  0.336957  2.350932  29.342780  0.571429  0.413043  27.079812"
      ]
     },
     "execution_count": 70,
     "metadata": {},
     "output_type": "execute_result"
    }
   ],
   "source": [
    "titanic_dataset.groupby(titanic_dataset[\"Embarked\"], as_index=False).mean().drop(\"PassengerId\", axis=1)"
   ]
  },
  {
   "cell_type": "code",
   "execution_count": 71,
   "metadata": {
    "collapsed": false
   },
   "outputs": [
    {
     "data": {
      "text/html": [
       "<div>\n",
       "<table border=\"1\" class=\"dataframe\">\n",
       "  <thead>\n",
       "    <tr style=\"text-align: right;\">\n",
       "      <th></th>\n",
       "      <th>Pclass</th>\n",
       "      <th>Survived</th>\n",
       "      <th>Age</th>\n",
       "      <th>SibSp</th>\n",
       "      <th>Parch</th>\n",
       "      <th>Fare</th>\n",
       "    </tr>\n",
       "  </thead>\n",
       "  <tbody>\n",
       "    <tr>\n",
       "      <th>0</th>\n",
       "      <td>1</td>\n",
       "      <td>0.629630</td>\n",
       "      <td>37.038981</td>\n",
       "      <td>0.416667</td>\n",
       "      <td>0.356481</td>\n",
       "      <td>84.154687</td>\n",
       "    </tr>\n",
       "    <tr>\n",
       "      <th>1</th>\n",
       "      <td>2</td>\n",
       "      <td>0.472826</td>\n",
       "      <td>29.825163</td>\n",
       "      <td>0.402174</td>\n",
       "      <td>0.380435</td>\n",
       "      <td>20.662183</td>\n",
       "    </tr>\n",
       "    <tr>\n",
       "      <th>2</th>\n",
       "      <td>3</td>\n",
       "      <td>0.242363</td>\n",
       "      <td>26.382729</td>\n",
       "      <td>0.615071</td>\n",
       "      <td>0.393075</td>\n",
       "      <td>13.675550</td>\n",
       "    </tr>\n",
       "  </tbody>\n",
       "</table>\n",
       "</div>"
      ],
      "text/plain": [
       "   Pclass  Survived        Age     SibSp     Parch       Fare\n",
       "0       1  0.629630  37.038981  0.416667  0.356481  84.154687\n",
       "1       2  0.472826  29.825163  0.402174  0.380435  20.662183\n",
       "2       3  0.242363  26.382729  0.615071  0.393075  13.675550"
      ]
     },
     "execution_count": 71,
     "metadata": {},
     "output_type": "execute_result"
    }
   ],
   "source": [
    "titanic_dataset.groupby(titanic_dataset[\"Pclass\"], as_index=False).mean().drop(\"PassengerId\", axis=1)"
   ]
  },
  {
   "cell_type": "code",
   "execution_count": 72,
   "metadata": {
    "collapsed": false
   },
   "outputs": [
    {
     "data": {
      "text/html": [
       "<div>\n",
       "<table border=\"1\" class=\"dataframe\">\n",
       "  <thead>\n",
       "    <tr style=\"text-align: right;\">\n",
       "      <th></th>\n",
       "      <th>PassengerId</th>\n",
       "      <th>Survived</th>\n",
       "      <th>Pclass</th>\n",
       "      <th>Name</th>\n",
       "      <th>Sex</th>\n",
       "      <th>Age</th>\n",
       "      <th>SibSp</th>\n",
       "      <th>Parch</th>\n",
       "      <th>Ticket</th>\n",
       "      <th>Fare</th>\n",
       "      <th>Cabin</th>\n",
       "      <th>Embarked</th>\n",
       "    </tr>\n",
       "  </thead>\n",
       "  <tbody>\n",
       "    <tr>\n",
       "      <th>1</th>\n",
       "      <td>2</td>\n",
       "      <td>1</td>\n",
       "      <td>1</td>\n",
       "      <td>Cumings, Mrs. John Bradley (Florence Briggs Th...</td>\n",
       "      <td>female</td>\n",
       "      <td>38.0</td>\n",
       "      <td>1</td>\n",
       "      <td>0</td>\n",
       "      <td>PC 17599</td>\n",
       "      <td>71.2833</td>\n",
       "      <td>C85</td>\n",
       "      <td>C</td>\n",
       "    </tr>\n",
       "    <tr>\n",
       "      <th>2</th>\n",
       "      <td>3</td>\n",
       "      <td>1</td>\n",
       "      <td>3</td>\n",
       "      <td>Heikkinen, Miss. Laina</td>\n",
       "      <td>female</td>\n",
       "      <td>26.0</td>\n",
       "      <td>0</td>\n",
       "      <td>0</td>\n",
       "      <td>STON/O2. 3101282</td>\n",
       "      <td>7.9250</td>\n",
       "      <td>NaN</td>\n",
       "      <td>S</td>\n",
       "    </tr>\n",
       "    <tr>\n",
       "      <th>3</th>\n",
       "      <td>4</td>\n",
       "      <td>1</td>\n",
       "      <td>1</td>\n",
       "      <td>Futrelle, Mrs. Jacques Heath (Lily May Peel)</td>\n",
       "      <td>female</td>\n",
       "      <td>35.0</td>\n",
       "      <td>1</td>\n",
       "      <td>0</td>\n",
       "      <td>113803</td>\n",
       "      <td>53.1000</td>\n",
       "      <td>C123</td>\n",
       "      <td>S</td>\n",
       "    </tr>\n",
       "    <tr>\n",
       "      <th>8</th>\n",
       "      <td>9</td>\n",
       "      <td>1</td>\n",
       "      <td>3</td>\n",
       "      <td>Johnson, Mrs. Oscar W (Elisabeth Vilhelmina Berg)</td>\n",
       "      <td>female</td>\n",
       "      <td>27.0</td>\n",
       "      <td>0</td>\n",
       "      <td>2</td>\n",
       "      <td>347742</td>\n",
       "      <td>11.1333</td>\n",
       "      <td>NaN</td>\n",
       "      <td>S</td>\n",
       "    </tr>\n",
       "    <tr>\n",
       "      <th>17</th>\n",
       "      <td>18</td>\n",
       "      <td>1</td>\n",
       "      <td>2</td>\n",
       "      <td>Williams, Mr. Charles Eugene</td>\n",
       "      <td>male</td>\n",
       "      <td>38.0</td>\n",
       "      <td>0</td>\n",
       "      <td>0</td>\n",
       "      <td>244373</td>\n",
       "      <td>13.0000</td>\n",
       "      <td>NaN</td>\n",
       "      <td>S</td>\n",
       "    </tr>\n",
       "    <tr>\n",
       "      <th>21</th>\n",
       "      <td>22</td>\n",
       "      <td>1</td>\n",
       "      <td>2</td>\n",
       "      <td>Beesley, Mr. Lawrence</td>\n",
       "      <td>male</td>\n",
       "      <td>34.0</td>\n",
       "      <td>0</td>\n",
       "      <td>0</td>\n",
       "      <td>248698</td>\n",
       "      <td>13.0000</td>\n",
       "      <td>D56</td>\n",
       "      <td>S</td>\n",
       "    </tr>\n",
       "    <tr>\n",
       "      <th>23</th>\n",
       "      <td>24</td>\n",
       "      <td>1</td>\n",
       "      <td>1</td>\n",
       "      <td>Sloper, Mr. William Thompson</td>\n",
       "      <td>male</td>\n",
       "      <td>28.0</td>\n",
       "      <td>0</td>\n",
       "      <td>0</td>\n",
       "      <td>113788</td>\n",
       "      <td>35.5000</td>\n",
       "      <td>A6</td>\n",
       "      <td>S</td>\n",
       "    </tr>\n",
       "    <tr>\n",
       "      <th>25</th>\n",
       "      <td>26</td>\n",
       "      <td>1</td>\n",
       "      <td>3</td>\n",
       "      <td>Asplund, Mrs. Carl Oscar (Selma Augusta Emilia...</td>\n",
       "      <td>female</td>\n",
       "      <td>38.0</td>\n",
       "      <td>1</td>\n",
       "      <td>5</td>\n",
       "      <td>347077</td>\n",
       "      <td>31.3875</td>\n",
       "      <td>NaN</td>\n",
       "      <td>S</td>\n",
       "    </tr>\n",
       "    <tr>\n",
       "      <th>28</th>\n",
       "      <td>29</td>\n",
       "      <td>1</td>\n",
       "      <td>3</td>\n",
       "      <td>O'Dwyer, Miss. Ellen \"Nellie\"</td>\n",
       "      <td>female</td>\n",
       "      <td>39.0</td>\n",
       "      <td>0</td>\n",
       "      <td>0</td>\n",
       "      <td>330959</td>\n",
       "      <td>7.8792</td>\n",
       "      <td>NaN</td>\n",
       "      <td>Q</td>\n",
       "    </tr>\n",
       "    <tr>\n",
       "      <th>31</th>\n",
       "      <td>32</td>\n",
       "      <td>1</td>\n",
       "      <td>1</td>\n",
       "      <td>Spencer, Mrs. William Augustus (Marie Eugenie)</td>\n",
       "      <td>female</td>\n",
       "      <td>38.0</td>\n",
       "      <td>1</td>\n",
       "      <td>0</td>\n",
       "      <td>PC 17569</td>\n",
       "      <td>146.5208</td>\n",
       "      <td>B78</td>\n",
       "      <td>C</td>\n",
       "    </tr>\n",
       "    <tr>\n",
       "      <th>32</th>\n",
       "      <td>33</td>\n",
       "      <td>1</td>\n",
       "      <td>3</td>\n",
       "      <td>Glynn, Miss. Mary Agatha</td>\n",
       "      <td>female</td>\n",
       "      <td>23.0</td>\n",
       "      <td>0</td>\n",
       "      <td>0</td>\n",
       "      <td>335677</td>\n",
       "      <td>7.7500</td>\n",
       "      <td>NaN</td>\n",
       "      <td>Q</td>\n",
       "    </tr>\n",
       "    <tr>\n",
       "      <th>36</th>\n",
       "      <td>37</td>\n",
       "      <td>1</td>\n",
       "      <td>3</td>\n",
       "      <td>Mamee, Mr. Hanna</td>\n",
       "      <td>male</td>\n",
       "      <td>27.0</td>\n",
       "      <td>0</td>\n",
       "      <td>0</td>\n",
       "      <td>2677</td>\n",
       "      <td>7.2292</td>\n",
       "      <td>NaN</td>\n",
       "      <td>C</td>\n",
       "    </tr>\n",
       "    <tr>\n",
       "      <th>44</th>\n",
       "      <td>45</td>\n",
       "      <td>1</td>\n",
       "      <td>3</td>\n",
       "      <td>Devaney, Miss. Margaret Delia</td>\n",
       "      <td>female</td>\n",
       "      <td>19.0</td>\n",
       "      <td>0</td>\n",
       "      <td>0</td>\n",
       "      <td>330958</td>\n",
       "      <td>7.8792</td>\n",
       "      <td>NaN</td>\n",
       "      <td>Q</td>\n",
       "    </tr>\n",
       "    <tr>\n",
       "      <th>47</th>\n",
       "      <td>48</td>\n",
       "      <td>1</td>\n",
       "      <td>3</td>\n",
       "      <td>O'Driscoll, Miss. Bridget</td>\n",
       "      <td>female</td>\n",
       "      <td>33.0</td>\n",
       "      <td>0</td>\n",
       "      <td>0</td>\n",
       "      <td>14311</td>\n",
       "      <td>7.7500</td>\n",
       "      <td>NaN</td>\n",
       "      <td>Q</td>\n",
       "    </tr>\n",
       "    <tr>\n",
       "      <th>53</th>\n",
       "      <td>54</td>\n",
       "      <td>1</td>\n",
       "      <td>2</td>\n",
       "      <td>Faunthorpe, Mrs. Lizzie (Elizabeth Anne Wilkin...</td>\n",
       "      <td>female</td>\n",
       "      <td>29.0</td>\n",
       "      <td>1</td>\n",
       "      <td>0</td>\n",
       "      <td>2926</td>\n",
       "      <td>26.0000</td>\n",
       "      <td>NaN</td>\n",
       "      <td>S</td>\n",
       "    </tr>\n",
       "    <tr>\n",
       "      <th>55</th>\n",
       "      <td>56</td>\n",
       "      <td>1</td>\n",
       "      <td>1</td>\n",
       "      <td>Woolner, Mr. Hugh</td>\n",
       "      <td>male</td>\n",
       "      <td>24.0</td>\n",
       "      <td>0</td>\n",
       "      <td>0</td>\n",
       "      <td>19947</td>\n",
       "      <td>35.5000</td>\n",
       "      <td>C52</td>\n",
       "      <td>S</td>\n",
       "    </tr>\n",
       "    <tr>\n",
       "      <th>56</th>\n",
       "      <td>57</td>\n",
       "      <td>1</td>\n",
       "      <td>2</td>\n",
       "      <td>Rugg, Miss. Emily</td>\n",
       "      <td>female</td>\n",
       "      <td>21.0</td>\n",
       "      <td>0</td>\n",
       "      <td>0</td>\n",
       "      <td>C.A. 31026</td>\n",
       "      <td>10.5000</td>\n",
       "      <td>NaN</td>\n",
       "      <td>S</td>\n",
       "    </tr>\n",
       "    <tr>\n",
       "      <th>61</th>\n",
       "      <td>62</td>\n",
       "      <td>1</td>\n",
       "      <td>1</td>\n",
       "      <td>Icard, Miss. Amelie</td>\n",
       "      <td>female</td>\n",
       "      <td>38.0</td>\n",
       "      <td>0</td>\n",
       "      <td>0</td>\n",
       "      <td>113572</td>\n",
       "      <td>80.0000</td>\n",
       "      <td>B28</td>\n",
       "      <td>NaN</td>\n",
       "    </tr>\n",
       "    <tr>\n",
       "      <th>65</th>\n",
       "      <td>66</td>\n",
       "      <td>1</td>\n",
       "      <td>3</td>\n",
       "      <td>Moubarek, Master. Gerios</td>\n",
       "      <td>male</td>\n",
       "      <td>35.0</td>\n",
       "      <td>1</td>\n",
       "      <td>1</td>\n",
       "      <td>2661</td>\n",
       "      <td>15.2458</td>\n",
       "      <td>NaN</td>\n",
       "      <td>C</td>\n",
       "    </tr>\n",
       "    <tr>\n",
       "      <th>66</th>\n",
       "      <td>67</td>\n",
       "      <td>1</td>\n",
       "      <td>2</td>\n",
       "      <td>Nye, Mrs. (Elizabeth Ramell)</td>\n",
       "      <td>female</td>\n",
       "      <td>29.0</td>\n",
       "      <td>0</td>\n",
       "      <td>0</td>\n",
       "      <td>C.A. 29395</td>\n",
       "      <td>10.5000</td>\n",
       "      <td>F33</td>\n",
       "      <td>S</td>\n",
       "    </tr>\n",
       "    <tr>\n",
       "      <th>74</th>\n",
       "      <td>75</td>\n",
       "      <td>1</td>\n",
       "      <td>3</td>\n",
       "      <td>Bing, Mr. Lee</td>\n",
       "      <td>male</td>\n",
       "      <td>32.0</td>\n",
       "      <td>0</td>\n",
       "      <td>0</td>\n",
       "      <td>1601</td>\n",
       "      <td>56.4958</td>\n",
       "      <td>NaN</td>\n",
       "      <td>S</td>\n",
       "    </tr>\n",
       "    <tr>\n",
       "      <th>79</th>\n",
       "      <td>80</td>\n",
       "      <td>1</td>\n",
       "      <td>3</td>\n",
       "      <td>Dowdell, Miss. Elizabeth</td>\n",
       "      <td>female</td>\n",
       "      <td>30.0</td>\n",
       "      <td>0</td>\n",
       "      <td>0</td>\n",
       "      <td>364516</td>\n",
       "      <td>12.4750</td>\n",
       "      <td>NaN</td>\n",
       "      <td>S</td>\n",
       "    </tr>\n",
       "    <tr>\n",
       "      <th>81</th>\n",
       "      <td>82</td>\n",
       "      <td>1</td>\n",
       "      <td>3</td>\n",
       "      <td>Sheerlinck, Mr. Jan Baptist</td>\n",
       "      <td>male</td>\n",
       "      <td>29.0</td>\n",
       "      <td>0</td>\n",
       "      <td>0</td>\n",
       "      <td>345779</td>\n",
       "      <td>9.5000</td>\n",
       "      <td>NaN</td>\n",
       "      <td>S</td>\n",
       "    </tr>\n",
       "    <tr>\n",
       "      <th>82</th>\n",
       "      <td>83</td>\n",
       "      <td>1</td>\n",
       "      <td>3</td>\n",
       "      <td>McDermott, Miss. Brigdet Delia</td>\n",
       "      <td>female</td>\n",
       "      <td>39.0</td>\n",
       "      <td>0</td>\n",
       "      <td>0</td>\n",
       "      <td>330932</td>\n",
       "      <td>7.7875</td>\n",
       "      <td>NaN</td>\n",
       "      <td>Q</td>\n",
       "    </tr>\n",
       "    <tr>\n",
       "      <th>85</th>\n",
       "      <td>86</td>\n",
       "      <td>1</td>\n",
       "      <td>3</td>\n",
       "      <td>Backstrom, Mrs. Karl Alfred (Maria Mathilda Gu...</td>\n",
       "      <td>female</td>\n",
       "      <td>33.0</td>\n",
       "      <td>3</td>\n",
       "      <td>0</td>\n",
       "      <td>3101278</td>\n",
       "      <td>15.8500</td>\n",
       "      <td>NaN</td>\n",
       "      <td>S</td>\n",
       "    </tr>\n",
       "    <tr>\n",
       "      <th>88</th>\n",
       "      <td>89</td>\n",
       "      <td>1</td>\n",
       "      <td>1</td>\n",
       "      <td>Fortune, Miss. Mabel Helen</td>\n",
       "      <td>female</td>\n",
       "      <td>23.0</td>\n",
       "      <td>3</td>\n",
       "      <td>2</td>\n",
       "      <td>19950</td>\n",
       "      <td>263.0000</td>\n",
       "      <td>C23 C25 C27</td>\n",
       "      <td>S</td>\n",
       "    </tr>\n",
       "    <tr>\n",
       "      <th>97</th>\n",
       "      <td>98</td>\n",
       "      <td>1</td>\n",
       "      <td>1</td>\n",
       "      <td>Greenfield, Mr. William Bertram</td>\n",
       "      <td>male</td>\n",
       "      <td>23.0</td>\n",
       "      <td>0</td>\n",
       "      <td>1</td>\n",
       "      <td>PC 17759</td>\n",
       "      <td>63.3583</td>\n",
       "      <td>D10 D12</td>\n",
       "      <td>C</td>\n",
       "    </tr>\n",
       "    <tr>\n",
       "      <th>98</th>\n",
       "      <td>99</td>\n",
       "      <td>1</td>\n",
       "      <td>2</td>\n",
       "      <td>Doling, Mrs. John T (Ada Julia Bone)</td>\n",
       "      <td>female</td>\n",
       "      <td>34.0</td>\n",
       "      <td>0</td>\n",
       "      <td>1</td>\n",
       "      <td>231919</td>\n",
       "      <td>23.0000</td>\n",
       "      <td>NaN</td>\n",
       "      <td>S</td>\n",
       "    </tr>\n",
       "    <tr>\n",
       "      <th>106</th>\n",
       "      <td>107</td>\n",
       "      <td>1</td>\n",
       "      <td>3</td>\n",
       "      <td>Salkjelsvik, Miss. Anna Kristine</td>\n",
       "      <td>female</td>\n",
       "      <td>21.0</td>\n",
       "      <td>0</td>\n",
       "      <td>0</td>\n",
       "      <td>343120</td>\n",
       "      <td>7.6500</td>\n",
       "      <td>NaN</td>\n",
       "      <td>S</td>\n",
       "    </tr>\n",
       "    <tr>\n",
       "      <th>107</th>\n",
       "      <td>108</td>\n",
       "      <td>1</td>\n",
       "      <td>3</td>\n",
       "      <td>Moss, Mr. Albert Johan</td>\n",
       "      <td>male</td>\n",
       "      <td>29.0</td>\n",
       "      <td>0</td>\n",
       "      <td>0</td>\n",
       "      <td>312991</td>\n",
       "      <td>7.7750</td>\n",
       "      <td>NaN</td>\n",
       "      <td>S</td>\n",
       "    </tr>\n",
       "    <tr>\n",
       "      <th>...</th>\n",
       "      <td>...</td>\n",
       "      <td>...</td>\n",
       "      <td>...</td>\n",
       "      <td>...</td>\n",
       "      <td>...</td>\n",
       "      <td>...</td>\n",
       "      <td>...</td>\n",
       "      <td>...</td>\n",
       "      <td>...</td>\n",
       "      <td>...</td>\n",
       "      <td>...</td>\n",
       "      <td>...</td>\n",
       "    </tr>\n",
       "    <tr>\n",
       "      <th>716</th>\n",
       "      <td>717</td>\n",
       "      <td>1</td>\n",
       "      <td>1</td>\n",
       "      <td>Endres, Miss. Caroline Louise</td>\n",
       "      <td>female</td>\n",
       "      <td>38.0</td>\n",
       "      <td>0</td>\n",
       "      <td>0</td>\n",
       "      <td>PC 17757</td>\n",
       "      <td>227.5250</td>\n",
       "      <td>C45</td>\n",
       "      <td>C</td>\n",
       "    </tr>\n",
       "    <tr>\n",
       "      <th>717</th>\n",
       "      <td>718</td>\n",
       "      <td>1</td>\n",
       "      <td>2</td>\n",
       "      <td>Troutt, Miss. Edwina Celia \"Winnie\"</td>\n",
       "      <td>female</td>\n",
       "      <td>27.0</td>\n",
       "      <td>0</td>\n",
       "      <td>0</td>\n",
       "      <td>34218</td>\n",
       "      <td>10.5000</td>\n",
       "      <td>E101</td>\n",
       "      <td>S</td>\n",
       "    </tr>\n",
       "    <tr>\n",
       "      <th>724</th>\n",
       "      <td>725</td>\n",
       "      <td>1</td>\n",
       "      <td>1</td>\n",
       "      <td>Chambers, Mr. Norman Campbell</td>\n",
       "      <td>male</td>\n",
       "      <td>27.0</td>\n",
       "      <td>1</td>\n",
       "      <td>0</td>\n",
       "      <td>113806</td>\n",
       "      <td>53.1000</td>\n",
       "      <td>E8</td>\n",
       "      <td>S</td>\n",
       "    </tr>\n",
       "    <tr>\n",
       "      <th>726</th>\n",
       "      <td>727</td>\n",
       "      <td>1</td>\n",
       "      <td>2</td>\n",
       "      <td>Renouf, Mrs. Peter Henry (Lillian Jefferys)</td>\n",
       "      <td>female</td>\n",
       "      <td>30.0</td>\n",
       "      <td>3</td>\n",
       "      <td>0</td>\n",
       "      <td>31027</td>\n",
       "      <td>21.0000</td>\n",
       "      <td>NaN</td>\n",
       "      <td>S</td>\n",
       "    </tr>\n",
       "    <tr>\n",
       "      <th>727</th>\n",
       "      <td>728</td>\n",
       "      <td>1</td>\n",
       "      <td>3</td>\n",
       "      <td>Mannion, Miss. Margareth</td>\n",
       "      <td>female</td>\n",
       "      <td>37.0</td>\n",
       "      <td>0</td>\n",
       "      <td>0</td>\n",
       "      <td>36866</td>\n",
       "      <td>7.7375</td>\n",
       "      <td>NaN</td>\n",
       "      <td>Q</td>\n",
       "    </tr>\n",
       "    <tr>\n",
       "      <th>730</th>\n",
       "      <td>731</td>\n",
       "      <td>1</td>\n",
       "      <td>1</td>\n",
       "      <td>Allen, Miss. Elisabeth Walton</td>\n",
       "      <td>female</td>\n",
       "      <td>29.0</td>\n",
       "      <td>0</td>\n",
       "      <td>0</td>\n",
       "      <td>24160</td>\n",
       "      <td>211.3375</td>\n",
       "      <td>B5</td>\n",
       "      <td>S</td>\n",
       "    </tr>\n",
       "    <tr>\n",
       "      <th>737</th>\n",
       "      <td>738</td>\n",
       "      <td>1</td>\n",
       "      <td>1</td>\n",
       "      <td>Lesurer, Mr. Gustave J</td>\n",
       "      <td>male</td>\n",
       "      <td>35.0</td>\n",
       "      <td>0</td>\n",
       "      <td>0</td>\n",
       "      <td>PC 17755</td>\n",
       "      <td>512.3292</td>\n",
       "      <td>B101</td>\n",
       "      <td>C</td>\n",
       "    </tr>\n",
       "    <tr>\n",
       "      <th>742</th>\n",
       "      <td>743</td>\n",
       "      <td>1</td>\n",
       "      <td>1</td>\n",
       "      <td>Ryerson, Miss. Susan Parker \"Suzette\"</td>\n",
       "      <td>female</td>\n",
       "      <td>21.0</td>\n",
       "      <td>2</td>\n",
       "      <td>2</td>\n",
       "      <td>PC 17608</td>\n",
       "      <td>262.3750</td>\n",
       "      <td>B57 B59 B63 B66</td>\n",
       "      <td>C</td>\n",
       "    </tr>\n",
       "    <tr>\n",
       "      <th>744</th>\n",
       "      <td>745</td>\n",
       "      <td>1</td>\n",
       "      <td>3</td>\n",
       "      <td>Stranden, Mr. Juho</td>\n",
       "      <td>male</td>\n",
       "      <td>31.0</td>\n",
       "      <td>0</td>\n",
       "      <td>0</td>\n",
       "      <td>STON/O 2. 3101288</td>\n",
       "      <td>7.9250</td>\n",
       "      <td>NaN</td>\n",
       "      <td>S</td>\n",
       "    </tr>\n",
       "    <tr>\n",
       "      <th>747</th>\n",
       "      <td>748</td>\n",
       "      <td>1</td>\n",
       "      <td>2</td>\n",
       "      <td>Sinkkonen, Miss. Anna</td>\n",
       "      <td>female</td>\n",
       "      <td>30.0</td>\n",
       "      <td>0</td>\n",
       "      <td>0</td>\n",
       "      <td>250648</td>\n",
       "      <td>13.0000</td>\n",
       "      <td>NaN</td>\n",
       "      <td>S</td>\n",
       "    </tr>\n",
       "    <tr>\n",
       "      <th>759</th>\n",
       "      <td>760</td>\n",
       "      <td>1</td>\n",
       "      <td>1</td>\n",
       "      <td>Rothes, the Countess. of (Lucy Noel Martha Dye...</td>\n",
       "      <td>female</td>\n",
       "      <td>33.0</td>\n",
       "      <td>0</td>\n",
       "      <td>0</td>\n",
       "      <td>110152</td>\n",
       "      <td>86.5000</td>\n",
       "      <td>B77</td>\n",
       "      <td>S</td>\n",
       "    </tr>\n",
       "    <tr>\n",
       "      <th>762</th>\n",
       "      <td>763</td>\n",
       "      <td>1</td>\n",
       "      <td>3</td>\n",
       "      <td>Barah, Mr. Hanna Assi</td>\n",
       "      <td>male</td>\n",
       "      <td>20.0</td>\n",
       "      <td>0</td>\n",
       "      <td>0</td>\n",
       "      <td>2663</td>\n",
       "      <td>7.2292</td>\n",
       "      <td>NaN</td>\n",
       "      <td>C</td>\n",
       "    </tr>\n",
       "    <tr>\n",
       "      <th>763</th>\n",
       "      <td>764</td>\n",
       "      <td>1</td>\n",
       "      <td>1</td>\n",
       "      <td>Carter, Mrs. William Ernest (Lucile Polk)</td>\n",
       "      <td>female</td>\n",
       "      <td>36.0</td>\n",
       "      <td>1</td>\n",
       "      <td>2</td>\n",
       "      <td>113760</td>\n",
       "      <td>120.0000</td>\n",
       "      <td>B96 B98</td>\n",
       "      <td>S</td>\n",
       "    </tr>\n",
       "    <tr>\n",
       "      <th>797</th>\n",
       "      <td>798</td>\n",
       "      <td>1</td>\n",
       "      <td>3</td>\n",
       "      <td>Osman, Mrs. Mara</td>\n",
       "      <td>female</td>\n",
       "      <td>31.0</td>\n",
       "      <td>0</td>\n",
       "      <td>0</td>\n",
       "      <td>349244</td>\n",
       "      <td>8.6833</td>\n",
       "      <td>NaN</td>\n",
       "      <td>S</td>\n",
       "    </tr>\n",
       "    <tr>\n",
       "      <th>801</th>\n",
       "      <td>802</td>\n",
       "      <td>1</td>\n",
       "      <td>2</td>\n",
       "      <td>Collyer, Mrs. Harvey (Charlotte Annie Tate)</td>\n",
       "      <td>female</td>\n",
       "      <td>31.0</td>\n",
       "      <td>1</td>\n",
       "      <td>1</td>\n",
       "      <td>C.A. 31921</td>\n",
       "      <td>26.2500</td>\n",
       "      <td>NaN</td>\n",
       "      <td>S</td>\n",
       "    </tr>\n",
       "    <tr>\n",
       "      <th>804</th>\n",
       "      <td>805</td>\n",
       "      <td>1</td>\n",
       "      <td>3</td>\n",
       "      <td>Hedman, Mr. Oskar Arvid</td>\n",
       "      <td>male</td>\n",
       "      <td>27.0</td>\n",
       "      <td>0</td>\n",
       "      <td>0</td>\n",
       "      <td>347089</td>\n",
       "      <td>6.9750</td>\n",
       "      <td>NaN</td>\n",
       "      <td>S</td>\n",
       "    </tr>\n",
       "    <tr>\n",
       "      <th>809</th>\n",
       "      <td>810</td>\n",
       "      <td>1</td>\n",
       "      <td>1</td>\n",
       "      <td>Chambers, Mrs. Norman Campbell (Bertha Griggs)</td>\n",
       "      <td>female</td>\n",
       "      <td>33.0</td>\n",
       "      <td>1</td>\n",
       "      <td>0</td>\n",
       "      <td>113806</td>\n",
       "      <td>53.1000</td>\n",
       "      <td>E8</td>\n",
       "      <td>S</td>\n",
       "    </tr>\n",
       "    <tr>\n",
       "      <th>821</th>\n",
       "      <td>822</td>\n",
       "      <td>1</td>\n",
       "      <td>3</td>\n",
       "      <td>Lulic, Mr. Nikola</td>\n",
       "      <td>male</td>\n",
       "      <td>27.0</td>\n",
       "      <td>0</td>\n",
       "      <td>0</td>\n",
       "      <td>315098</td>\n",
       "      <td>8.6625</td>\n",
       "      <td>NaN</td>\n",
       "      <td>S</td>\n",
       "    </tr>\n",
       "    <tr>\n",
       "      <th>823</th>\n",
       "      <td>824</td>\n",
       "      <td>1</td>\n",
       "      <td>3</td>\n",
       "      <td>Moor, Mrs. (Beila)</td>\n",
       "      <td>female</td>\n",
       "      <td>27.0</td>\n",
       "      <td>0</td>\n",
       "      <td>1</td>\n",
       "      <td>392096</td>\n",
       "      <td>12.4750</td>\n",
       "      <td>E121</td>\n",
       "      <td>S</td>\n",
       "    </tr>\n",
       "    <tr>\n",
       "      <th>835</th>\n",
       "      <td>836</td>\n",
       "      <td>1</td>\n",
       "      <td>1</td>\n",
       "      <td>Compton, Miss. Sara Rebecca</td>\n",
       "      <td>female</td>\n",
       "      <td>39.0</td>\n",
       "      <td>1</td>\n",
       "      <td>1</td>\n",
       "      <td>PC 17756</td>\n",
       "      <td>83.1583</td>\n",
       "      <td>E49</td>\n",
       "      <td>C</td>\n",
       "    </tr>\n",
       "    <tr>\n",
       "      <th>838</th>\n",
       "      <td>839</td>\n",
       "      <td>1</td>\n",
       "      <td>3</td>\n",
       "      <td>Chip, Mr. Chang</td>\n",
       "      <td>male</td>\n",
       "      <td>32.0</td>\n",
       "      <td>0</td>\n",
       "      <td>0</td>\n",
       "      <td>1601</td>\n",
       "      <td>56.4958</td>\n",
       "      <td>NaN</td>\n",
       "      <td>S</td>\n",
       "    </tr>\n",
       "    <tr>\n",
       "      <th>839</th>\n",
       "      <td>840</td>\n",
       "      <td>1</td>\n",
       "      <td>1</td>\n",
       "      <td>Marechal, Mr. Pierre</td>\n",
       "      <td>male</td>\n",
       "      <td>27.0</td>\n",
       "      <td>0</td>\n",
       "      <td>0</td>\n",
       "      <td>11774</td>\n",
       "      <td>29.7000</td>\n",
       "      <td>C47</td>\n",
       "      <td>C</td>\n",
       "    </tr>\n",
       "    <tr>\n",
       "      <th>842</th>\n",
       "      <td>843</td>\n",
       "      <td>1</td>\n",
       "      <td>1</td>\n",
       "      <td>Serepeca, Miss. Augusta</td>\n",
       "      <td>female</td>\n",
       "      <td>30.0</td>\n",
       "      <td>0</td>\n",
       "      <td>0</td>\n",
       "      <td>113798</td>\n",
       "      <td>31.0000</td>\n",
       "      <td>NaN</td>\n",
       "      <td>C</td>\n",
       "    </tr>\n",
       "    <tr>\n",
       "      <th>849</th>\n",
       "      <td>850</td>\n",
       "      <td>1</td>\n",
       "      <td>1</td>\n",
       "      <td>Goldenberg, Mrs. Samuel L (Edwiga Grabowska)</td>\n",
       "      <td>female</td>\n",
       "      <td>26.0</td>\n",
       "      <td>1</td>\n",
       "      <td>0</td>\n",
       "      <td>17453</td>\n",
       "      <td>89.1042</td>\n",
       "      <td>C92</td>\n",
       "      <td>C</td>\n",
       "    </tr>\n",
       "    <tr>\n",
       "      <th>858</th>\n",
       "      <td>859</td>\n",
       "      <td>1</td>\n",
       "      <td>3</td>\n",
       "      <td>Baclini, Mrs. Solomon (Latifa Qurban)</td>\n",
       "      <td>female</td>\n",
       "      <td>24.0</td>\n",
       "      <td>0</td>\n",
       "      <td>3</td>\n",
       "      <td>2666</td>\n",
       "      <td>19.2583</td>\n",
       "      <td>NaN</td>\n",
       "      <td>C</td>\n",
       "    </tr>\n",
       "    <tr>\n",
       "      <th>866</th>\n",
       "      <td>867</td>\n",
       "      <td>1</td>\n",
       "      <td>2</td>\n",
       "      <td>Duran y More, Miss. Asuncion</td>\n",
       "      <td>female</td>\n",
       "      <td>27.0</td>\n",
       "      <td>1</td>\n",
       "      <td>0</td>\n",
       "      <td>SC/PARIS 2149</td>\n",
       "      <td>13.8583</td>\n",
       "      <td>NaN</td>\n",
       "      <td>C</td>\n",
       "    </tr>\n",
       "    <tr>\n",
       "      <th>874</th>\n",
       "      <td>875</td>\n",
       "      <td>1</td>\n",
       "      <td>2</td>\n",
       "      <td>Abelson, Mrs. Samuel (Hannah Wizosky)</td>\n",
       "      <td>female</td>\n",
       "      <td>28.0</td>\n",
       "      <td>1</td>\n",
       "      <td>0</td>\n",
       "      <td>P/PP 3381</td>\n",
       "      <td>24.0000</td>\n",
       "      <td>NaN</td>\n",
       "      <td>C</td>\n",
       "    </tr>\n",
       "    <tr>\n",
       "      <th>880</th>\n",
       "      <td>881</td>\n",
       "      <td>1</td>\n",
       "      <td>2</td>\n",
       "      <td>Shelley, Mrs. William (Imanita Parrish Hall)</td>\n",
       "      <td>female</td>\n",
       "      <td>25.0</td>\n",
       "      <td>0</td>\n",
       "      <td>1</td>\n",
       "      <td>230433</td>\n",
       "      <td>26.0000</td>\n",
       "      <td>NaN</td>\n",
       "      <td>S</td>\n",
       "    </tr>\n",
       "    <tr>\n",
       "      <th>887</th>\n",
       "      <td>888</td>\n",
       "      <td>1</td>\n",
       "      <td>1</td>\n",
       "      <td>Graham, Miss. Margaret Edith</td>\n",
       "      <td>female</td>\n",
       "      <td>19.0</td>\n",
       "      <td>0</td>\n",
       "      <td>0</td>\n",
       "      <td>112053</td>\n",
       "      <td>30.0000</td>\n",
       "      <td>B42</td>\n",
       "      <td>S</td>\n",
       "    </tr>\n",
       "    <tr>\n",
       "      <th>889</th>\n",
       "      <td>890</td>\n",
       "      <td>1</td>\n",
       "      <td>1</td>\n",
       "      <td>Behr, Mr. Karl Howell</td>\n",
       "      <td>male</td>\n",
       "      <td>26.0</td>\n",
       "      <td>0</td>\n",
       "      <td>0</td>\n",
       "      <td>111369</td>\n",
       "      <td>30.0000</td>\n",
       "      <td>C148</td>\n",
       "      <td>C</td>\n",
       "    </tr>\n",
       "  </tbody>\n",
       "</table>\n",
       "<p>198 rows × 12 columns</p>\n",
       "</div>"
      ],
      "text/plain": [
       "     PassengerId  Survived  Pclass  \\\n",
       "1              2         1       1   \n",
       "2              3         1       3   \n",
       "3              4         1       1   \n",
       "8              9         1       3   \n",
       "17            18         1       2   \n",
       "21            22         1       2   \n",
       "23            24         1       1   \n",
       "25            26         1       3   \n",
       "28            29         1       3   \n",
       "31            32         1       1   \n",
       "32            33         1       3   \n",
       "36            37         1       3   \n",
       "44            45         1       3   \n",
       "47            48         1       3   \n",
       "53            54         1       2   \n",
       "55            56         1       1   \n",
       "56            57         1       2   \n",
       "61            62         1       1   \n",
       "65            66         1       3   \n",
       "66            67         1       2   \n",
       "74            75         1       3   \n",
       "79            80         1       3   \n",
       "81            82         1       3   \n",
       "82            83         1       3   \n",
       "85            86         1       3   \n",
       "88            89         1       1   \n",
       "97            98         1       1   \n",
       "98            99         1       2   \n",
       "106          107         1       3   \n",
       "107          108         1       3   \n",
       "..           ...       ...     ...   \n",
       "716          717         1       1   \n",
       "717          718         1       2   \n",
       "724          725         1       1   \n",
       "726          727         1       2   \n",
       "727          728         1       3   \n",
       "730          731         1       1   \n",
       "737          738         1       1   \n",
       "742          743         1       1   \n",
       "744          745         1       3   \n",
       "747          748         1       2   \n",
       "759          760         1       1   \n",
       "762          763         1       3   \n",
       "763          764         1       1   \n",
       "797          798         1       3   \n",
       "801          802         1       2   \n",
       "804          805         1       3   \n",
       "809          810         1       1   \n",
       "821          822         1       3   \n",
       "823          824         1       3   \n",
       "835          836         1       1   \n",
       "838          839         1       3   \n",
       "839          840         1       1   \n",
       "842          843         1       1   \n",
       "849          850         1       1   \n",
       "858          859         1       3   \n",
       "866          867         1       2   \n",
       "874          875         1       2   \n",
       "880          881         1       2   \n",
       "887          888         1       1   \n",
       "889          890         1       1   \n",
       "\n",
       "                                                  Name     Sex   Age  SibSp  \\\n",
       "1    Cumings, Mrs. John Bradley (Florence Briggs Th...  female  38.0      1   \n",
       "2                               Heikkinen, Miss. Laina  female  26.0      0   \n",
       "3         Futrelle, Mrs. Jacques Heath (Lily May Peel)  female  35.0      1   \n",
       "8    Johnson, Mrs. Oscar W (Elisabeth Vilhelmina Berg)  female  27.0      0   \n",
       "17                        Williams, Mr. Charles Eugene    male  38.0      0   \n",
       "21                               Beesley, Mr. Lawrence    male  34.0      0   \n",
       "23                        Sloper, Mr. William Thompson    male  28.0      0   \n",
       "25   Asplund, Mrs. Carl Oscar (Selma Augusta Emilia...  female  38.0      1   \n",
       "28                       O'Dwyer, Miss. Ellen \"Nellie\"  female  39.0      0   \n",
       "31      Spencer, Mrs. William Augustus (Marie Eugenie)  female  38.0      1   \n",
       "32                            Glynn, Miss. Mary Agatha  female  23.0      0   \n",
       "36                                    Mamee, Mr. Hanna    male  27.0      0   \n",
       "44                       Devaney, Miss. Margaret Delia  female  19.0      0   \n",
       "47                           O'Driscoll, Miss. Bridget  female  33.0      0   \n",
       "53   Faunthorpe, Mrs. Lizzie (Elizabeth Anne Wilkin...  female  29.0      1   \n",
       "55                                   Woolner, Mr. Hugh    male  24.0      0   \n",
       "56                                   Rugg, Miss. Emily  female  21.0      0   \n",
       "61                                 Icard, Miss. Amelie  female  38.0      0   \n",
       "65                            Moubarek, Master. Gerios    male  35.0      1   \n",
       "66                        Nye, Mrs. (Elizabeth Ramell)  female  29.0      0   \n",
       "74                                       Bing, Mr. Lee    male  32.0      0   \n",
       "79                            Dowdell, Miss. Elizabeth  female  30.0      0   \n",
       "81                         Sheerlinck, Mr. Jan Baptist    male  29.0      0   \n",
       "82                      McDermott, Miss. Brigdet Delia  female  39.0      0   \n",
       "85   Backstrom, Mrs. Karl Alfred (Maria Mathilda Gu...  female  33.0      3   \n",
       "88                          Fortune, Miss. Mabel Helen  female  23.0      3   \n",
       "97                     Greenfield, Mr. William Bertram    male  23.0      0   \n",
       "98                Doling, Mrs. John T (Ada Julia Bone)  female  34.0      0   \n",
       "106                   Salkjelsvik, Miss. Anna Kristine  female  21.0      0   \n",
       "107                             Moss, Mr. Albert Johan    male  29.0      0   \n",
       "..                                                 ...     ...   ...    ...   \n",
       "716                      Endres, Miss. Caroline Louise  female  38.0      0   \n",
       "717                Troutt, Miss. Edwina Celia \"Winnie\"  female  27.0      0   \n",
       "724                      Chambers, Mr. Norman Campbell    male  27.0      1   \n",
       "726        Renouf, Mrs. Peter Henry (Lillian Jefferys)  female  30.0      3   \n",
       "727                           Mannion, Miss. Margareth  female  37.0      0   \n",
       "730                      Allen, Miss. Elisabeth Walton  female  29.0      0   \n",
       "737                             Lesurer, Mr. Gustave J    male  35.0      0   \n",
       "742              Ryerson, Miss. Susan Parker \"Suzette\"  female  21.0      2   \n",
       "744                                 Stranden, Mr. Juho    male  31.0      0   \n",
       "747                              Sinkkonen, Miss. Anna  female  30.0      0   \n",
       "759  Rothes, the Countess. of (Lucy Noel Martha Dye...  female  33.0      0   \n",
       "762                              Barah, Mr. Hanna Assi    male  20.0      0   \n",
       "763          Carter, Mrs. William Ernest (Lucile Polk)  female  36.0      1   \n",
       "797                                   Osman, Mrs. Mara  female  31.0      0   \n",
       "801        Collyer, Mrs. Harvey (Charlotte Annie Tate)  female  31.0      1   \n",
       "804                            Hedman, Mr. Oskar Arvid    male  27.0      0   \n",
       "809     Chambers, Mrs. Norman Campbell (Bertha Griggs)  female  33.0      1   \n",
       "821                                  Lulic, Mr. Nikola    male  27.0      0   \n",
       "823                                 Moor, Mrs. (Beila)  female  27.0      0   \n",
       "835                        Compton, Miss. Sara Rebecca  female  39.0      1   \n",
       "838                                    Chip, Mr. Chang    male  32.0      0   \n",
       "839                               Marechal, Mr. Pierre    male  27.0      0   \n",
       "842                            Serepeca, Miss. Augusta  female  30.0      0   \n",
       "849       Goldenberg, Mrs. Samuel L (Edwiga Grabowska)  female  26.0      1   \n",
       "858              Baclini, Mrs. Solomon (Latifa Qurban)  female  24.0      0   \n",
       "866                       Duran y More, Miss. Asuncion  female  27.0      1   \n",
       "874              Abelson, Mrs. Samuel (Hannah Wizosky)  female  28.0      1   \n",
       "880       Shelley, Mrs. William (Imanita Parrish Hall)  female  25.0      0   \n",
       "887                       Graham, Miss. Margaret Edith  female  19.0      0   \n",
       "889                              Behr, Mr. Karl Howell    male  26.0      0   \n",
       "\n",
       "     Parch             Ticket      Fare            Cabin Embarked  \n",
       "1        0           PC 17599   71.2833              C85        C  \n",
       "2        0   STON/O2. 3101282    7.9250              NaN        S  \n",
       "3        0             113803   53.1000             C123        S  \n",
       "8        2             347742   11.1333              NaN        S  \n",
       "17       0             244373   13.0000              NaN        S  \n",
       "21       0             248698   13.0000              D56        S  \n",
       "23       0             113788   35.5000               A6        S  \n",
       "25       5             347077   31.3875              NaN        S  \n",
       "28       0             330959    7.8792              NaN        Q  \n",
       "31       0           PC 17569  146.5208              B78        C  \n",
       "32       0             335677    7.7500              NaN        Q  \n",
       "36       0               2677    7.2292              NaN        C  \n",
       "44       0             330958    7.8792              NaN        Q  \n",
       "47       0              14311    7.7500              NaN        Q  \n",
       "53       0               2926   26.0000              NaN        S  \n",
       "55       0              19947   35.5000              C52        S  \n",
       "56       0         C.A. 31026   10.5000              NaN        S  \n",
       "61       0             113572   80.0000              B28      NaN  \n",
       "65       1               2661   15.2458              NaN        C  \n",
       "66       0         C.A. 29395   10.5000              F33        S  \n",
       "74       0               1601   56.4958              NaN        S  \n",
       "79       0             364516   12.4750              NaN        S  \n",
       "81       0             345779    9.5000              NaN        S  \n",
       "82       0             330932    7.7875              NaN        Q  \n",
       "85       0            3101278   15.8500              NaN        S  \n",
       "88       2              19950  263.0000      C23 C25 C27        S  \n",
       "97       1           PC 17759   63.3583          D10 D12        C  \n",
       "98       1             231919   23.0000              NaN        S  \n",
       "106      0             343120    7.6500              NaN        S  \n",
       "107      0             312991    7.7750              NaN        S  \n",
       "..     ...                ...       ...              ...      ...  \n",
       "716      0           PC 17757  227.5250              C45        C  \n",
       "717      0              34218   10.5000             E101        S  \n",
       "724      0             113806   53.1000               E8        S  \n",
       "726      0              31027   21.0000              NaN        S  \n",
       "727      0              36866    7.7375              NaN        Q  \n",
       "730      0              24160  211.3375               B5        S  \n",
       "737      0           PC 17755  512.3292             B101        C  \n",
       "742      2           PC 17608  262.3750  B57 B59 B63 B66        C  \n",
       "744      0  STON/O 2. 3101288    7.9250              NaN        S  \n",
       "747      0             250648   13.0000              NaN        S  \n",
       "759      0             110152   86.5000              B77        S  \n",
       "762      0               2663    7.2292              NaN        C  \n",
       "763      2             113760  120.0000          B96 B98        S  \n",
       "797      0             349244    8.6833              NaN        S  \n",
       "801      1         C.A. 31921   26.2500              NaN        S  \n",
       "804      0             347089    6.9750              NaN        S  \n",
       "809      0             113806   53.1000               E8        S  \n",
       "821      0             315098    8.6625              NaN        S  \n",
       "823      1             392096   12.4750             E121        S  \n",
       "835      1           PC 17756   83.1583              E49        C  \n",
       "838      0               1601   56.4958              NaN        S  \n",
       "839      0              11774   29.7000              C47        C  \n",
       "842      0             113798   31.0000              NaN        C  \n",
       "849      0              17453   89.1042              C92        C  \n",
       "858      3               2666   19.2583              NaN        C  \n",
       "866      0      SC/PARIS 2149   13.8583              NaN        C  \n",
       "874      0          P/PP 3381   24.0000              NaN        C  \n",
       "880      1             230433   26.0000              NaN        S  \n",
       "887      0             112053   30.0000              B42        S  \n",
       "889      0             111369   30.0000             C148        C  \n",
       "\n",
       "[198 rows x 12 columns]"
      ]
     },
     "execution_count": 72,
     "metadata": {},
     "output_type": "execute_result"
    }
   ],
   "source": [
    "titanic_dataset[(titanic_dataset[\"Age\"] > 18) & (titanic_dataset[\"Age\"] < 40) & (titanic_dataset[\"Survived\"] == 1)]"
   ]
  },
  {
   "cell_type": "code",
   "execution_count": 73,
   "metadata": {
    "collapsed": false
   },
   "outputs": [
    {
     "data": {
      "text/plain": [
       "'Braund, Mr. Owen Harris'"
      ]
     },
     "execution_count": 73,
     "metadata": {},
     "output_type": "execute_result"
    }
   ],
   "source": [
    "titanic_dataset[\"Name\"][0]"
   ]
  },
  {
   "cell_type": "code",
   "execution_count": 74,
   "metadata": {
    "collapsed": false
   },
   "outputs": [
    {
     "name": "stdout",
     "output_type": "stream",
     "text": [
      "411\n"
     ]
    }
   ],
   "source": [
    "print(len(titanic_dataset[(titanic_dataset[\"SibSp\"]==0) & (titanic_dataset[\"Parch\"]==0) & (titanic_dataset[\"Sex\"]==\"male\")]))"
   ]
  },
  {
   "cell_type": "code",
   "execution_count": 75,
   "metadata": {
    "collapsed": false
   },
   "outputs": [
    {
     "name": "stdout",
     "output_type": "stream",
     "text": [
      "163 Single travellers\n"
     ]
    }
   ],
   "source": [
    "Single_travellers = titanic_dataset[(titanic_dataset[\"SibSp\"]==0) & (titanic_dataset[\"Parch\"]==0) & (titanic_dataset[\"Survived\"]==1)]\n",
    "print(\"{} Single travellers\".format(len(Single_travellers)))"
   ]
  },
  {
   "cell_type": "code",
   "execution_count": 76,
   "metadata": {
    "collapsed": false
   },
   "outputs": [
    {
     "name": "stdout",
     "output_type": "stream",
     "text": [
      "64 Single male travellers\n"
     ]
    }
   ],
   "source": [
    "Single_male_travellers = titanic_dataset[(titanic_dataset[\"SibSp\"]==0) & (titanic_dataset[\"Parch\"]==0) & (titanic_dataset[\"Sex\"]==\"male\") & (titanic_dataset[\"Survived\"]==1)]\n",
    "print(\"{} Single male travellers\".format(len(Single_male_travellers)))"
   ]
  },
  {
   "cell_type": "code",
   "execution_count": 77,
   "metadata": {
    "collapsed": false
   },
   "outputs": [
    {
     "name": "stdout",
     "output_type": "stream",
     "text": [
      "99 Single female travellers\n"
     ]
    }
   ],
   "source": [
    "single_female_trvellers = titanic_dataset[(titanic_dataset[\"SibSp\"]==0) & (titanic_dataset[\"Parch\"]==0) & (titanic_dataset[\"Sex\"]==\"female\") & (titanic_dataset[\"Survived\"]==1)] \n",
    "print(\"{} Single female travellers\".format(len(single_female_trvellers)))"
   ]
  },
  {
   "cell_type": "code",
   "execution_count": 78,
   "metadata": {
    "collapsed": false
   },
   "outputs": [
    {
     "data": {
      "text/html": [
       "<div>\n",
       "<table border=\"1\" class=\"dataframe\">\n",
       "  <thead>\n",
       "    <tr style=\"text-align: right;\">\n",
       "      <th>Sex</th>\n",
       "      <th>female</th>\n",
       "      <th>male</th>\n",
       "    </tr>\n",
       "    <tr>\n",
       "      <th>SibSp</th>\n",
       "      <th></th>\n",
       "      <th></th>\n",
       "    </tr>\n",
       "  </thead>\n",
       "  <tbody>\n",
       "    <tr>\n",
       "      <th>0</th>\n",
       "      <td>174</td>\n",
       "      <td>434</td>\n",
       "    </tr>\n",
       "    <tr>\n",
       "      <th>1</th>\n",
       "      <td>106</td>\n",
       "      <td>103</td>\n",
       "    </tr>\n",
       "    <tr>\n",
       "      <th>2</th>\n",
       "      <td>13</td>\n",
       "      <td>15</td>\n",
       "    </tr>\n",
       "    <tr>\n",
       "      <th>3</th>\n",
       "      <td>11</td>\n",
       "      <td>5</td>\n",
       "    </tr>\n",
       "    <tr>\n",
       "      <th>4</th>\n",
       "      <td>6</td>\n",
       "      <td>12</td>\n",
       "    </tr>\n",
       "    <tr>\n",
       "      <th>5</th>\n",
       "      <td>1</td>\n",
       "      <td>4</td>\n",
       "    </tr>\n",
       "    <tr>\n",
       "      <th>8</th>\n",
       "      <td>3</td>\n",
       "      <td>4</td>\n",
       "    </tr>\n",
       "  </tbody>\n",
       "</table>\n",
       "</div>"
      ],
      "text/plain": [
       "Sex    female  male\n",
       "SibSp              \n",
       "0         174   434\n",
       "1         106   103\n",
       "2          13    15\n",
       "3          11     5\n",
       "4           6    12\n",
       "5           1     4\n",
       "8           3     4"
      ]
     },
     "execution_count": 78,
     "metadata": {},
     "output_type": "execute_result"
    }
   ],
   "source": [
    "pd.crosstab(titanic_dataset[\"SibSp\"], titanic_dataset[\"Sex\"])"
   ]
  },
  {
   "cell_type": "code",
   "execution_count": 79,
   "metadata": {
    "collapsed": false
   },
   "outputs": [
    {
     "data": {
      "text/html": [
       "<div>\n",
       "<table border=\"1\" class=\"dataframe\">\n",
       "  <thead>\n",
       "    <tr style=\"text-align: right;\">\n",
       "      <th>Sex</th>\n",
       "      <th>female</th>\n",
       "      <th>male</th>\n",
       "      <th>All</th>\n",
       "    </tr>\n",
       "    <tr>\n",
       "      <th>Parch</th>\n",
       "      <th></th>\n",
       "      <th></th>\n",
       "      <th></th>\n",
       "    </tr>\n",
       "  </thead>\n",
       "  <tbody>\n",
       "    <tr>\n",
       "      <th>0</th>\n",
       "      <td>194</td>\n",
       "      <td>484</td>\n",
       "      <td>678</td>\n",
       "    </tr>\n",
       "    <tr>\n",
       "      <th>1</th>\n",
       "      <td>60</td>\n",
       "      <td>58</td>\n",
       "      <td>118</td>\n",
       "    </tr>\n",
       "    <tr>\n",
       "      <th>2</th>\n",
       "      <td>49</td>\n",
       "      <td>31</td>\n",
       "      <td>80</td>\n",
       "    </tr>\n",
       "    <tr>\n",
       "      <th>3</th>\n",
       "      <td>4</td>\n",
       "      <td>1</td>\n",
       "      <td>5</td>\n",
       "    </tr>\n",
       "    <tr>\n",
       "      <th>4</th>\n",
       "      <td>2</td>\n",
       "      <td>2</td>\n",
       "      <td>4</td>\n",
       "    </tr>\n",
       "    <tr>\n",
       "      <th>5</th>\n",
       "      <td>4</td>\n",
       "      <td>1</td>\n",
       "      <td>5</td>\n",
       "    </tr>\n",
       "    <tr>\n",
       "      <th>6</th>\n",
       "      <td>1</td>\n",
       "      <td>0</td>\n",
       "      <td>1</td>\n",
       "    </tr>\n",
       "    <tr>\n",
       "      <th>All</th>\n",
       "      <td>314</td>\n",
       "      <td>577</td>\n",
       "      <td>891</td>\n",
       "    </tr>\n",
       "  </tbody>\n",
       "</table>\n",
       "</div>"
      ],
      "text/plain": [
       "Sex    female  male  All\n",
       "Parch                   \n",
       "0         194   484  678\n",
       "1          60    58  118\n",
       "2          49    31   80\n",
       "3           4     1    5\n",
       "4           2     2    4\n",
       "5           4     1    5\n",
       "6           1     0    1\n",
       "All       314   577  891"
      ]
     },
     "execution_count": 79,
     "metadata": {},
     "output_type": "execute_result"
    }
   ],
   "source": [
    "pd.crosstab(titanic_dataset[\"Parch\"], titanic_dataset[\"Sex\"], margins=True)"
   ]
  },
  {
   "cell_type": "code",
   "execution_count": null,
   "metadata": {
    "collapsed": false
   },
   "outputs": [],
   "source": []
  },
  {
   "cell_type": "code",
   "execution_count": 80,
   "metadata": {
    "collapsed": false
   },
   "outputs": [
    {
     "name": "stdout",
     "output_type": "stream",
     "text": [
      "  CategoricalFare  Survived\n",
      "0       [0, 7.91]  0.197309\n",
      "1  (7.91, 14.454]  0.303571\n",
      "2    (14.454, 31]  0.454955\n",
      "3   (31, 512.329]  0.581081\n"
     ]
    }
   ],
   "source": [
    "titanic_dataset['CategoricalFare'] = pd.qcut(titanic_dataset['Fare'], 4)\n",
    "print(titanic_dataset[['CategoricalFare', 'Survived']].groupby(['CategoricalFare'], as_index=False).mean())"
   ]
  },
  {
   "cell_type": "code",
   "execution_count": 81,
   "metadata": {
    "collapsed": false
   },
   "outputs": [
    {
     "name": "stdout",
     "output_type": "stream",
     "text": [
      "          Age Group  Survived\n",
      "0    (0.34, 16.336]  0.513514\n",
      "1  (16.336, 32.252]  0.356659\n",
      "2  (32.252, 48.168]  0.373541\n",
      "3  (48.168, 64.084]  0.434783\n",
      "4      (64.084, 80]  0.090909\n"
     ]
    }
   ],
   "source": [
    "titanic_dataset['Age Group'] = pd.cut(titanic_dataset['Age'], 5)\n",
    "#print(titanic_dataset[['Age Group', 'Survived']].groupby(['Age Group'], as_index=False).mean())\n",
    "print(titanic_dataset[['Age Group', 'Survived', \"Sex\"]].groupby(['Age Group'], as_index=False).mean())"
   ]
  },
  {
   "cell_type": "code",
   "execution_count": 82,
   "metadata": {
    "collapsed": false
   },
   "outputs": [
    {
     "data": {
      "text/html": [
       "<div>\n",
       "<table border=\"1\" class=\"dataframe\">\n",
       "  <thead>\n",
       "    <tr style=\"text-align: right;\">\n",
       "      <th>Survived</th>\n",
       "      <th>0</th>\n",
       "      <th>1</th>\n",
       "    </tr>\n",
       "    <tr>\n",
       "      <th>Title</th>\n",
       "      <th></th>\n",
       "      <th></th>\n",
       "    </tr>\n",
       "  </thead>\n",
       "  <tbody>\n",
       "    <tr>\n",
       "      <th>Capt</th>\n",
       "      <td>1</td>\n",
       "      <td>0</td>\n",
       "    </tr>\n",
       "    <tr>\n",
       "      <th>Col</th>\n",
       "      <td>1</td>\n",
       "      <td>1</td>\n",
       "    </tr>\n",
       "    <tr>\n",
       "      <th>Countess</th>\n",
       "      <td>0</td>\n",
       "      <td>1</td>\n",
       "    </tr>\n",
       "    <tr>\n",
       "      <th>Don</th>\n",
       "      <td>1</td>\n",
       "      <td>0</td>\n",
       "    </tr>\n",
       "    <tr>\n",
       "      <th>Dr</th>\n",
       "      <td>4</td>\n",
       "      <td>3</td>\n",
       "    </tr>\n",
       "    <tr>\n",
       "      <th>Jonkheer</th>\n",
       "      <td>1</td>\n",
       "      <td>0</td>\n",
       "    </tr>\n",
       "    <tr>\n",
       "      <th>Lady</th>\n",
       "      <td>0</td>\n",
       "      <td>1</td>\n",
       "    </tr>\n",
       "    <tr>\n",
       "      <th>Major</th>\n",
       "      <td>1</td>\n",
       "      <td>1</td>\n",
       "    </tr>\n",
       "    <tr>\n",
       "      <th>Master</th>\n",
       "      <td>17</td>\n",
       "      <td>23</td>\n",
       "    </tr>\n",
       "    <tr>\n",
       "      <th>Miss</th>\n",
       "      <td>55</td>\n",
       "      <td>127</td>\n",
       "    </tr>\n",
       "    <tr>\n",
       "      <th>Mlle</th>\n",
       "      <td>0</td>\n",
       "      <td>2</td>\n",
       "    </tr>\n",
       "    <tr>\n",
       "      <th>Mme</th>\n",
       "      <td>0</td>\n",
       "      <td>1</td>\n",
       "    </tr>\n",
       "    <tr>\n",
       "      <th>Mr</th>\n",
       "      <td>436</td>\n",
       "      <td>81</td>\n",
       "    </tr>\n",
       "    <tr>\n",
       "      <th>Mrs</th>\n",
       "      <td>26</td>\n",
       "      <td>99</td>\n",
       "    </tr>\n",
       "    <tr>\n",
       "      <th>Ms</th>\n",
       "      <td>0</td>\n",
       "      <td>1</td>\n",
       "    </tr>\n",
       "    <tr>\n",
       "      <th>Rev</th>\n",
       "      <td>6</td>\n",
       "      <td>0</td>\n",
       "    </tr>\n",
       "    <tr>\n",
       "      <th>Sir</th>\n",
       "      <td>0</td>\n",
       "      <td>1</td>\n",
       "    </tr>\n",
       "  </tbody>\n",
       "</table>\n",
       "</div>"
      ],
      "text/plain": [
       "Survived    0    1\n",
       "Title             \n",
       "Capt        1    0\n",
       "Col         1    1\n",
       "Countess    0    1\n",
       "Don         1    0\n",
       "Dr          4    3\n",
       "Jonkheer    1    0\n",
       "Lady        0    1\n",
       "Major       1    1\n",
       "Master     17   23\n",
       "Miss       55  127\n",
       "Mlle        0    2\n",
       "Mme         0    1\n",
       "Mr        436   81\n",
       "Mrs        26   99\n",
       "Ms          0    1\n",
       "Rev         6    0\n",
       "Sir         0    1"
      ]
     },
     "execution_count": 82,
     "metadata": {},
     "output_type": "execute_result"
    }
   ],
   "source": [
    "for titles in titanic_dataset:\n",
    "    titanic_dataset[\"Title\"] = titanic_dataset.Name.str.extract(' ([A-Za-z]+)\\.', expand=False)\n",
    "    \n",
    "    \n",
    "pd.crosstab(titanic_dataset[\"Title\"], titanic_dataset[\"Survived\"])"
   ]
  },
  {
   "cell_type": "code",
   "execution_count": 83,
   "metadata": {
    "collapsed": false
   },
   "outputs": [
    {
     "data": {
      "text/html": [
       "<div>\n",
       "<table border=\"1\" class=\"dataframe\">\n",
       "  <thead>\n",
       "    <tr style=\"text-align: right;\">\n",
       "      <th>Sex</th>\n",
       "      <th>female</th>\n",
       "      <th>male</th>\n",
       "    </tr>\n",
       "    <tr>\n",
       "      <th>Title</th>\n",
       "      <th></th>\n",
       "      <th></th>\n",
       "    </tr>\n",
       "  </thead>\n",
       "  <tbody>\n",
       "    <tr>\n",
       "      <th>Capt</th>\n",
       "      <td>0</td>\n",
       "      <td>1</td>\n",
       "    </tr>\n",
       "    <tr>\n",
       "      <th>Col</th>\n",
       "      <td>0</td>\n",
       "      <td>2</td>\n",
       "    </tr>\n",
       "    <tr>\n",
       "      <th>Countess</th>\n",
       "      <td>1</td>\n",
       "      <td>0</td>\n",
       "    </tr>\n",
       "    <tr>\n",
       "      <th>Don</th>\n",
       "      <td>0</td>\n",
       "      <td>1</td>\n",
       "    </tr>\n",
       "    <tr>\n",
       "      <th>Dr</th>\n",
       "      <td>1</td>\n",
       "      <td>6</td>\n",
       "    </tr>\n",
       "    <tr>\n",
       "      <th>Jonkheer</th>\n",
       "      <td>0</td>\n",
       "      <td>1</td>\n",
       "    </tr>\n",
       "    <tr>\n",
       "      <th>Lady</th>\n",
       "      <td>1</td>\n",
       "      <td>0</td>\n",
       "    </tr>\n",
       "    <tr>\n",
       "      <th>Major</th>\n",
       "      <td>0</td>\n",
       "      <td>2</td>\n",
       "    </tr>\n",
       "    <tr>\n",
       "      <th>Master</th>\n",
       "      <td>0</td>\n",
       "      <td>40</td>\n",
       "    </tr>\n",
       "    <tr>\n",
       "      <th>Miss</th>\n",
       "      <td>182</td>\n",
       "      <td>0</td>\n",
       "    </tr>\n",
       "    <tr>\n",
       "      <th>Mlle</th>\n",
       "      <td>2</td>\n",
       "      <td>0</td>\n",
       "    </tr>\n",
       "    <tr>\n",
       "      <th>Mme</th>\n",
       "      <td>1</td>\n",
       "      <td>0</td>\n",
       "    </tr>\n",
       "    <tr>\n",
       "      <th>Mr</th>\n",
       "      <td>0</td>\n",
       "      <td>517</td>\n",
       "    </tr>\n",
       "    <tr>\n",
       "      <th>Mrs</th>\n",
       "      <td>125</td>\n",
       "      <td>0</td>\n",
       "    </tr>\n",
       "    <tr>\n",
       "      <th>Ms</th>\n",
       "      <td>1</td>\n",
       "      <td>0</td>\n",
       "    </tr>\n",
       "    <tr>\n",
       "      <th>Rev</th>\n",
       "      <td>0</td>\n",
       "      <td>6</td>\n",
       "    </tr>\n",
       "    <tr>\n",
       "      <th>Sir</th>\n",
       "      <td>0</td>\n",
       "      <td>1</td>\n",
       "    </tr>\n",
       "  </tbody>\n",
       "</table>\n",
       "</div>"
      ],
      "text/plain": [
       "Sex       female  male\n",
       "Title                 \n",
       "Capt           0     1\n",
       "Col            0     2\n",
       "Countess       1     0\n",
       "Don            0     1\n",
       "Dr             1     6\n",
       "Jonkheer       0     1\n",
       "Lady           1     0\n",
       "Major          0     2\n",
       "Master         0    40\n",
       "Miss         182     0\n",
       "Mlle           2     0\n",
       "Mme            1     0\n",
       "Mr             0   517\n",
       "Mrs          125     0\n",
       "Ms             1     0\n",
       "Rev            0     6\n",
       "Sir            0     1"
      ]
     },
     "execution_count": 83,
     "metadata": {},
     "output_type": "execute_result"
    }
   ],
   "source": [
    "pd.crosstab(titanic_dataset[\"Title\"], titanic_dataset[\"Sex\"])"
   ]
  },
  {
   "cell_type": "code",
   "execution_count": 84,
   "metadata": {
    "collapsed": false
   },
   "outputs": [
    {
     "data": {
      "text/html": [
       "<div>\n",
       "<table border=\"1\" class=\"dataframe\">\n",
       "  <thead>\n",
       "    <tr style=\"text-align: right;\">\n",
       "      <th></th>\n",
       "      <th>PassengerId</th>\n",
       "      <th>Survived</th>\n",
       "      <th>Pclass</th>\n",
       "      <th>Name</th>\n",
       "      <th>Sex</th>\n",
       "      <th>Age</th>\n",
       "      <th>SibSp</th>\n",
       "      <th>Parch</th>\n",
       "      <th>Ticket</th>\n",
       "      <th>Fare</th>\n",
       "      <th>Cabin</th>\n",
       "      <th>Embarked</th>\n",
       "      <th>CategoricalFare</th>\n",
       "      <th>Age Group</th>\n",
       "      <th>Title</th>\n",
       "    </tr>\n",
       "  </thead>\n",
       "  <tbody>\n",
       "    <tr>\n",
       "      <th>0</th>\n",
       "      <td>1</td>\n",
       "      <td>0</td>\n",
       "      <td>3</td>\n",
       "      <td>Braund, Mr. Owen Harris</td>\n",
       "      <td>male</td>\n",
       "      <td>22.0</td>\n",
       "      <td>1</td>\n",
       "      <td>0</td>\n",
       "      <td>A/5 21171</td>\n",
       "      <td>7.2500</td>\n",
       "      <td>NaN</td>\n",
       "      <td>S</td>\n",
       "      <td>[0, 7.91]</td>\n",
       "      <td>(16.336, 32.252]</td>\n",
       "      <td>Mr</td>\n",
       "    </tr>\n",
       "    <tr>\n",
       "      <th>1</th>\n",
       "      <td>2</td>\n",
       "      <td>1</td>\n",
       "      <td>1</td>\n",
       "      <td>Cumings, Mrs. John Bradley (Florence Briggs Th...</td>\n",
       "      <td>female</td>\n",
       "      <td>38.0</td>\n",
       "      <td>1</td>\n",
       "      <td>0</td>\n",
       "      <td>PC 17599</td>\n",
       "      <td>71.2833</td>\n",
       "      <td>C85</td>\n",
       "      <td>C</td>\n",
       "      <td>(31, 512.329]</td>\n",
       "      <td>(32.252, 48.168]</td>\n",
       "      <td>Mrs</td>\n",
       "    </tr>\n",
       "    <tr>\n",
       "      <th>2</th>\n",
       "      <td>3</td>\n",
       "      <td>1</td>\n",
       "      <td>3</td>\n",
       "      <td>Heikkinen, Miss. Laina</td>\n",
       "      <td>female</td>\n",
       "      <td>26.0</td>\n",
       "      <td>0</td>\n",
       "      <td>0</td>\n",
       "      <td>STON/O2. 3101282</td>\n",
       "      <td>7.9250</td>\n",
       "      <td>NaN</td>\n",
       "      <td>S</td>\n",
       "      <td>(7.91, 14.454]</td>\n",
       "      <td>(16.336, 32.252]</td>\n",
       "      <td>Miss</td>\n",
       "    </tr>\n",
       "    <tr>\n",
       "      <th>3</th>\n",
       "      <td>4</td>\n",
       "      <td>1</td>\n",
       "      <td>1</td>\n",
       "      <td>Futrelle, Mrs. Jacques Heath (Lily May Peel)</td>\n",
       "      <td>female</td>\n",
       "      <td>35.0</td>\n",
       "      <td>1</td>\n",
       "      <td>0</td>\n",
       "      <td>113803</td>\n",
       "      <td>53.1000</td>\n",
       "      <td>C123</td>\n",
       "      <td>S</td>\n",
       "      <td>(31, 512.329]</td>\n",
       "      <td>(32.252, 48.168]</td>\n",
       "      <td>Mrs</td>\n",
       "    </tr>\n",
       "    <tr>\n",
       "      <th>4</th>\n",
       "      <td>5</td>\n",
       "      <td>0</td>\n",
       "      <td>3</td>\n",
       "      <td>Allen, Mr. William Henry</td>\n",
       "      <td>male</td>\n",
       "      <td>35.0</td>\n",
       "      <td>0</td>\n",
       "      <td>0</td>\n",
       "      <td>373450</td>\n",
       "      <td>8.0500</td>\n",
       "      <td>NaN</td>\n",
       "      <td>S</td>\n",
       "      <td>(7.91, 14.454]</td>\n",
       "      <td>(32.252, 48.168]</td>\n",
       "      <td>Mr</td>\n",
       "    </tr>\n",
       "  </tbody>\n",
       "</table>\n",
       "</div>"
      ],
      "text/plain": [
       "   PassengerId  Survived  Pclass  \\\n",
       "0            1         0       3   \n",
       "1            2         1       1   \n",
       "2            3         1       3   \n",
       "3            4         1       1   \n",
       "4            5         0       3   \n",
       "\n",
       "                                                Name     Sex   Age  SibSp  \\\n",
       "0                            Braund, Mr. Owen Harris    male  22.0      1   \n",
       "1  Cumings, Mrs. John Bradley (Florence Briggs Th...  female  38.0      1   \n",
       "2                             Heikkinen, Miss. Laina  female  26.0      0   \n",
       "3       Futrelle, Mrs. Jacques Heath (Lily May Peel)  female  35.0      1   \n",
       "4                           Allen, Mr. William Henry    male  35.0      0   \n",
       "\n",
       "   Parch            Ticket     Fare Cabin Embarked CategoricalFare  \\\n",
       "0      0         A/5 21171   7.2500   NaN        S       [0, 7.91]   \n",
       "1      0          PC 17599  71.2833   C85        C   (31, 512.329]   \n",
       "2      0  STON/O2. 3101282   7.9250   NaN        S  (7.91, 14.454]   \n",
       "3      0            113803  53.1000  C123        S   (31, 512.329]   \n",
       "4      0            373450   8.0500   NaN        S  (7.91, 14.454]   \n",
       "\n",
       "          Age Group Title  \n",
       "0  (16.336, 32.252]    Mr  \n",
       "1  (32.252, 48.168]   Mrs  \n",
       "2  (16.336, 32.252]  Miss  \n",
       "3  (32.252, 48.168]   Mrs  \n",
       "4  (32.252, 48.168]    Mr  "
      ]
     },
     "execution_count": 84,
     "metadata": {},
     "output_type": "execute_result"
    }
   ],
   "source": [
    "titanic_dataset.head() "
   ]
  },
  {
   "cell_type": "code",
   "execution_count": null,
   "metadata": {
    "collapsed": false
   },
   "outputs": [],
   "source": []
  },
  {
   "cell_type": "code",
   "execution_count": 85,
   "metadata": {
    "collapsed": false
   },
   "outputs": [
    {
     "name": "stdout",
     "output_type": "stream",
     "text": [
      "Yes\n"
     ]
    }
   ],
   "source": [
    "for sirname in titanic_dataset[\"Name\"]:\n",
    "    if \"Heikkinen\" in sirname:\n",
    "        print(\"Yes\")"
   ]
  },
  {
   "cell_type": "code",
   "execution_count": 86,
   "metadata": {
    "collapsed": false
   },
   "outputs": [
    {
     "data": {
      "text/plain": [
       "59     Goodwin, Master. William Frederick\n",
       "71             Goodwin, Miss. Lillian Amy\n",
       "386       Goodwin, Master. Sidney Leonard\n",
       "480        Goodwin, Master. Harold Victor\n",
       "683           Goodwin, Mr. Charles Edward\n",
       "Name: Name, dtype: object"
      ]
     },
     "execution_count": 86,
     "metadata": {},
     "output_type": "execute_result"
    }
   ],
   "source": [
    "titanic_dataset[\"Name\"][(titanic_dataset[\"SibSp\"]==5) & (titanic_dataset[\"Survived\"]==0)]"
   ]
  },
  {
   "cell_type": "code",
   "execution_count": 87,
   "metadata": {
    "collapsed": false
   },
   "outputs": [
    {
     "data": {
      "text/plain": [
       "130"
      ]
     },
     "execution_count": 87,
     "metadata": {},
     "output_type": "execute_result"
    }
   ],
   "source": [
    "titanic_dataset[\"Name\"][titanic_dataset[\"Age\"] < 18].count()"
   ]
  },
  {
   "cell_type": "code",
   "execution_count": 88,
   "metadata": {
    "collapsed": false
   },
   "outputs": [
    {
     "name": "stdout",
     "output_type": "stream",
     "text": [
      "Age       False  True \n",
      "Title                 \n",
      "Capt          1      0\n",
      "Col           2      0\n",
      "Countess      1      0\n",
      "Don           1      0\n",
      "Dr            7      0\n",
      "Jonkheer      1      0\n",
      "Lady          1      0\n",
      "Major         2      0\n",
      "Master        4     36\n",
      "Miss        128     54\n",
      "Mlle          2      0\n",
      "Mme           1      0\n",
      "Mr          482     35\n",
      "Mrs         120      5\n",
      "Ms            1      0\n",
      "Rev           6      0\n",
      "Sir           1      0\n"
     ]
    }
   ],
   "source": [
    "print(pd.crosstab(titanic_dataset[\"Title\"], columns=[(titanic_dataset[\"Age\"] < 18)]))    "
   ]
  },
  {
   "cell_type": "code",
   "execution_count": 89,
   "metadata": {
    "collapsed": false
   },
   "outputs": [
    {
     "name": "stdout",
     "output_type": "stream",
     "text": [
      "col_0     False  True \n",
      "Title                 \n",
      "Capt          1      0\n",
      "Col           2      0\n",
      "Countess      1      0\n",
      "Don           1      0\n",
      "Dr            7      0\n",
      "Jonkheer      1      0\n",
      "Lady          1      0\n",
      "Major         2      0\n",
      "Master       19     21\n",
      "Miss        146     36\n",
      "Mlle          2      0\n",
      "Mme           1      0\n",
      "Mr          515      2\n",
      "Mrs         120      5\n",
      "Ms            1      0\n",
      "Rev           6      0\n",
      "Sir           1      0\n"
     ]
    }
   ],
   "source": [
    "print(pd.crosstab(titanic_dataset[\"Title\"], columns=[(titanic_dataset[\"Age\"] < 18) & (titanic_dataset[\"Survived\"] == 1)]))    "
   ]
  },
  {
   "cell_type": "code",
   "execution_count": 90,
   "metadata": {
    "collapsed": false
   },
   "outputs": [
    {
     "data": {
      "text/html": [
       "<div>\n",
       "<table border=\"1\" class=\"dataframe\">\n",
       "  <thead>\n",
       "    <tr style=\"text-align: right;\">\n",
       "      <th>col_0</th>\n",
       "      <th>False</th>\n",
       "      <th>True</th>\n",
       "    </tr>\n",
       "    <tr>\n",
       "      <th>Title</th>\n",
       "      <th></th>\n",
       "      <th></th>\n",
       "    </tr>\n",
       "  </thead>\n",
       "  <tbody>\n",
       "    <tr>\n",
       "      <th>Capt</th>\n",
       "      <td>1</td>\n",
       "      <td>0</td>\n",
       "    </tr>\n",
       "    <tr>\n",
       "      <th>Col</th>\n",
       "      <td>2</td>\n",
       "      <td>0</td>\n",
       "    </tr>\n",
       "    <tr>\n",
       "      <th>Countess</th>\n",
       "      <td>1</td>\n",
       "      <td>0</td>\n",
       "    </tr>\n",
       "    <tr>\n",
       "      <th>Don</th>\n",
       "      <td>1</td>\n",
       "      <td>0</td>\n",
       "    </tr>\n",
       "    <tr>\n",
       "      <th>Dr</th>\n",
       "      <td>7</td>\n",
       "      <td>0</td>\n",
       "    </tr>\n",
       "    <tr>\n",
       "      <th>Jonkheer</th>\n",
       "      <td>1</td>\n",
       "      <td>0</td>\n",
       "    </tr>\n",
       "    <tr>\n",
       "      <th>Lady</th>\n",
       "      <td>1</td>\n",
       "      <td>0</td>\n",
       "    </tr>\n",
       "    <tr>\n",
       "      <th>Major</th>\n",
       "      <td>2</td>\n",
       "      <td>0</td>\n",
       "    </tr>\n",
       "    <tr>\n",
       "      <th>Master</th>\n",
       "      <td>25</td>\n",
       "      <td>15</td>\n",
       "    </tr>\n",
       "    <tr>\n",
       "      <th>Miss</th>\n",
       "      <td>164</td>\n",
       "      <td>18</td>\n",
       "    </tr>\n",
       "    <tr>\n",
       "      <th>Mlle</th>\n",
       "      <td>2</td>\n",
       "      <td>0</td>\n",
       "    </tr>\n",
       "    <tr>\n",
       "      <th>Mme</th>\n",
       "      <td>1</td>\n",
       "      <td>0</td>\n",
       "    </tr>\n",
       "    <tr>\n",
       "      <th>Mr</th>\n",
       "      <td>484</td>\n",
       "      <td>33</td>\n",
       "    </tr>\n",
       "    <tr>\n",
       "      <th>Mrs</th>\n",
       "      <td>125</td>\n",
       "      <td>0</td>\n",
       "    </tr>\n",
       "    <tr>\n",
       "      <th>Ms</th>\n",
       "      <td>1</td>\n",
       "      <td>0</td>\n",
       "    </tr>\n",
       "    <tr>\n",
       "      <th>Rev</th>\n",
       "      <td>6</td>\n",
       "      <td>0</td>\n",
       "    </tr>\n",
       "    <tr>\n",
       "      <th>Sir</th>\n",
       "      <td>1</td>\n",
       "      <td>0</td>\n",
       "    </tr>\n",
       "  </tbody>\n",
       "</table>\n",
       "</div>"
      ],
      "text/plain": [
       "col_0     False  True \n",
       "Title                 \n",
       "Capt          1      0\n",
       "Col           2      0\n",
       "Countess      1      0\n",
       "Don           1      0\n",
       "Dr            7      0\n",
       "Jonkheer      1      0\n",
       "Lady          1      0\n",
       "Major         2      0\n",
       "Master       25     15\n",
       "Miss        164     18\n",
       "Mlle          2      0\n",
       "Mme           1      0\n",
       "Mr          484     33\n",
       "Mrs         125      0\n",
       "Ms            1      0\n",
       "Rev           6      0\n",
       "Sir           1      0"
      ]
     },
     "execution_count": 90,
     "metadata": {},
     "output_type": "execute_result"
    }
   ],
   "source": [
    "pd.crosstab(titanic_dataset[\"Title\"], columns=[(titanic_dataset[\"Age\"] < 18) & (titanic_dataset[\"Survived\"] == 0)])"
   ]
  },
  {
   "cell_type": "code",
   "execution_count": 91,
   "metadata": {
    "collapsed": false
   },
   "outputs": [],
   "source": [
    "tab = pd.crosstab((titanic_dataset[\"Title\"],titanic_dataset[\"Age\"]), titanic_dataset[\"Survived\"], margins=True)"
   ]
  },
  {
   "cell_type": "code",
   "execution_count": 92,
   "metadata": {
    "collapsed": false
   },
   "outputs": [
    {
     "name": "stdout",
     "output_type": "stream",
     "text": [
      "Age       0.75   1.00   2.00   3.00   4.00   5.00   6.00   7.00   8.00   \\\n",
      "Survived                                                                  \n",
      "0             0      0      4      1      0      0      1      0      1   \n",
      "1             2      2      2      1      5      4      1      1      1   \n",
      "All           2      2      6      2      5      4      2      1      2   \n",
      "\n",
      "Age       9.00   ...    39.00  40.00  41.00  42.00  43.00  45.00  50.00  \\\n",
      "Survived         ...                                                      \n",
      "0             4  ...        2      0      1      0      1      1      1   \n",
      "1             0  ...        3      3      1      2      2      0      2   \n",
      "All           4  ...        5      3      2      2      3      1      3   \n",
      "\n",
      "Age       54.00  58.00  63.00  \n",
      "Survived                       \n",
      "0             0      0      0  \n",
      "1             1      2      1  \n",
      "All           1      2      1  \n",
      "\n",
      "[3 rows x 51 columns]\n"
     ]
    }
   ],
   "source": [
    "print(tab.transpose()[\"Miss\"])"
   ]
  },
  {
   "cell_type": "code",
   "execution_count": null,
   "metadata": {
    "collapsed": false
   },
   "outputs": [],
   "source": []
  },
  {
   "cell_type": "code",
   "execution_count": 93,
   "metadata": {
    "collapsed": false,
    "scrolled": true
   },
   "outputs": [
    {
     "data": {
      "text/html": [
       "<div>\n",
       "<table border=\"1\" class=\"dataframe\">\n",
       "  <thead>\n",
       "    <tr>\n",
       "      <th>Title</th>\n",
       "      <th>Capt</th>\n",
       "      <th colspan=\"2\" halign=\"left\">Col</th>\n",
       "      <th>Countess</th>\n",
       "      <th>Don</th>\n",
       "      <th colspan=\"5\" halign=\"left\">Dr</th>\n",
       "      <th>...</th>\n",
       "      <th>Mrs</th>\n",
       "      <th>Ms</th>\n",
       "      <th colspan=\"6\" halign=\"left\">Rev</th>\n",
       "      <th>Sir</th>\n",
       "      <th>All</th>\n",
       "    </tr>\n",
       "    <tr>\n",
       "      <th>Age</th>\n",
       "      <th>70.0</th>\n",
       "      <th>56.0</th>\n",
       "      <th>60.0</th>\n",
       "      <th>33.0</th>\n",
       "      <th>40.0</th>\n",
       "      <th>23.0</th>\n",
       "      <th>32.0</th>\n",
       "      <th>44.0</th>\n",
       "      <th>49.0</th>\n",
       "      <th>50.0</th>\n",
       "      <th>...</th>\n",
       "      <th>63.0</th>\n",
       "      <th>28.0</th>\n",
       "      <th>27.0</th>\n",
       "      <th>28.0</th>\n",
       "      <th>42.0</th>\n",
       "      <th>51.0</th>\n",
       "      <th>54.0</th>\n",
       "      <th>57.0</th>\n",
       "      <th>49.0</th>\n",
       "      <th></th>\n",
       "    </tr>\n",
       "    <tr>\n",
       "      <th>Survived</th>\n",
       "      <th></th>\n",
       "      <th></th>\n",
       "      <th></th>\n",
       "      <th></th>\n",
       "      <th></th>\n",
       "      <th></th>\n",
       "      <th></th>\n",
       "      <th></th>\n",
       "      <th></th>\n",
       "      <th></th>\n",
       "      <th></th>\n",
       "      <th></th>\n",
       "      <th></th>\n",
       "      <th></th>\n",
       "      <th></th>\n",
       "      <th></th>\n",
       "      <th></th>\n",
       "      <th></th>\n",
       "      <th></th>\n",
       "      <th></th>\n",
       "      <th></th>\n",
       "    </tr>\n",
       "  </thead>\n",
       "  <tbody>\n",
       "    <tr>\n",
       "      <th>0</th>\n",
       "      <td>1</td>\n",
       "      <td>0</td>\n",
       "      <td>1</td>\n",
       "      <td>0</td>\n",
       "      <td>1</td>\n",
       "      <td>2</td>\n",
       "      <td>0</td>\n",
       "      <td>1</td>\n",
       "      <td>0</td>\n",
       "      <td>0</td>\n",
       "      <td>...</td>\n",
       "      <td>0</td>\n",
       "      <td>0</td>\n",
       "      <td>1</td>\n",
       "      <td>1</td>\n",
       "      <td>1</td>\n",
       "      <td>1</td>\n",
       "      <td>1</td>\n",
       "      <td>1</td>\n",
       "      <td>0</td>\n",
       "      <td>549</td>\n",
       "    </tr>\n",
       "    <tr>\n",
       "      <th>1</th>\n",
       "      <td>0</td>\n",
       "      <td>1</td>\n",
       "      <td>0</td>\n",
       "      <td>1</td>\n",
       "      <td>0</td>\n",
       "      <td>0</td>\n",
       "      <td>1</td>\n",
       "      <td>0</td>\n",
       "      <td>1</td>\n",
       "      <td>1</td>\n",
       "      <td>...</td>\n",
       "      <td>1</td>\n",
       "      <td>1</td>\n",
       "      <td>0</td>\n",
       "      <td>0</td>\n",
       "      <td>0</td>\n",
       "      <td>0</td>\n",
       "      <td>0</td>\n",
       "      <td>0</td>\n",
       "      <td>1</td>\n",
       "      <td>342</td>\n",
       "    </tr>\n",
       "    <tr>\n",
       "      <th>All</th>\n",
       "      <td>1</td>\n",
       "      <td>1</td>\n",
       "      <td>1</td>\n",
       "      <td>1</td>\n",
       "      <td>1</td>\n",
       "      <td>2</td>\n",
       "      <td>1</td>\n",
       "      <td>1</td>\n",
       "      <td>1</td>\n",
       "      <td>1</td>\n",
       "      <td>...</td>\n",
       "      <td>1</td>\n",
       "      <td>1</td>\n",
       "      <td>1</td>\n",
       "      <td>1</td>\n",
       "      <td>1</td>\n",
       "      <td>1</td>\n",
       "      <td>1</td>\n",
       "      <td>1</td>\n",
       "      <td>1</td>\n",
       "      <td>891</td>\n",
       "    </tr>\n",
       "  </tbody>\n",
       "</table>\n",
       "<p>3 rows × 206 columns</p>\n",
       "</div>"
      ],
      "text/plain": [
       "Title    Capt  Col      Countess  Don   Dr                     ...   Mrs   Ms  \\\n",
       "Age      70.0 56.0 60.0     33.0 40.0 23.0 32.0 44.0 49.0 50.0 ...  63.0 28.0   \n",
       "Survived                                                       ...              \n",
       "0           1    0    1        0    1    2    0    1    0    0 ...     0    0   \n",
       "1           0    1    0        1    0    0    1    0    1    1 ...     1    1   \n",
       "All         1    1    1        1    1    2    1    1    1    1 ...     1    1   \n",
       "\n",
       "Title     Rev                           Sir  All  \n",
       "Age      27.0 28.0 42.0 51.0 54.0 57.0 49.0       \n",
       "Survived                                          \n",
       "0           1    1    1    1    1    1    0  549  \n",
       "1           0    0    0    0    0    0    1  342  \n",
       "All         1    1    1    1    1    1    1  891  \n",
       "\n",
       "[3 rows x 206 columns]"
      ]
     },
     "execution_count": 93,
     "metadata": {},
     "output_type": "execute_result"
    }
   ],
   "source": [
    "tab.transpose()"
   ]
  },
  {
   "cell_type": "code",
   "execution_count": 94,
   "metadata": {
    "collapsed": false
   },
   "outputs": [
    {
     "data": {
      "text/html": [
       "<div>\n",
       "<table border=\"1\" class=\"dataframe\">\n",
       "  <thead>\n",
       "    <tr style=\"text-align: right;\">\n",
       "      <th></th>\n",
       "      <th>Survived</th>\n",
       "    </tr>\n",
       "    <tr>\n",
       "      <th>Title</th>\n",
       "      <th></th>\n",
       "    </tr>\n",
       "  </thead>\n",
       "  <tbody>\n",
       "    <tr>\n",
       "      <th>Capt</th>\n",
       "      <td>0.000000</td>\n",
       "    </tr>\n",
       "    <tr>\n",
       "      <th>Col</th>\n",
       "      <td>0.500000</td>\n",
       "    </tr>\n",
       "    <tr>\n",
       "      <th>Countess</th>\n",
       "      <td>1.000000</td>\n",
       "    </tr>\n",
       "    <tr>\n",
       "      <th>Don</th>\n",
       "      <td>0.000000</td>\n",
       "    </tr>\n",
       "    <tr>\n",
       "      <th>Dr</th>\n",
       "      <td>0.428571</td>\n",
       "    </tr>\n",
       "    <tr>\n",
       "      <th>Jonkheer</th>\n",
       "      <td>0.000000</td>\n",
       "    </tr>\n",
       "    <tr>\n",
       "      <th>Lady</th>\n",
       "      <td>1.000000</td>\n",
       "    </tr>\n",
       "    <tr>\n",
       "      <th>Major</th>\n",
       "      <td>0.500000</td>\n",
       "    </tr>\n",
       "    <tr>\n",
       "      <th>Master</th>\n",
       "      <td>0.575000</td>\n",
       "    </tr>\n",
       "    <tr>\n",
       "      <th>Miss</th>\n",
       "      <td>0.697802</td>\n",
       "    </tr>\n",
       "    <tr>\n",
       "      <th>Mlle</th>\n",
       "      <td>1.000000</td>\n",
       "    </tr>\n",
       "    <tr>\n",
       "      <th>Mme</th>\n",
       "      <td>1.000000</td>\n",
       "    </tr>\n",
       "    <tr>\n",
       "      <th>Mr</th>\n",
       "      <td>0.156673</td>\n",
       "    </tr>\n",
       "    <tr>\n",
       "      <th>Mrs</th>\n",
       "      <td>0.792000</td>\n",
       "    </tr>\n",
       "    <tr>\n",
       "      <th>Ms</th>\n",
       "      <td>1.000000</td>\n",
       "    </tr>\n",
       "    <tr>\n",
       "      <th>Rev</th>\n",
       "      <td>0.000000</td>\n",
       "    </tr>\n",
       "    <tr>\n",
       "      <th>Sir</th>\n",
       "      <td>1.000000</td>\n",
       "    </tr>\n",
       "  </tbody>\n",
       "</table>\n",
       "</div>"
      ],
      "text/plain": [
       "          Survived\n",
       "Title             \n",
       "Capt      0.000000\n",
       "Col       0.500000\n",
       "Countess  1.000000\n",
       "Don       0.000000\n",
       "Dr        0.428571\n",
       "Jonkheer  0.000000\n",
       "Lady      1.000000\n",
       "Major     0.500000\n",
       "Master    0.575000\n",
       "Miss      0.697802\n",
       "Mlle      1.000000\n",
       "Mme       1.000000\n",
       "Mr        0.156673\n",
       "Mrs       0.792000\n",
       "Ms        1.000000\n",
       "Rev       0.000000\n",
       "Sir       1.000000"
      ]
     },
     "execution_count": 94,
     "metadata": {},
     "output_type": "execute_result"
    }
   ],
   "source": [
    "titanic_dataset[[\"Title\", \"Survived\"]].groupby(\"Title\").mean()"
   ]
  },
  {
   "cell_type": "code",
   "execution_count": 95,
   "metadata": {
    "collapsed": false
   },
   "outputs": [
    {
     "data": {
      "text/html": [
       "<div>\n",
       "<table border=\"1\" class=\"dataframe\">\n",
       "  <thead>\n",
       "    <tr style=\"text-align: right;\">\n",
       "      <th></th>\n",
       "      <th>Survived</th>\n",
       "      <th>0</th>\n",
       "      <th>1</th>\n",
       "      <th>All</th>\n",
       "    </tr>\n",
       "    <tr>\n",
       "      <th>Title</th>\n",
       "      <th>Age</th>\n",
       "      <th></th>\n",
       "      <th></th>\n",
       "      <th></th>\n",
       "    </tr>\n",
       "  </thead>\n",
       "  <tbody>\n",
       "    <tr>\n",
       "      <th>Capt</th>\n",
       "      <th>70.0</th>\n",
       "      <td>1</td>\n",
       "      <td>0</td>\n",
       "      <td>1</td>\n",
       "    </tr>\n",
       "    <tr>\n",
       "      <th rowspan=\"2\" valign=\"top\">Col</th>\n",
       "      <th>56.0</th>\n",
       "      <td>0</td>\n",
       "      <td>1</td>\n",
       "      <td>1</td>\n",
       "    </tr>\n",
       "    <tr>\n",
       "      <th>60.0</th>\n",
       "      <td>1</td>\n",
       "      <td>0</td>\n",
       "      <td>1</td>\n",
       "    </tr>\n",
       "    <tr>\n",
       "      <th>Countess</th>\n",
       "      <th>33.0</th>\n",
       "      <td>0</td>\n",
       "      <td>1</td>\n",
       "      <td>1</td>\n",
       "    </tr>\n",
       "    <tr>\n",
       "      <th>Don</th>\n",
       "      <th>40.0</th>\n",
       "      <td>1</td>\n",
       "      <td>0</td>\n",
       "      <td>1</td>\n",
       "    </tr>\n",
       "    <tr>\n",
       "      <th rowspan=\"6\" valign=\"top\">Dr</th>\n",
       "      <th>23.0</th>\n",
       "      <td>2</td>\n",
       "      <td>0</td>\n",
       "      <td>2</td>\n",
       "    </tr>\n",
       "    <tr>\n",
       "      <th>32.0</th>\n",
       "      <td>0</td>\n",
       "      <td>1</td>\n",
       "      <td>1</td>\n",
       "    </tr>\n",
       "    <tr>\n",
       "      <th>44.0</th>\n",
       "      <td>1</td>\n",
       "      <td>0</td>\n",
       "      <td>1</td>\n",
       "    </tr>\n",
       "    <tr>\n",
       "      <th>49.0</th>\n",
       "      <td>0</td>\n",
       "      <td>1</td>\n",
       "      <td>1</td>\n",
       "    </tr>\n",
       "    <tr>\n",
       "      <th>50.0</th>\n",
       "      <td>0</td>\n",
       "      <td>1</td>\n",
       "      <td>1</td>\n",
       "    </tr>\n",
       "    <tr>\n",
       "      <th>54.0</th>\n",
       "      <td>1</td>\n",
       "      <td>0</td>\n",
       "      <td>1</td>\n",
       "    </tr>\n",
       "    <tr>\n",
       "      <th>Jonkheer</th>\n",
       "      <th>38.0</th>\n",
       "      <td>1</td>\n",
       "      <td>0</td>\n",
       "      <td>1</td>\n",
       "    </tr>\n",
       "    <tr>\n",
       "      <th>Lady</th>\n",
       "      <th>48.0</th>\n",
       "      <td>0</td>\n",
       "      <td>1</td>\n",
       "      <td>1</td>\n",
       "    </tr>\n",
       "    <tr>\n",
       "      <th rowspan=\"2\" valign=\"top\">Major</th>\n",
       "      <th>45.0</th>\n",
       "      <td>1</td>\n",
       "      <td>0</td>\n",
       "      <td>1</td>\n",
       "    </tr>\n",
       "    <tr>\n",
       "      <th>52.0</th>\n",
       "      <td>0</td>\n",
       "      <td>1</td>\n",
       "      <td>1</td>\n",
       "    </tr>\n",
       "    <tr>\n",
       "      <th rowspan=\"15\" valign=\"top\">Master</th>\n",
       "      <th>0.42</th>\n",
       "      <td>0</td>\n",
       "      <td>1</td>\n",
       "      <td>1</td>\n",
       "    </tr>\n",
       "    <tr>\n",
       "      <th>0.67</th>\n",
       "      <td>0</td>\n",
       "      <td>1</td>\n",
       "      <td>1</td>\n",
       "    </tr>\n",
       "    <tr>\n",
       "      <th>0.83</th>\n",
       "      <td>0</td>\n",
       "      <td>2</td>\n",
       "      <td>2</td>\n",
       "    </tr>\n",
       "    <tr>\n",
       "      <th>0.92</th>\n",
       "      <td>0</td>\n",
       "      <td>1</td>\n",
       "      <td>1</td>\n",
       "    </tr>\n",
       "    <tr>\n",
       "      <th>1.0</th>\n",
       "      <td>2</td>\n",
       "      <td>3</td>\n",
       "      <td>5</td>\n",
       "    </tr>\n",
       "    <tr>\n",
       "      <th>2.0</th>\n",
       "      <td>3</td>\n",
       "      <td>1</td>\n",
       "      <td>4</td>\n",
       "    </tr>\n",
       "    <tr>\n",
       "      <th>3.0</th>\n",
       "      <td>0</td>\n",
       "      <td>4</td>\n",
       "      <td>4</td>\n",
       "    </tr>\n",
       "    <tr>\n",
       "      <th>4.0</th>\n",
       "      <td>3</td>\n",
       "      <td>2</td>\n",
       "      <td>5</td>\n",
       "    </tr>\n",
       "    <tr>\n",
       "      <th>6.0</th>\n",
       "      <td>0</td>\n",
       "      <td>1</td>\n",
       "      <td>1</td>\n",
       "    </tr>\n",
       "    <tr>\n",
       "      <th>7.0</th>\n",
       "      <td>2</td>\n",
       "      <td>0</td>\n",
       "      <td>2</td>\n",
       "    </tr>\n",
       "    <tr>\n",
       "      <th>8.0</th>\n",
       "      <td>1</td>\n",
       "      <td>1</td>\n",
       "      <td>2</td>\n",
       "    </tr>\n",
       "    <tr>\n",
       "      <th>9.0</th>\n",
       "      <td>2</td>\n",
       "      <td>2</td>\n",
       "      <td>4</td>\n",
       "    </tr>\n",
       "    <tr>\n",
       "      <th>10.0</th>\n",
       "      <td>1</td>\n",
       "      <td>0</td>\n",
       "      <td>1</td>\n",
       "    </tr>\n",
       "    <tr>\n",
       "      <th>11.0</th>\n",
       "      <td>1</td>\n",
       "      <td>1</td>\n",
       "      <td>2</td>\n",
       "    </tr>\n",
       "    <tr>\n",
       "      <th>12.0</th>\n",
       "      <td>0</td>\n",
       "      <td>1</td>\n",
       "      <td>1</td>\n",
       "    </tr>\n",
       "    <tr>\n",
       "      <th>...</th>\n",
       "      <th>...</th>\n",
       "      <td>...</td>\n",
       "      <td>...</td>\n",
       "      <td>...</td>\n",
       "    </tr>\n",
       "    <tr>\n",
       "      <th rowspan=\"21\" valign=\"top\">Mrs</th>\n",
       "      <th>40.0</th>\n",
       "      <td>1</td>\n",
       "      <td>3</td>\n",
       "      <td>4</td>\n",
       "    </tr>\n",
       "    <tr>\n",
       "      <th>41.0</th>\n",
       "      <td>2</td>\n",
       "      <td>2</td>\n",
       "      <td>4</td>\n",
       "    </tr>\n",
       "    <tr>\n",
       "      <th>42.0</th>\n",
       "      <td>1</td>\n",
       "      <td>3</td>\n",
       "      <td>4</td>\n",
       "    </tr>\n",
       "    <tr>\n",
       "      <th>43.0</th>\n",
       "      <td>1</td>\n",
       "      <td>1</td>\n",
       "      <td>2</td>\n",
       "    </tr>\n",
       "    <tr>\n",
       "      <th>44.0</th>\n",
       "      <td>1</td>\n",
       "      <td>2</td>\n",
       "      <td>3</td>\n",
       "    </tr>\n",
       "    <tr>\n",
       "      <th>45.0</th>\n",
       "      <td>2</td>\n",
       "      <td>3</td>\n",
       "      <td>5</td>\n",
       "    </tr>\n",
       "    <tr>\n",
       "      <th>47.0</th>\n",
       "      <td>1</td>\n",
       "      <td>1</td>\n",
       "      <td>2</td>\n",
       "    </tr>\n",
       "    <tr>\n",
       "      <th>48.0</th>\n",
       "      <td>1</td>\n",
       "      <td>2</td>\n",
       "      <td>3</td>\n",
       "    </tr>\n",
       "    <tr>\n",
       "      <th>49.0</th>\n",
       "      <td>0</td>\n",
       "      <td>1</td>\n",
       "      <td>1</td>\n",
       "    </tr>\n",
       "    <tr>\n",
       "      <th>50.0</th>\n",
       "      <td>0</td>\n",
       "      <td>2</td>\n",
       "      <td>2</td>\n",
       "    </tr>\n",
       "    <tr>\n",
       "      <th>51.0</th>\n",
       "      <td>0</td>\n",
       "      <td>1</td>\n",
       "      <td>1</td>\n",
       "    </tr>\n",
       "    <tr>\n",
       "      <th>52.0</th>\n",
       "      <td>0</td>\n",
       "      <td>2</td>\n",
       "      <td>2</td>\n",
       "    </tr>\n",
       "    <tr>\n",
       "      <th>53.0</th>\n",
       "      <td>0</td>\n",
       "      <td>1</td>\n",
       "      <td>1</td>\n",
       "    </tr>\n",
       "    <tr>\n",
       "      <th>54.0</th>\n",
       "      <td>0</td>\n",
       "      <td>2</td>\n",
       "      <td>2</td>\n",
       "    </tr>\n",
       "    <tr>\n",
       "      <th>55.0</th>\n",
       "      <td>0</td>\n",
       "      <td>1</td>\n",
       "      <td>1</td>\n",
       "    </tr>\n",
       "    <tr>\n",
       "      <th>56.0</th>\n",
       "      <td>0</td>\n",
       "      <td>1</td>\n",
       "      <td>1</td>\n",
       "    </tr>\n",
       "    <tr>\n",
       "      <th>57.0</th>\n",
       "      <td>1</td>\n",
       "      <td>0</td>\n",
       "      <td>1</td>\n",
       "    </tr>\n",
       "    <tr>\n",
       "      <th>58.0</th>\n",
       "      <td>0</td>\n",
       "      <td>1</td>\n",
       "      <td>1</td>\n",
       "    </tr>\n",
       "    <tr>\n",
       "      <th>60.0</th>\n",
       "      <td>0</td>\n",
       "      <td>1</td>\n",
       "      <td>1</td>\n",
       "    </tr>\n",
       "    <tr>\n",
       "      <th>62.0</th>\n",
       "      <td>0</td>\n",
       "      <td>1</td>\n",
       "      <td>1</td>\n",
       "    </tr>\n",
       "    <tr>\n",
       "      <th>63.0</th>\n",
       "      <td>0</td>\n",
       "      <td>1</td>\n",
       "      <td>1</td>\n",
       "    </tr>\n",
       "    <tr>\n",
       "      <th>Ms</th>\n",
       "      <th>28.0</th>\n",
       "      <td>0</td>\n",
       "      <td>1</td>\n",
       "      <td>1</td>\n",
       "    </tr>\n",
       "    <tr>\n",
       "      <th rowspan=\"6\" valign=\"top\">Rev</th>\n",
       "      <th>27.0</th>\n",
       "      <td>1</td>\n",
       "      <td>0</td>\n",
       "      <td>1</td>\n",
       "    </tr>\n",
       "    <tr>\n",
       "      <th>28.0</th>\n",
       "      <td>1</td>\n",
       "      <td>0</td>\n",
       "      <td>1</td>\n",
       "    </tr>\n",
       "    <tr>\n",
       "      <th>42.0</th>\n",
       "      <td>1</td>\n",
       "      <td>0</td>\n",
       "      <td>1</td>\n",
       "    </tr>\n",
       "    <tr>\n",
       "      <th>51.0</th>\n",
       "      <td>1</td>\n",
       "      <td>0</td>\n",
       "      <td>1</td>\n",
       "    </tr>\n",
       "    <tr>\n",
       "      <th>54.0</th>\n",
       "      <td>1</td>\n",
       "      <td>0</td>\n",
       "      <td>1</td>\n",
       "    </tr>\n",
       "    <tr>\n",
       "      <th>57.0</th>\n",
       "      <td>1</td>\n",
       "      <td>0</td>\n",
       "      <td>1</td>\n",
       "    </tr>\n",
       "    <tr>\n",
       "      <th>Sir</th>\n",
       "      <th>49.0</th>\n",
       "      <td>0</td>\n",
       "      <td>1</td>\n",
       "      <td>1</td>\n",
       "    </tr>\n",
       "    <tr>\n",
       "      <th>All</th>\n",
       "      <th></th>\n",
       "      <td>549</td>\n",
       "      <td>342</td>\n",
       "      <td>891</td>\n",
       "    </tr>\n",
       "  </tbody>\n",
       "</table>\n",
       "<p>206 rows × 3 columns</p>\n",
       "</div>"
      ],
      "text/plain": [
       "Survived         0    1  All\n",
       "Title    Age                \n",
       "Capt     70.0    1    0    1\n",
       "Col      56.0    0    1    1\n",
       "         60.0    1    0    1\n",
       "Countess 33.0    0    1    1\n",
       "Don      40.0    1    0    1\n",
       "Dr       23.0    2    0    2\n",
       "         32.0    0    1    1\n",
       "         44.0    1    0    1\n",
       "         49.0    0    1    1\n",
       "         50.0    0    1    1\n",
       "         54.0    1    0    1\n",
       "Jonkheer 38.0    1    0    1\n",
       "Lady     48.0    0    1    1\n",
       "Major    45.0    1    0    1\n",
       "         52.0    0    1    1\n",
       "Master   0.42    0    1    1\n",
       "         0.67    0    1    1\n",
       "         0.83    0    2    2\n",
       "         0.92    0    1    1\n",
       "         1.0     2    3    5\n",
       "         2.0     3    1    4\n",
       "         3.0     0    4    4\n",
       "         4.0     3    2    5\n",
       "         6.0     0    1    1\n",
       "         7.0     2    0    2\n",
       "         8.0     1    1    2\n",
       "         9.0     2    2    4\n",
       "         10.0    1    0    1\n",
       "         11.0    1    1    2\n",
       "         12.0    0    1    1\n",
       "...            ...  ...  ...\n",
       "Mrs      40.0    1    3    4\n",
       "         41.0    2    2    4\n",
       "         42.0    1    3    4\n",
       "         43.0    1    1    2\n",
       "         44.0    1    2    3\n",
       "         45.0    2    3    5\n",
       "         47.0    1    1    2\n",
       "         48.0    1    2    3\n",
       "         49.0    0    1    1\n",
       "         50.0    0    2    2\n",
       "         51.0    0    1    1\n",
       "         52.0    0    2    2\n",
       "         53.0    0    1    1\n",
       "         54.0    0    2    2\n",
       "         55.0    0    1    1\n",
       "         56.0    0    1    1\n",
       "         57.0    1    0    1\n",
       "         58.0    0    1    1\n",
       "         60.0    0    1    1\n",
       "         62.0    0    1    1\n",
       "         63.0    0    1    1\n",
       "Ms       28.0    0    1    1\n",
       "Rev      27.0    1    0    1\n",
       "         28.0    1    0    1\n",
       "         42.0    1    0    1\n",
       "         51.0    1    0    1\n",
       "         54.0    1    0    1\n",
       "         57.0    1    0    1\n",
       "Sir      49.0    0    1    1\n",
       "All            549  342  891\n",
       "\n",
       "[206 rows x 3 columns]"
      ]
     },
     "execution_count": 95,
     "metadata": {},
     "output_type": "execute_result"
    }
   ],
   "source": [
    "tab"
   ]
  },
  {
   "cell_type": "code",
   "execution_count": 96,
   "metadata": {
    "collapsed": false
   },
   "outputs": [
    {
     "data": {
      "text/plain": [
       "<matplotlib.axes._subplots.AxesSubplot at 0x11f8c4908>"
      ]
     },
     "execution_count": 96,
     "metadata": {},
     "output_type": "execute_result"
    },
    {
     "data": {
      "image/png": "[encoded data removed]",
      "text/plain": [
       "<matplotlib.figure.Figure at 0x11f8c4a20>"
      ]
     },
     "metadata": {},
     "output_type": "display_data"
    }
   ],
   "source": [
    "colormap = plt.cm.viridis\n",
    "plt.figure(figsize=(12,12))\n",
    "plt.title('Pearson Correlation of Features', y=1.05, size=15)\n",
    "sns.heatmap(titanic_dataset.drop(\"PassengerId\", axis=1).corr(),linewidths=0.1,vmax=1.0, square=True, cmap=colormap, linecolor='white', annot=True)"
   ]
  },
  {
   "cell_type": "code",
   "execution_count": 97,
   "metadata": {
    "collapsed": false
   },
   "outputs": [
    {
     "data": {
      "text/plain": [
       "<seaborn.axisgrid.PairGrid at 0x1211888d0>"
      ]
     },
     "execution_count": 97,
     "metadata": {},
     "output_type": "execute_result"
    },
    {
     "data": {
      "image/png": "[encoded data removed]",
      "text/plain": [
       "<matplotlib.figure.Figure at 0x11fed7710>"
      ]
     },
     "metadata": {},
     "output_type": "display_data"
    }
   ],
   "source": [
    "flatui = [\"#9b59b6\", \"#3498db\", \"#95a5a6\", \"#e74c3c\", \"#34495e\", \"#2ecc71\"]\n",
    "cols = ['Survived','Pclass','Age','SibSp','Parch','Fare']\n",
    "g = sns.pairplot(data=titanic_dataset.dropna(), vars=cols, size=1.5, hue='Survived', palette='husl')\n",
    "g.set(xticklabels=[])"
   ]
  },
  {
   "cell_type": "code",
   "execution_count": 98,
   "metadata": {
    "collapsed": false
   },
   "outputs": [
    {
     "name": "stdout",
     "output_type": "stream",
     "text": [
      "Survived    0    1\n",
      "Sex               \n",
      "female     81  233\n",
      "male      468  109\n"
     ]
    }
   ],
   "source": [
    "gender_survived = pd.crosstab(titanic_dataset[\"Sex\"], titanic_dataset[\"Survived\"])\n",
    "print(gender_survived)               "
   ]
  },
  {
   "cell_type": "code",
   "execution_count": 99,
   "metadata": {
    "collapsed": false
   },
   "outputs": [
    {
     "data": {
      "image/png": "[encoded data removed]",
      "text/plain": [
       "<matplotlib.figure.Figure at 0x122c78eb8>"
      ]
     },
     "metadata": {},
     "output_type": "display_data"
    }
   ],
   "source": [
    "gender_survived.div(gender_survived.sum(1).astype(float), axis=0).plot(kind=\"bar\", stacked=True, figsize=(12, 5), width=.1)\n",
    "plt.xlabel('Sex')\n",
    "plt.ylabel('Percentage')\n",
    "plt.tight_layout()"
   ]
  },
  {
   "cell_type": "code",
   "execution_count": 103,
   "metadata": {
    "collapsed": false
   },
   "outputs": [
    {
     "name": "stdout",
     "output_type": "stream",
     "text": [
      "Number of males 577 \n",
      "Number of females 314\n"
     ]
    },
    {
     "data": {
      "text/plain": [
       "<matplotlib.axes._subplots.AxesSubplot at 0x12302dcf8>"
      ]
     },
     "execution_count": 103,
     "metadata": {},
     "output_type": "execute_result"
    },
    {
     "data": {
      "image/png": "[encoded data removed]",
      "text/plain": [
       "<matplotlib.figure.Figure at 0x11f9360f0>"
      ]
     },
     "metadata": {},
     "output_type": "display_data"
    }
   ],
   "source": [
    "male = titanic_dataset[titanic_dataset[\"Sex\"]==\"male\"][\"Sex\"].astype(bool).sum()\n",
    "female = titanic_dataset[titanic_dataset[\"Sex\"]==\"female\"][\"Sex\"].astype(bool).sum()\n",
    "sex = male,female\n",
    "series = pd.Series(sex, index=[\"male\", \"female\"])\n",
    "print(\"Number of males {}\".format(male),\"\\n\" \"Number of females {}\".format(female))\n",
    "series.plot(kind=\"bar\",stacked=False, figsize=(15, 5), width=.1)"
   ]
  },
  {
   "cell_type": "code",
   "execution_count": 104,
   "metadata": {
    "collapsed": false,
    "scrolled": true
   },
   "outputs": [
    {
     "data": {
      "text/html": [
       "<div>\n",
       "<table border=\"1\" class=\"dataframe\">\n",
       "  <thead>\n",
       "    <tr style=\"text-align: right;\">\n",
       "      <th>Survived</th>\n",
       "      <th>0</th>\n",
       "      <th>1</th>\n",
       "    </tr>\n",
       "    <tr>\n",
       "      <th>Sex</th>\n",
       "      <th></th>\n",
       "      <th></th>\n",
       "    </tr>\n",
       "  </thead>\n",
       "  <tbody>\n",
       "    <tr>\n",
       "      <th>female</th>\n",
       "      <td>0.257962</td>\n",
       "      <td>0.742038</td>\n",
       "    </tr>\n",
       "    <tr>\n",
       "      <th>male</th>\n",
       "      <td>0.811092</td>\n",
       "      <td>0.188908</td>\n",
       "    </tr>\n",
       "  </tbody>\n",
       "</table>\n",
       "</div>"
      ],
      "text/plain": [
       "Survived         0         1\n",
       "Sex                         \n",
       "female    0.257962  0.742038\n",
       "male      0.811092  0.188908"
      ]
     },
     "execution_count": 104,
     "metadata": {},
     "output_type": "execute_result"
    }
   ],
   "source": [
    "gender_survived.div(gender_survived.sum(1).astype(float), axis=0)"
   ]
  },
  {
   "cell_type": "code",
   "execution_count": 105,
   "metadata": {
    "collapsed": true
   },
   "outputs": [],
   "source": [
    "#Possible values are: \n",
    "#Accent, Accent_r, Blues, Blues_r, BrBG, BrBG_r, BuGn, BuGn_r, BuPu, \n",
    "#BuPu_r, CMRmap, CMRmap_r, Dark2, Dark2_r, GnBu, GnBu_r, Greens, Greens_r, \n",
    "#Greys, Greys_r, OrRd, OrRd_r, Oranges, Oranges_r, PRGn, PRGn_r, Paired, \n",
    "#Paired_r, Pastel1, Pastel1_r, Pastel2, Pastel2_r, PiYG, PiYG_r, PuBu, \n",
    "#PuBuGn, PuBuGn_r, PuBu_r, PuOr, PuOr_r, PuRd, PuRd_r, Purples, Purples_r, \n",
    "#RdBu, RdBu_r, RdGy, RdGy_r, RdPu, RdPu_r, RdYlBu, RdYlBu_r, RdYlGn, \n",
    "#RdYlGn_r, Reds, Reds_r, Set1, Set1_r, Set2, Set2_r, Set3, Set3_r, \n",
    "#Spectral, Spectral_r, Vega10, Vega10_r, Vega20, Vega20_r, Vega20b, \n",
    "#Vega20b_r, Vega20c, Vega20c_r, Wistia, Wistia_r, YlGn, YlGnBu, YlGnBu_r, \n",
    "#YlGn_r, YlOrBr, YlOrBr_r, YlOrRd, YlOrRd_r, afmhot, afmhot_r, autumn, \n",
    "#autumn_r, binary, binary_r, bone, bone_r, brg, brg_r, bwr, bwr_r, cool, \n",
    "#cool_r, coolwarm, coolwarm_r, copper, copper_r, cubehelix, cubehelix_r, \n",
    "#flag, flag_r, gist_earth, gist_earth_r, gist_gray, gist_gray_r, \n",
    "#gist_heat, gist_heat_r, gist_ncar, gist_ncar_r, gist_rainbow, \n",
    "#gist_rainbow_r, gist_stern, gist_stern_r, gist_yarg, gist_yarg_r, \n",
    "#gnuplot, gnuplot2, gnuplot2_r, gnuplot_r, gray, gray_r, hot, hot_r, hsv, \n",
    "#hsv_r, inferno, inferno_r, jet, jet_r, magma, magma_r, nipy_spectral, \n",
    "#nipy_spectral_r, ocean, ocean_r, pink, pink_r, plasma, plasma_r, prism, \n",
    "#prism_r, rainbow, rainbow_r, seismic, seismic_r, spectral, spectral_r, \n",
    "#spring, spring_r, summer, summer_r, terrain, terrain_r, viridis, \n",
    "#viridis_r, winter, winter_r"
   ]
  },
  {
   "cell_type": "code",
   "execution_count": 106,
   "metadata": {
    "collapsed": false
   },
   "outputs": [
    {
     "data": {
      "text/html": [
       "<div>\n",
       "<table border=\"1\" class=\"dataframe\">\n",
       "  <thead>\n",
       "    <tr style=\"text-align: right;\">\n",
       "      <th></th>\n",
       "      <th>Survived</th>\n",
       "    </tr>\n",
       "    <tr>\n",
       "      <th>Sex</th>\n",
       "      <th></th>\n",
       "    </tr>\n",
       "  </thead>\n",
       "  <tbody>\n",
       "    <tr>\n",
       "      <th>male</th>\n",
       "      <td>0</td>\n",
       "    </tr>\n",
       "  </tbody>\n",
       "</table>\n",
       "</div>"
      ],
      "text/plain": [
       "      Survived\n",
       "Sex           \n",
       "male         0"
      ]
     },
     "execution_count": 106,
     "metadata": {},
     "output_type": "execute_result"
    }
   ],
   "source": [
    "titanic_dataset[(titanic_dataset[\"Sex\"]==\"male\") & (titanic_dataset[\"Survived\"]==0)][[\"Survived\", \"Sex\"]].groupby(\"Sex\").mean()"
   ]
  },
  {
   "cell_type": "code",
   "execution_count": 107,
   "metadata": {
    "collapsed": false
   },
   "outputs": [
    {
     "data": {
      "text/plain": [
       "<matplotlib.axes._subplots.AxesSubplot at 0x1229f4908>"
      ]
     },
     "execution_count": 107,
     "metadata": {},
     "output_type": "execute_result"
    },
    {
     "data": {
      "image/png": "[encoded data removed]",
      "text/plain": [
       "<matplotlib.figure.Figure at 0x11f819780>"
      ]
     },
     "metadata": {},
     "output_type": "display_data"
    }
   ],
   "source": [
    "sex = titanic_dataset[[\"Sex\", \"Survived\"]].groupby(\"Sex\").mean()\n",
    "sex.plot(kind=\"bar\", stacked=False, figsize=(15, 5), width=.1)"
   ]
  },
  {
   "cell_type": "code",
   "execution_count": 108,
   "metadata": {
    "collapsed": false
   },
   "outputs": [
    {
     "data": {
      "text/plain": [
       "468"
      ]
     },
     "execution_count": 108,
     "metadata": {},
     "output_type": "execute_result"
    }
   ],
   "source": [
    "len(titanic_dataset[(titanic_dataset[\"Sex\"]==\"male\") & (titanic_dataset[\"Survived\"]==0)])"
   ]
  },
  {
   "cell_type": "code",
   "execution_count": 109,
   "metadata": {
    "collapsed": false
   },
   "outputs": [
    {
     "data": {
      "text/plain": [
       "549"
      ]
     },
     "execution_count": 109,
     "metadata": {},
     "output_type": "execute_result"
    }
   ],
   "source": [
    "len(titanic_dataset[titanic_dataset[\"Survived\"]==0])"
   ]
  },
  {
   "cell_type": "code",
   "execution_count": 110,
   "metadata": {
    "collapsed": false
   },
   "outputs": [
    {
     "data": {
      "text/plain": [
       "342"
      ]
     },
     "execution_count": 110,
     "metadata": {},
     "output_type": "execute_result"
    }
   ],
   "source": [
    "len(titanic_dataset[titanic_dataset[\"Survived\"]==1])"
   ]
  },
  {
   "cell_type": "code",
   "execution_count": 111,
   "metadata": {
    "collapsed": false
   },
   "outputs": [
    {
     "data": {
      "text/plain": [
       "577"
      ]
     },
     "execution_count": 111,
     "metadata": {},
     "output_type": "execute_result"
    }
   ],
   "source": [
    "len(titanic_dataset[(titanic_dataset[\"Sex\"]==\"male\")])"
   ]
  },
  {
   "cell_type": "code",
   "execution_count": 112,
   "metadata": {
    "collapsed": false
   },
   "outputs": [
    {
     "data": {
      "text/plain": [
       "314"
      ]
     },
     "execution_count": 112,
     "metadata": {},
     "output_type": "execute_result"
    }
   ],
   "source": [
    "len(titanic_dataset[(titanic_dataset[\"Sex\"]==\"female\")])"
   ]
  },
  {
   "cell_type": "code",
   "execution_count": 113,
   "metadata": {
    "collapsed": false
   },
   "outputs": [
    {
     "data": {
      "text/plain": [
       "109"
      ]
     },
     "execution_count": 113,
     "metadata": {},
     "output_type": "execute_result"
    }
   ],
   "source": [
    "len(titanic_dataset[(titanic_dataset[\"Sex\"]==\"male\") & (titanic_dataset[\"Survived\"]==1)])"
   ]
  },
  {
   "cell_type": "code",
   "execution_count": 114,
   "metadata": {
    "collapsed": false
   },
   "outputs": [
    {
     "data": {
      "text/plain": [
       "0.18890814558058924"
      ]
     },
     "execution_count": 114,
     "metadata": {},
     "output_type": "execute_result"
    }
   ],
   "source": [
    "male_survivor_perecent =len(titanic_dataset[(titanic_dataset[\"Sex\"]==\"male\") & (titanic_dataset[\"Survived\"]==1)])/len(titanic_dataset[(titanic_dataset[\"Sex\"]==\"male\")])   \n",
    "male_survivor_perecent"
   ]
  },
  {
   "cell_type": "code",
   "execution_count": 115,
   "metadata": {
    "collapsed": false
   },
   "outputs": [
    {
     "data": {
      "text/plain": [
       "233"
      ]
     },
     "execution_count": 115,
     "metadata": {},
     "output_type": "execute_result"
    }
   ],
   "source": [
    "len(titanic_dataset[(titanic_dataset[\"Sex\"]==\"female\") & (titanic_dataset[\"Survived\"]==1)])"
   ]
  },
  {
   "cell_type": "code",
   "execution_count": 116,
   "metadata": {
    "collapsed": false
   },
   "outputs": [
    {
     "data": {
      "text/plain": [
       "0.7420382165605095"
      ]
     },
     "execution_count": 116,
     "metadata": {},
     "output_type": "execute_result"
    }
   ],
   "source": [
    "female_survivor_perecent = len(titanic_dataset[(titanic_dataset[\"Sex\"]==\"female\") & (titanic_dataset[\"Survived\"]==1)])/ len(titanic_dataset[(titanic_dataset[\"Sex\"]==\"female\")])\n",
    "female_survivor_perecent"
   ]
  },
  {
   "cell_type": "code",
   "execution_count": 117,
   "metadata": {
    "collapsed": false
   },
   "outputs": [
    {
     "name": "stdout",
     "output_type": "stream",
     "text": [
      "      Sex  Survived    Pclass        Age     SibSp     Parch       Fare\n",
      "0  female  0.742038  2.159236  28.289809  0.694268  0.649682  44.479818\n",
      "\n",
      "    Sex  Survived    Pclass        Age     SibSp     Parch       Fare\n",
      "0  male  0.188908  2.389948  30.489029  0.429809  0.235702  25.523893\n"
     ]
    },
    {
     "data": {
      "text/plain": [
       "<matplotlib.text.Text at 0x123556da0>"
      ]
     },
     "execution_count": 117,
     "metadata": {},
     "output_type": "execute_result"
    },
    {
     "data": {
      "image/png": "[encoded data removed]",
      "text/plain": [
       "<matplotlib.figure.Figure at 0x122855e80>"
      ]
     },
     "metadata": {},
     "output_type": "display_data"
    }
   ],
   "source": [
    "fig, (axis1,axis2) = plt.subplots(1,2,figsize=(15,5))\n",
    "\n",
    "fsex = titanic_dataset[titanic_dataset[\"Sex\"]==\"female\"].groupby([\"Sex\"], as_index=False).mean()\n",
    "print(fsex.drop(\"PassengerId\", axis=1))\n",
    "print()\n",
    "plt.subplot(axis1)\n",
    "sns.barplot(data=fsex.drop([\"PassengerId\", \"Pclass\", \"Survived\", \"Age\", \"Fare\"], axis=1))\n",
    "plt.xlabel(\"Female\")\n",
    "plt.ylabel(\"Mean(SibSp/Parch)\")\n",
    "plt.title(\"Bar chart of family proportions of female passengers\")\n",
    "\n",
    "\n",
    "msex = titanic_dataset[titanic_dataset[\"Sex\"]==\"male\"].groupby([\"Sex\"], as_index=False).mean()\n",
    "print(msex.drop(\"PassengerId\", axis=1))\n",
    "plt.subplot(axis2)\n",
    "sns.barplot(data=msex.drop([\"PassengerId\", \"Pclass\", \"Survived\", \"Age\", \"Fare\"], axis=1))\n",
    "plt.xlabel('Male')\n",
    "plt.ylabel('Mean(SibSp/Parch)')\n",
    "plt.title(\"Bar chart of family proportions of male passengers\")"
   ]
  },
  {
   "cell_type": "code",
   "execution_count": null,
   "metadata": {
    "collapsed": true
   },
   "outputs": [],
   "source": []
  },
  {
   "cell_type": "code",
   "execution_count": 118,
   "metadata": {
    "collapsed": false
   },
   "outputs": [],
   "source": [
    "embarked_survived = titanic_dataset[[\"Embarked\", \"Survived\"]].groupby([\"Embarked\"], as_index=False).mean() "
   ]
  },
  {
   "cell_type": "code",
   "execution_count": 119,
   "metadata": {
    "collapsed": false
   },
   "outputs": [
    {
     "name": "stdout",
     "output_type": "stream",
     "text": [
      "  Embarked  Survived\n",
      "0        C  0.553571\n",
      "1        Q  0.389610\n",
      "2        S  0.336957\n"
     ]
    },
    {
     "data": {
      "text/plain": [
       "<matplotlib.axes._subplots.AxesSubplot at 0x12292f550>"
      ]
     },
     "execution_count": 119,
     "metadata": {},
     "output_type": "execute_result"
    },
    {
     "data": {
      "image/png": "[encoded data removed]",
      "text/plain": [
       "<matplotlib.figure.Figure at 0x12286bbe0>"
      ]
     },
     "metadata": {},
     "output_type": "display_data"
    }
   ],
   "source": [
    "print(embarked_survived)\n",
    "sns.barplot(x=\"Embarked\", y=\"Survived\", data=embarked_survived)"
   ]
  },
  {
   "cell_type": "code",
   "execution_count": 120,
   "metadata": {
    "collapsed": true
   },
   "outputs": [],
   "source": [
    "class_survived = titanic_dataset[[\"Pclass\", \"Survived\"]].groupby([\"Pclass\"], as_index=False).mean()"
   ]
  },
  {
   "cell_type": "code",
   "execution_count": 121,
   "metadata": {
    "collapsed": false
   },
   "outputs": [
    {
     "name": "stdout",
     "output_type": "stream",
     "text": [
      "   Pclass  Survived\n",
      "0       1  0.629630\n",
      "1       2  0.472826\n",
      "2       3  0.242363\n"
     ]
    },
    {
     "data": {
      "text/plain": [
       "<matplotlib.axes._subplots.AxesSubplot at 0x122efa7f0>"
      ]
     },
     "execution_count": 121,
     "metadata": {},
     "output_type": "execute_result"
    },
    {
     "data": {
      "image/png": "[encoded data removed]",
      "text/plain": [
       "<matplotlib.figure.Figure at 0x12376e940>"
      ]
     },
     "metadata": {},
     "output_type": "display_data"
    }
   ],
   "source": [
    "print(class_survived)\n",
    "sns.barplot(x=\"Pclass\", y=\"Survived\", data=class_survived)"
   ]
  },
  {
   "cell_type": "code",
   "execution_count": 122,
   "metadata": {
    "collapsed": false
   },
   "outputs": [],
   "source": [
    "title_survived = pd.crosstab(titanic_dataset[\"Title\"], titanic_dataset[\"Survived\"])"
   ]
  },
  {
   "cell_type": "code",
   "execution_count": 123,
   "metadata": {
    "collapsed": false
   },
   "outputs": [
    {
     "data": {
      "text/plain": [
       "<matplotlib.legend.Legend at 0x12389eb00>"
      ]
     },
     "execution_count": 123,
     "metadata": {},
     "output_type": "execute_result"
    },
    {
     "data": {
      "image/png": "[encoded data removed]",
      "text/plain": [
       "<matplotlib.figure.Figure at 0x1233d64e0>"
      ]
     },
     "metadata": {},
     "output_type": "display_data"
    }
   ],
   "source": [
    "bar = title_survived.div(title_survived.sum(1).astype(float), axis=0).plot(kind=\"bar\", stacked=True, figsize=(15, 8))\n",
    "plt.xlabel('Titles')\n",
    "plt.ylabel('Percentage')\n",
    "plt.legend(bbox_to_anchor=(1.04,1), loc=\"upper left\")"
   ]
  },
  {
   "cell_type": "code",
   "execution_count": 147,
   "metadata": {
    "collapsed": false
   },
   "outputs": [
    {
     "name": "stdout",
     "output_type": "stream",
     "text": [
      "       Title  Survived\n",
      "0       Capt  0.000000\n",
      "1        Col  0.500000\n",
      "2   Countess  1.000000\n",
      "3        Don  0.000000\n",
      "4         Dr  0.428571\n",
      "5   Jonkheer  0.000000\n",
      "6       Lady  1.000000\n",
      "7      Major  0.500000\n",
      "8     Master  0.575000\n",
      "9       Miss  0.697802\n",
      "10      Mlle  1.000000\n",
      "11       Mme  1.000000\n",
      "12        Mr  0.156673\n",
      "13       Mrs  0.792000\n",
      "14        Ms  1.000000\n",
      "15       Rev  0.000000\n",
      "16       Sir  1.000000\n"
     ]
    },
    {
     "data": {
      "text/plain": [
       "<matplotlib.axes._subplots.AxesSubplot at 0x127863da0>"
      ]
     },
     "execution_count": 147,
     "metadata": {},
     "output_type": "execute_result"
    },
    {
     "data": {
      "image/png": "[encoded data removed]",
      "text/plain": [
       "<matplotlib.figure.Figure at 0x1278757b8>"
      ]
     },
     "metadata": {},
     "output_type": "display_data"
    }
   ],
   "source": [
    "plt.subplots(1, figsize=(15,5))\n",
    "titles_surv = titanic_dataset[[\"Title\", \"Survived\"]].groupby([\"Title\"], as_index=False).mean()\n",
    "print(titles_surv)\n",
    "sns.barplot(x=\"Title\", y=\"Survived\",data=titles_surv, palette=\"spectral\")"
   ]
  },
  {
   "cell_type": "code",
   "execution_count": 150,
   "metadata": {
    "collapsed": false
   },
   "outputs": [
    {
     "name": "stdout",
     "output_type": "stream",
     "text": [
      "Sex       female  male  All\n",
      "Embarked                   \n",
      "C             73    95  168\n",
      "Q             36    41   77\n",
      "S            203   441  644\n",
      "All          312   577  889\n"
     ]
    },
    {
     "data": {
      "text/plain": [
       "<matplotlib.text.Text at 0x127d76208>"
      ]
     },
     "execution_count": 150,
     "metadata": {},
     "output_type": "execute_result"
    },
    {
     "data": {
      "image/png": "[encoded data removed]",
      "text/plain": [
       "<matplotlib.figure.Figure at 0x127a94b00>"
      ]
     },
     "metadata": {},
     "output_type": "display_data"
    }
   ],
   "source": [
    "print(pd.crosstab(titanic_dataset[\"Embarked\"], titanic_dataset[\"Sex\"], margins=True))\n",
    "pd.crosstab(titanic_dataset[\"Embarked\"], titanic_dataset[\"Sex\"]).plot.bar(figsize=(15, 8))\n",
    "plt.xlabel('Embarked')\n",
    "plt.ylabel('Passengers')"
   ]
  },
  {
   "cell_type": "code",
   "execution_count": 126,
   "metadata": {
    "collapsed": false
   },
   "outputs": [
    {
     "name": "stdout",
     "output_type": "stream",
     "text": [
      "Sex     female  male  All\n",
      "Pclass                   \n",
      "1           94   122  216\n",
      "2           76   108  184\n",
      "3          144   347  491\n",
      "All        314   577  891\n"
     ]
    },
    {
     "data": {
      "text/plain": [
       "<matplotlib.axes._subplots.AxesSubplot at 0x123898cf8>"
      ]
     },
     "execution_count": 126,
     "metadata": {},
     "output_type": "execute_result"
    },
    {
     "data": {
      "image/png": "[encoded data removed]",
      "text/plain": [
       "<matplotlib.figure.Figure at 0x123fa0ba8>"
      ]
     },
     "metadata": {},
     "output_type": "display_data"
    }
   ],
   "source": [
    "print(pd.crosstab(titanic_dataset[\"Pclass\"], titanic_dataset[\"Sex\"], margins=True))\n",
    "pd.crosstab(titanic_dataset[\"Pclass\"], titanic_dataset[\"Sex\"]).plot.bar(figsize=(15, 8))"
   ]
  },
  {
   "cell_type": "code",
   "execution_count": 1,
   "metadata": {
    "collapsed": false,
    "scrolled": false
   },
   "outputs": [
    {
     "ename": "NameError",
     "evalue": "name 'pd' is not defined",
     "output_type": "error",
     "traceback": [
      "\u001b[0;31m---------------------------------------------------------------------------\u001b[0m",
      "\u001b[0;31mNameError\u001b[0m                                 Traceback (most recent call last)",
      "\u001b[0;32m<ipython-input-1-32c347d91d65>\u001b[0m in \u001b[0;36m<module>\u001b[0;34m()\u001b[0m\n\u001b[1;32m      1\u001b[0m \u001b[0;31m#print(pd.crosstab(titanic_dataset[\"Age\"], titanic_dataset[\"Survived\"]))\u001b[0m\u001b[0;34m\u001b[0m\u001b[0;34m\u001b[0m\u001b[0m\n\u001b[0;32m----> 2\u001b[0;31m \u001b[0mpd\u001b[0m\u001b[0;34m.\u001b[0m\u001b[0mcrosstab\u001b[0m\u001b[0;34m(\u001b[0m\u001b[0mtitanic_dataset\u001b[0m\u001b[0;34m[\u001b[0m\u001b[0;34m\"Age\"\u001b[0m\u001b[0;34m]\u001b[0m\u001b[0;34m,\u001b[0m \u001b[0mtitanic_dataset\u001b[0m\u001b[0;34m[\u001b[0m\u001b[0;34m\"Survived\"\u001b[0m\u001b[0;34m]\u001b[0m\u001b[0;34m)\u001b[0m\u001b[0;34m.\u001b[0m\u001b[0mplot\u001b[0m\u001b[0;34m.\u001b[0m\u001b[0mbar\u001b[0m\u001b[0;34m(\u001b[0m\u001b[0mfigsize\u001b[0m\u001b[0;34m=\u001b[0m\u001b[0;34m(\u001b[0m\u001b[0;36m20\u001b[0m\u001b[0;34m,\u001b[0m \u001b[0;36m12\u001b[0m\u001b[0;34m)\u001b[0m\u001b[0;34m,\u001b[0m\u001b[0mwidth\u001b[0m\u001b[0;34m=\u001b[0m\u001b[0;36m2\u001b[0m\u001b[0;34m)\u001b[0m\u001b[0;34m\u001b[0m\u001b[0m\n\u001b[0m",
      "\u001b[0;31mNameError\u001b[0m: name 'pd' is not defined"
     ]
    }
   ],
   "source": [
    "#print(pd.crosstab(titanic_dataset[\"Age\"], titanic_dataset[\"Survived\"]))\n",
    "pd.crosstab(titanic_dataset[\"Age\"], titanic_dataset[\"Survived\"]).plot.bar(figsize=(20, 12),width=2)"
   ]
  },
  {
   "cell_type": "code",
   "execution_count": 128,
   "metadata": {
    "collapsed": false
   },
   "outputs": [
    {
     "name": "stdout",
     "output_type": "stream",
     "text": [
      "Survived    0    1  All\n",
      "Sex                    \n",
      "female     81  233  314\n",
      "male      468  109  577\n",
      "All       549  342  891\n"
     ]
    },
    {
     "data": {
      "text/plain": [
       "<matplotlib.axes._subplots.AxesSubplot at 0x1247bff60>"
      ]
     },
     "execution_count": 128,
     "metadata": {},
     "output_type": "execute_result"
    },
    {
     "data": {
      "image/png": "[encoded data removed]",
      "text/plain": [
       "<matplotlib.figure.Figure at 0x12476de10>"
      ]
     },
     "metadata": {},
     "output_type": "display_data"
    }
   ],
   "source": [
    "sex_and_surv = pd.crosstab(titanic_dataset[\"Sex\"], titanic_dataset[\"Survived\"], margins=True)\n",
    "print(pd.crosstab(titanic_dataset[\"Sex\"], titanic_dataset[\"Survived\"], margins=True))\n",
    "#pd.crosstab(titanic_dataset[\"Sex\"], titanic_dataset[\"Survived\"], margins=True).plot.bar(stacked=True, figsize=(15, 8),width=.3)     \n",
    "sex_and_surv.div(sex_and_surv.sum(1), axis=0).plot.bar(stacked=True, figsize=(15, 8), width=.3)"
   ]
  },
  {
   "cell_type": "code",
   "execution_count": 129,
   "metadata": {
    "collapsed": true
   },
   "outputs": [],
   "source": [
    "title_survived = pd.crosstab(titanic_dataset[\"Title\"], titanic_dataset[\"Survived\"], margins=True)"
   ]
  },
  {
   "cell_type": "code",
   "execution_count": 130,
   "metadata": {
    "collapsed": false
   },
   "outputs": [
    {
     "name": "stdout",
     "output_type": "stream",
     "text": [
      "Survived    0    1  All\n",
      "Title                  \n",
      "Capt        1    0    1\n",
      "Col         1    1    2\n",
      "Countess    0    1    1\n",
      "Don         1    0    1\n",
      "Dr          4    3    7\n",
      "Jonkheer    1    0    1\n",
      "Lady        0    1    1\n",
      "Major       1    1    2\n",
      "Master     17   23   40\n",
      "Miss       55  127  182\n",
      "Mlle        0    2    2\n",
      "Mme         0    1    1\n",
      "Mr        436   81  517\n",
      "Mrs        26   99  125\n",
      "Ms          0    1    1\n",
      "Rev         6    0    6\n",
      "Sir         0    1    1\n",
      "All       549  342  891\n"
     ]
    }
   ],
   "source": [
    "print(title_survived)"
   ]
  },
  {
   "cell_type": "code",
   "execution_count": 131,
   "metadata": {
    "collapsed": false
   },
   "outputs": [
    {
     "data": {
      "text/plain": [
       "<matplotlib.axes._subplots.AxesSubplot at 0x125390f98>"
      ]
     },
     "execution_count": 131,
     "metadata": {},
     "output_type": "execute_result"
    },
    {
     "data": {
      "image/png": "[encoded data removed]",
      "text/plain": [
       "<matplotlib.figure.Figure at 0x124ff6908>"
      ]
     },
     "metadata": {},
     "output_type": "display_data"
    }
   ],
   "source": [
    "title_survived.plot.bar(stacked=True, figsize=(15, 8))"
   ]
  },
  {
   "cell_type": "code",
   "execution_count": 132,
   "metadata": {
    "collapsed": false
   },
   "outputs": [
    {
     "name": "stdout",
     "output_type": "stream",
     "text": [
      "Pclass        1           2           3       All\n",
      "Sex      female male female male female male     \n",
      "Survived                                         \n",
      "0             3   77      6   91     72  300  549\n",
      "1            91   45     70   17     72   47  342\n",
      "All          94  122     76  108    144  347  891\n"
     ]
    },
    {
     "data": {
      "text/plain": [
       "<matplotlib.axes._subplots.AxesSubplot at 0x1256c1f60>"
      ]
     },
     "execution_count": 132,
     "metadata": {},
     "output_type": "execute_result"
    },
    {
     "data": {
      "image/png": "[encoded data removed]",
      "text/plain": [
       "<matplotlib.figure.Figure at 0x12563efd0>"
      ]
     },
     "metadata": {},
     "output_type": "display_data"
    }
   ],
   "source": [
    "print(pd.crosstab((titanic_dataset[\"Pclass\"], titanic_dataset[\"Sex\"]), titanic_dataset[\"Survived\"], margins=True).transpose())\n",
    "pd.crosstab((titanic_dataset[\"Pclass\"], titanic_dataset[\"Sex\"]), titanic_dataset[\"Survived\"]).plot.bar(stacked=True,figsize=(15,8))"
   ]
  },
  {
   "cell_type": "code",
   "execution_count": 133,
   "metadata": {
    "collapsed": false
   },
   "outputs": [
    {
     "data": {
      "text/plain": [
       "<matplotlib.axes._subplots.AxesSubplot at 0x1255e4eb8>"
      ]
     },
     "execution_count": 133,
     "metadata": {},
     "output_type": "execute_result"
    },
    {
     "data": {
      "image/png": "[encoded data removed]",
      "text/plain": [
       "<matplotlib.figure.Figure at 0x1256c1be0>"
      ]
     },
     "metadata": {},
     "output_type": "display_data"
    }
   ],
   "source": [
    "class_and_sex = pd.crosstab((titanic_dataset[\"Pclass\"], titanic_dataset[\"Sex\"]), titanic_dataset[\"Survived\"])   \n",
    "class_and_sex.div(class_and_sex.sum(1), axis=0).plot.bar(stacked=True,figsize=(15, 8))"
   ]
  },
  {
   "cell_type": "code",
   "execution_count": 134,
   "metadata": {
    "collapsed": false
   },
   "outputs": [
    {
     "name": "stdout",
     "output_type": "stream",
     "text": [
      "Embarked      C           Q           S       All\n",
      "Sex      female male female male female male     \n",
      "Survived                                         \n",
      "0             9   66      9   38     63  364  549\n",
      "1            64   29     27    3    140   77  340\n",
      "All          73   95     36   41    203  441  889\n"
     ]
    },
    {
     "data": {
      "text/plain": [
       "<matplotlib.axes._subplots.AxesSubplot at 0x1256cf0b8>"
      ]
     },
     "execution_count": 134,
     "metadata": {},
     "output_type": "execute_result"
    },
    {
     "data": {
      "image/png": "[encoded data removed]",
      "text/plain": [
       "<matplotlib.figure.Figure at 0x125b7f470>"
      ]
     },
     "metadata": {},
     "output_type": "display_data"
    }
   ],
   "source": [
    "print(pd.crosstab((titanic_dataset[\"Embarked\"], titanic_dataset[\"Sex\"]), titanic_dataset[\"Survived\"], margins=True).transpose())    \n",
    "pd.crosstab((titanic_dataset[\"Embarked\"], titanic_dataset[\"Sex\"]), titanic_dataset[\"Survived\"]).plot.bar(stacked=True, figsize=(15, 8))"
   ]
  },
  {
   "cell_type": "code",
   "execution_count": 135,
   "metadata": {
    "collapsed": false
   },
   "outputs": [
    {
     "name": "stdout",
     "output_type": "stream",
     "text": [
      "Pclass      1    2    3  All\n",
      "Embarked                    \n",
      "C          85   17   66  168\n",
      "Q           2    3   72   77\n",
      "S         127  164  353  644\n",
      "All       214  184  491  889\n"
     ]
    },
    {
     "data": {
      "text/plain": [
       "<matplotlib.axes._subplots.AxesSubplot at 0x125e7a668>"
      ]
     },
     "execution_count": 135,
     "metadata": {},
     "output_type": "execute_result"
    },
    {
     "data": {
      "image/png": "[encoded data removed]",
      "text/plain": [
       "<matplotlib.figure.Figure at 0x125c500f0>"
      ]
     },
     "metadata": {},
     "output_type": "display_data"
    }
   ],
   "source": [
    "print(pd.crosstab(titanic_dataset[\"Embarked\"], titanic_dataset[\"Pclass\"], margins=True))\n",
    "pd.crosstab(titanic_dataset[\"Embarked\"], titanic_dataset[\"Pclass\"]).plot.bar(figsize=(15, 8))"
   ]
  },
  {
   "cell_type": "code",
   "execution_count": 136,
   "metadata": {
    "collapsed": false
   },
   "outputs": [],
   "source": [
    "#pd.crosstab(titanic_dataset[\"Pclass\"], titanic_dataset[\"Fare\"]).plot.bar(figsize=(15,8))"
   ]
  },
  {
   "cell_type": "code",
   "execution_count": 137,
   "metadata": {
    "collapsed": false
   },
   "outputs": [
    {
     "name": "stdout",
     "output_type": "stream",
     "text": [
      "Survived    0    1\n",
      "Embarked          \n",
      "C          75   93\n",
      "Q          47   30\n",
      "S         427  217\n"
     ]
    },
    {
     "data": {
      "text/plain": [
       "<matplotlib.axes._subplots.AxesSubplot at 0x126114048>"
      ]
     },
     "execution_count": 137,
     "metadata": {},
     "output_type": "execute_result"
    },
    {
     "data": {
      "image/png": "[encoded data removed]",
      "text/plain": [
       "<matplotlib.figure.Figure at 0x125b7b278>"
      ]
     },
     "metadata": {},
     "output_type": "display_data"
    }
   ],
   "source": [
    "print(pd.crosstab(titanic_dataset[\"Embarked\"], titanic_dataset[\"Survived\"]))\n",
    "pd.crosstab(titanic_dataset[\"Embarked\"], titanic_dataset[\"Survived\"]).plot.bar(figsize=(15, 8))"
   ]
  },
  {
   "cell_type": "code",
   "execution_count": 138,
   "metadata": {
    "collapsed": false
   },
   "outputs": [
    {
     "name": "stdout",
     "output_type": "stream",
     "text": [
      "  Embarked  Survived\n",
      "0        C  0.553571\n",
      "1        Q  0.389610\n",
      "2        S  0.336957\n"
     ]
    },
    {
     "data": {
      "text/plain": [
       "<matplotlib.axes._subplots.AxesSubplot at 0x12635f898>"
      ]
     },
     "execution_count": 138,
     "metadata": {},
     "output_type": "execute_result"
    },
    {
     "data": {
      "image/png": "[encoded data removed]",
      "text/plain": [
       "<matplotlib.figure.Figure at 0x1263700f0>"
      ]
     },
     "metadata": {},
     "output_type": "display_data"
    }
   ],
   "source": [
    "embarked_percentage = titanic_dataset[[\"Embarked\", \"Survived\"]].groupby([\"Embarked\"], as_index=False).mean()\n",
    "print(embarked_percentage)\n",
    "sns.barplot(x='Embarked', y='Survived', data=embarked_percentage)"
   ]
  },
  {
   "cell_type": "markdown",
   "metadata": {
    "collapsed": true
   },
   "source": [
    "Proportionately more males died relative to females. Historically, \"women and children first\" is a phrase that was first coined on the British HMS Birkenhead, which sunk in 1852. (more info here). Titanic, which also departed from Britain, likely encountered the same informal policy, handed down culturally through the British seas.\n",
    "\n",
    "To test if there is a statistical difference between the two genders, we conduct a difference in proportions test using a significant level of 0.05 Let p1 be the proportion of male survivals, let p2 be the proportion of female survivals.\n",
    "\n",
    "H0: p1 = p2\n",
    "\n",
    "HA: p1 != p2\n",
    "\n",
    "\n",
    "p = (p1 x n1 + p2 x n2) / (n1 + n2)\n",
    "  = (0.188908145581 * 577 + 0.742038216561 * 314) / (314 + 577)\n",
    "  = 0.384\n",
    "  \n",
    "SE = sqrt( p * (1-p) * [(1/n1) + (1/n2)] )\n",
    "   = sqrt( 0.384 * (1-0.384) * [(1/577) + (1/314)] )\n",
    "   = 0.0341\n",
    "\n",
    "z = (p1 - p2) / SE\n",
    "  = (0.188908145581 - 0.742038216561) / 0.0341\n",
    "  = -16.2\n",
    "   \n",
    "CompareMeans.ztest_ind"
   ]
  },
  {
   "cell_type": "code",
   "execution_count": 140,
   "metadata": {
    "collapsed": false
   },
   "outputs": [],
   "source": [
    "#CompareMeans.ztest_ind()"
   ]
  },
  {
   "cell_type": "code",
   "execution_count": 141,
   "metadata": {
    "collapsed": false
   },
   "outputs": [],
   "source": [
    "male = titanic_dataset[titanic_dataset[\"Sex\"]==\"male\"][\"Sex\"].value_counts()\n",
    "female = titanic_dataset[titanic_dataset[\"Sex\"]==\"female\"][\"Sex\"].value_counts()"
   ]
  },
  {
   "cell_type": "code",
   "execution_count": null,
   "metadata": {
    "collapsed": false
   },
   "outputs": [],
   "source": []
  },
  {
   "cell_type": "code",
   "execution_count": 142,
   "metadata": {
    "collapsed": false
   },
   "outputs": [
    {
     "data": {
      "text/plain": [
       "array([[<matplotlib.axes._subplots.AxesSubplot object at 0x126851550>,\n",
       "        <matplotlib.axes._subplots.AxesSubplot object at 0x1268b9b00>],\n",
       "       [<matplotlib.axes._subplots.AxesSubplot object at 0x126869ba8>,\n",
       "        <matplotlib.axes._subplots.AxesSubplot object at 0x12697dc50>],\n",
       "       [<matplotlib.axes._subplots.AxesSubplot object at 0x1269ed4e0>,\n",
       "        <matplotlib.axes._subplots.AxesSubplot object at 0x1269ed518>]], dtype=object)"
      ]
     },
     "execution_count": 142,
     "metadata": {},
     "output_type": "execute_result"
    },
    {
     "data": {
      "image/png": "[encoded data removed]",
      "text/plain": [
       "<matplotlib.figure.Figure at 0x12681f3c8>"
      ]
     },
     "metadata": {},
     "output_type": "display_data"
    }
   ],
   "source": [
    "titanic_dataset.drop(\"PassengerId\", axis=1).hist(bins=10,grid=False,figsize=(12, 10), color=\"gray\")"
   ]
  },
  {
   "cell_type": "code",
   "execution_count": 143,
   "metadata": {
    "collapsed": false
   },
   "outputs": [
    {
     "data": {
      "image/png": "[encoded data removed]",
      "text/plain": [
       "<matplotlib.figure.Figure at 0x1249fb828>"
      ]
     },
     "metadata": {},
     "output_type": "display_data"
    }
   ],
   "source": [
    "kws = dict(s=50, linewidth=.5, edgecolor=\"w\")\n",
    "g = sns.FacetGrid(titanic_dataset, hue=\"Survived\", col=\"Sex\", margin_titles=True,\n",
    "                palette=\"prism\",size=5)\n",
    "g.map(plt.scatter, \"Fare\", \"Age\", alpha=.7, **kws).add_legend()\n",
    "plt.subplots_adjust(top=0.88)\n",
    "g.fig.suptitle('Survival by Gender , Age and Fare');"
   ]
  },
  {
   "cell_type": "code",
   "execution_count": 144,
   "metadata": {
    "collapsed": false
   },
   "outputs": [
    {
     "data": {
      "image/png": "[encoded data removed]",
      "text/plain": [
       "<matplotlib.figure.Figure at 0x126effb38>"
      ]
     },
     "metadata": {},
     "output_type": "display_data"
    }
   ],
   "source": [
    "kws = dict(s=50, linewidth=.2, edgecolor=\"w\")\n",
    "g = sns.FacetGrid(titanic_dataset, hue=\"Survived\", col=\"Pclass\", margin_titles=True,\n",
    "                  palette=\"plasma\", size=4)\n",
    "g=g.map(plt.scatter, \"Fare\", \"Age\",**kws).add_legend();\n"
   ]
  },
  {
   "cell_type": "code",
   "execution_count": 145,
   "metadata": {
    "collapsed": false
   },
   "outputs": [
    {
     "data": {
      "image/png": "[encoded data removed]",
      "text/plain": [
       "<matplotlib.figure.Figure at 0x1270e15f8>"
      ]
     },
     "metadata": {},
     "output_type": "display_data"
    }
   ],
   "source": [
    "kws = dict(s=50, linewidth=.5, edgecolor=\"w\")\n",
    "g = sns.FacetGrid(titanic_dataset, hue=\"Survived\", col=\"Embarked\", margin_titles=True,\n",
    "                  palette=\"seismic_r\", size=4)\n",
    "g=g.map(plt.scatter, \"Fare\", \"Age\",**kws).add_legend();\n",
    "\n"
   ]
  },
  {
   "cell_type": "code",
   "execution_count": null,
   "metadata": {
    "collapsed": true
   },
   "outputs": [],
   "source": [
    "#Possible values are: \n",
    "#Accent, Accent_r, Blues, Blues_r, BrBG, BrBG_r, BuGn, BuGn_r, BuPu, \n",
    "#BuPu_r, CMRmap, CMRmap_r, Dark2, Dark2_r, GnBu, GnBu_r, Greens, Greens_r, \n",
    "#Greys, Greys_r, OrRd, OrRd_r, Oranges, Oranges_r, PRGn, PRGn_r, Paired, \n",
    "#Paired_r, Pastel1, Pastel1_r, Pastel2, Pastel2_r, PiYG, PiYG_r, PuBu, \n",
    "#PuBuGn, PuBuGn_r, PuBu_r, PuOr, PuOr_r, PuRd, PuRd_r, Purples, Purples_r, \n",
    "#RdBu, RdBu_r, RdGy, RdGy_r, RdPu, RdPu_r, RdYlBu, RdYlBu_r, RdYlGn, \n",
    "#RdYlGn_r, Reds, Reds_r, Set1, Set1_r, Set2, Set2_r, Set3, Set3_r, \n",
    "#Spectral, Spectral_r, Vega10, Vega10_r, Vega20, Vega20_r, Vega20b, \n",
    "#Vega20b_r, Vega20c, Vega20c_r, Wistia, Wistia_r, YlGn, YlGnBu, YlGnBu_r, \n",
    "#YlGn_r, YlOrBr, YlOrBr_r, YlOrRd, YlOrRd_r, afmhot, afmhot_r, autumn, \n",
    "#autumn_r, binary, binary_r, bone, bone_r, brg, brg_r, bwr, bwr_r, cool, \n",
    "#cool_r, coolwarm, coolwarm_r, copper, copper_r, cubehelix, cubehelix_r, \n",
    "#flag, flag_r, gist_earth, gist_earth_r, gist_gray, gist_gray_r, \n",
    "#gist_heat, gist_heat_r, gist_ncar, gist_ncar_r, gist_rainbow, \n",
    "#gist_rainbow_r, gist_stern, gist_stern_r, gist_yarg, gist_yarg_r, \n",
    "#gnuplot, gnuplot2, gnuplot2_r, gnuplot_r, gray, gray_r, hot, hot_r, hsv, \n",
    "#hsv_r, inferno, inferno_r, jet, jet_r, magma, magma_r, nipy_spectral, \n",
    "#nipy_spectral_r, ocean, ocean_r, pink, pink_r, plasma, plasma_r, prism, \n",
    "#prism_r, rainbow, rainbow_r, seismic, seismic_r, spectral, spectral_r, \n",
    "#spring, spring_r, summer, summer_r, terrain, terrain_r, viridis, \n",
    "#viridis_r, winter, winter_r"
   ]
  },
  {
   "cell_type": "code",
   "execution_count": 146,
   "metadata": {
    "collapsed": false
   },
   "outputs": [
    {
     "data": {
      "image/png": "[encoded data removed]",
      "text/plain": [
       "<matplotlib.figure.Figure at 0x126a67c18>"
      ]
     },
     "metadata": {},
     "output_type": "display_data"
    }
   ],
   "source": [
    "plt.subplots(1,figsize=(10, 8))\n",
    "ax = sns.boxplot(x=\"Survived\", y=\"Age\", \n",
    "                data=titanic_dataset);"
   ]
  },
  {
   "cell_type": "code",
   "execution_count": 132,
   "metadata": {
    "collapsed": false
   },
   "outputs": [],
   "source": [
    "from statsmodels.graphics.mosaicplot import mosaic\n",
    "#mosaic(titanic_dataset, )"
   ]
  },
  {
   "cell_type": "code",
   "execution_count": null,
   "metadata": {
    "collapsed": false
   },
   "outputs": [],
   "source": []
  },
  {
   "cell_type": "code",
   "execution_count": 123,
   "metadata": {
    "collapsed": false
   },
   "outputs": [],
   "source": [
    "age_group = titanic_dataset[['Age Group', 'Survived', \"Sex\"]].groupby(['Age Group'], as_index=False).mean()"
   ]
  },
  {
   "cell_type": "code",
   "execution_count": 124,
   "metadata": {
    "collapsed": false
   },
   "outputs": [
    {
     "data": {
      "text/html": [
       "<div>\n",
       "<table border=\"1\" class=\"dataframe\">\n",
       "  <thead>\n",
       "    <tr style=\"text-align: right;\">\n",
       "      <th></th>\n",
       "      <th>Age Group</th>\n",
       "      <th>Survived</th>\n",
       "    </tr>\n",
       "  </thead>\n",
       "  <tbody>\n",
       "    <tr>\n",
       "      <th>0</th>\n",
       "      <td>(0.34, 16.336]</td>\n",
       "      <td>0.513514</td>\n",
       "    </tr>\n",
       "    <tr>\n",
       "      <th>1</th>\n",
       "      <td>(16.336, 32.252]</td>\n",
       "      <td>0.356659</td>\n",
       "    </tr>\n",
       "    <tr>\n",
       "      <th>2</th>\n",
       "      <td>(32.252, 48.168]</td>\n",
       "      <td>0.373541</td>\n",
       "    </tr>\n",
       "    <tr>\n",
       "      <th>3</th>\n",
       "      <td>(48.168, 64.084]</td>\n",
       "      <td>0.434783</td>\n",
       "    </tr>\n",
       "    <tr>\n",
       "      <th>4</th>\n",
       "      <td>(64.084, 80]</td>\n",
       "      <td>0.090909</td>\n",
       "    </tr>\n",
       "  </tbody>\n",
       "</table>\n",
       "</div>"
      ],
      "text/plain": [
       "          Age Group  Survived\n",
       "0    (0.34, 16.336]  0.513514\n",
       "1  (16.336, 32.252]  0.356659\n",
       "2  (32.252, 48.168]  0.373541\n",
       "3  (48.168, 64.084]  0.434783\n",
       "4      (64.084, 80]  0.090909"
      ]
     },
     "execution_count": 124,
     "metadata": {},
     "output_type": "execute_result"
    }
   ],
   "source": [
    "age_group"
   ]
  },
  {
   "cell_type": "code",
   "execution_count": 133,
   "metadata": {
    "collapsed": false
   },
   "outputs": [],
   "source": [
    "#mosaic(titanic_dataset, [titanic_dataset[titanic_dataset[\"Survived\"]==1], \"Age Group\"])"
   ]
  },
  {
   "cell_type": "code",
   "execution_count": 138,
   "metadata": {
    "collapsed": false
   },
   "outputs": [
    {
     "data": {
      "text/html": [
       "<div>\n",
       "<table border=\"1\" class=\"dataframe\">\n",
       "  <thead>\n",
       "    <tr style=\"text-align: right;\">\n",
       "      <th>Age Group</th>\n",
       "      <th>(0.34, 16.336]</th>\n",
       "      <th>(16.336, 32.252]</th>\n",
       "      <th>(32.252, 48.168]</th>\n",
       "      <th>(48.168, 64.084]</th>\n",
       "      <th>(64.084, 80]</th>\n",
       "    </tr>\n",
       "    <tr>\n",
       "      <th>Survived</th>\n",
       "      <th></th>\n",
       "      <th></th>\n",
       "      <th></th>\n",
       "      <th></th>\n",
       "      <th></th>\n",
       "    </tr>\n",
       "  </thead>\n",
       "  <tbody>\n",
       "    <tr>\n",
       "      <th>0</th>\n",
       "      <td>54</td>\n",
       "      <td>285</td>\n",
       "      <td>161</td>\n",
       "      <td>39</td>\n",
       "      <td>10</td>\n",
       "    </tr>\n",
       "    <tr>\n",
       "      <th>1</th>\n",
       "      <td>57</td>\n",
       "      <td>158</td>\n",
       "      <td>96</td>\n",
       "      <td>30</td>\n",
       "      <td>1</td>\n",
       "    </tr>\n",
       "  </tbody>\n",
       "</table>\n",
       "</div>"
      ],
      "text/plain": [
       "Age Group  (0.34, 16.336]  (16.336, 32.252]  (32.252, 48.168]  \\\n",
       "Survived                                                        \n",
       "0                      54               285               161   \n",
       "1                      57               158                96   \n",
       "\n",
       "Age Group  (48.168, 64.084]  (64.084, 80]  \n",
       "Survived                                   \n",
       "0                        39            10  \n",
       "1                        30             1  "
      ]
     },
     "execution_count": 138,
     "metadata": {},
     "output_type": "execute_result"
    }
   ],
   "source": [
    "age_group = pd.crosstab(titanic_dataset[\"Survived\"], titanic_dataset[\"Age Group\"])\n",
    "age_group"
   ]
  },
  {
   "cell_type": "code",
   "execution_count": 141,
   "metadata": {
    "collapsed": false
   },
   "outputs": [],
   "source": [
    "#mosaic(age_group, [\"Survived\", \"Age Group\"])"
   ]
  },
  {
   "cell_type": "code",
   "execution_count": null,
   "metadata": {
    "collapsed": false
   },
   "outputs": [],
   "source": []
  },
  {
   "cell_type": "code",
   "execution_count": null,
   "metadata": {
    "collapsed": true
   },
   "outputs": [],
   "source": []
  }
 ],
 "metadata": {
  "kernelspec": {
   "display_name": "Python 3",
   "language": "python",
   "name": "python3"
  },
  "language_info": {
   "codemirror_mode": {
    "name": "ipython",
    "version": 3
   },
   "file_extension": ".py",
   "mimetype": "text/x-python",
   "name": "python",
   "nbconvert_exporter": "python",
   "pygments_lexer": "ipython3",
   "version": "3.6.0"
  }
 },
 "nbformat": 4,
 "nbformat_minor": 2
}
